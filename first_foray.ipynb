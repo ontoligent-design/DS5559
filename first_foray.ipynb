{
  "nbformat": 4,
  "nbformat_minor": 0,
  "metadata": {
    "colab": {
      "name": "first-foray.ipynb",
      "version": "0.3.2",
      "provenance": [],
      "collapsed_sections": [],
      "toc_visible": true,
      "include_colab_link": true
    },
    "kernelspec": {
      "name": "python3",
      "display_name": "Python 3"
    }
  },
  "cells": [
    {
      "cell_type": "markdown",
      "metadata": {
        "id": "view-in-github",
        "colab_type": "text"
      },
      "source": [
        "<a href=\"https://colab.research.google.com/github/ontoligent-design/DS5559/blob/master/first_foray.ipynb\" target=\"_parent\"><img src=\"https://colab.research.google.com/assets/colab-badge.svg\" alt=\"Open In Colab\"/></a>"
      ]
    },
    {
      "metadata": {
        "id": "2Ak5FgLN9juI",
        "colab_type": "text"
      },
      "cell_type": "markdown",
      "source": [
        "# Assumption\n",
        "\n",
        "* Do not preserve punction and whitespace \n",
        "* Work with a single text"
      ]
    },
    {
      "metadata": {
        "id": "DeXrp5yP99lR",
        "colab_type": "text"
      },
      "cell_type": "markdown",
      "source": [
        "# Imports"
      ]
    },
    {
      "metadata": {
        "id": "srNjK-u5rjhg",
        "colab_type": "code",
        "colab": {}
      },
      "cell_type": "code",
      "source": [
        "import sqlite3\n",
        "import pandas as pd\n",
        "import re\n",
        "import requests\n",
        "import numpy as np\n",
        "import scipy.stats as sps\n",
        "import matplotlib.pyplot as plt\n",
        "import seaborn as sns; sns.set()"
      ],
      "execution_count": 0,
      "outputs": []
    },
    {
      "metadata": {
        "id": "riekAmy9pN4y",
        "colab_type": "text"
      },
      "cell_type": "markdown",
      "source": [
        "# F0: Prepare the source"
      ]
    },
    {
      "metadata": {
        "id": "ZZymCgLBrnDR",
        "colab_type": "code",
        "colab": {}
      },
      "cell_type": "code",
      "source": [
        "doc_url = 'https://www.gutenberg.org/files/2701/old/moby10b.txt'\n",
        "moby_text = requests.get(doc_url).text.split('\\r\\n')\n",
        "moby_lines_raw = pd.DataFrame(moby_text, columns=['line'])\n",
        "moby_lines_raw.index.name = 'line_id'"
      ],
      "execution_count": 0,
      "outputs": []
    },
    {
      "metadata": {
        "id": "ZyHFCD4sdHw7",
        "colab_type": "code",
        "outputId": "140f7cdd-ab22-442a-c77c-074c3d5fa8be",
        "colab": {
          "base_uri": "https://localhost:8080/",
          "height": 34
        }
      },
      "cell_type": "code",
      "source": [
        "len(moby_lines_raw.index)"
      ],
      "execution_count": 0,
      "outputs": [
        {
          "output_type": "execute_result",
          "data": {
            "text/plain": [
              "23245"
            ]
          },
          "metadata": {
            "tags": []
          },
          "execution_count": 3
        }
      ]
    },
    {
      "metadata": {
        "id": "svoHkGP8dBhb",
        "colab_type": "code",
        "colab": {}
      },
      "cell_type": "code",
      "source": [
        "moby_start = 318\n",
        "moby_end = 23238\n",
        "moby_lines = moby_lines_raw.loc[moby_start:moby_end].copy()\n",
        "moby_lines.reset_index(drop=True, inplace=True)\n",
        "moby_lines.index.name = 'line_id'"
      ],
      "execution_count": 0,
      "outputs": []
    },
    {
      "metadata": {
        "id": "nD0r4q7koNYv",
        "colab_type": "code",
        "outputId": "adb202e4-6e1e-4fab-ad9e-f45ee403ed20",
        "colab": {
          "base_uri": "https://localhost:8080/",
          "height": 390
        }
      },
      "cell_type": "code",
      "source": [
        "moby_lines.head(10)"
      ],
      "execution_count": 0,
      "outputs": [
        {
          "output_type": "execute_result",
          "data": {
            "text/html": [
              "<div>\n",
              "<style scoped>\n",
              "    .dataframe tbody tr th:only-of-type {\n",
              "        vertical-align: middle;\n",
              "    }\n",
              "\n",
              "    .dataframe tbody tr th {\n",
              "        vertical-align: top;\n",
              "    }\n",
              "\n",
              "    .dataframe thead th {\n",
              "        text-align: right;\n",
              "    }\n",
              "</style>\n",
              "<table border=\"1\" class=\"dataframe\">\n",
              "  <thead>\n",
              "    <tr style=\"text-align: right;\">\n",
              "      <th></th>\n",
              "      <th>line</th>\n",
              "    </tr>\n",
              "    <tr>\n",
              "      <th>line_id</th>\n",
              "      <th></th>\n",
              "    </tr>\n",
              "  </thead>\n",
              "  <tbody>\n",
              "    <tr>\n",
              "      <th>0</th>\n",
              "      <td>ETYMOLOGY.</td>\n",
              "    </tr>\n",
              "    <tr>\n",
              "      <th>1</th>\n",
              "      <td></td>\n",
              "    </tr>\n",
              "    <tr>\n",
              "      <th>2</th>\n",
              "      <td>(Supplied by a Late Consumptive Usher to a Gra...</td>\n",
              "    </tr>\n",
              "    <tr>\n",
              "      <th>3</th>\n",
              "      <td></td>\n",
              "    </tr>\n",
              "    <tr>\n",
              "      <th>4</th>\n",
              "      <td>The pale Usher--threadbare in coat, heart, bod...</td>\n",
              "    </tr>\n",
              "    <tr>\n",
              "      <th>5</th>\n",
              "      <td>now.  He was ever dusting his old lexicons and...</td>\n",
              "    </tr>\n",
              "    <tr>\n",
              "      <th>6</th>\n",
              "      <td>handkerchief, mockingly embellished with all t...</td>\n",
              "    </tr>\n",
              "    <tr>\n",
              "      <th>7</th>\n",
              "      <td>known nations of the world.  He loved to dust ...</td>\n",
              "    </tr>\n",
              "    <tr>\n",
              "      <th>8</th>\n",
              "      <td>somehow mildly reminded him of his mortality.</td>\n",
              "    </tr>\n",
              "    <tr>\n",
              "      <th>9</th>\n",
              "      <td></td>\n",
              "    </tr>\n",
              "  </tbody>\n",
              "</table>\n",
              "</div>"
            ],
            "text/plain": [
              "                                                      line\n",
              "line_id                                                   \n",
              "0                                               ETYMOLOGY.\n",
              "1                                                         \n",
              "2        (Supplied by a Late Consumptive Usher to a Gra...\n",
              "3                                                         \n",
              "4        The pale Usher--threadbare in coat, heart, bod...\n",
              "5        now.  He was ever dusting his old lexicons and...\n",
              "6        handkerchief, mockingly embellished with all t...\n",
              "7        known nations of the world.  He loved to dust ...\n",
              "8            somehow mildly reminded him of his mortality.\n",
              "9                                                         "
            ]
          },
          "metadata": {
            "tags": []
          },
          "execution_count": 5
        }
      ]
    },
    {
      "metadata": {
        "id": "UIHSNqttqGnJ",
        "colab_type": "text"
      },
      "cell_type": "markdown",
      "source": [
        "# F1: Identify Chapters and Paragraphs"
      ]
    },
    {
      "metadata": {
        "id": "K-iUb5rOtmzF",
        "colab_type": "text"
      },
      "cell_type": "markdown",
      "source": [
        "## Chapters\n",
        "\n",
        "We apply the **milestone method** to identify, label, and group lines."
      ]
    },
    {
      "metadata": {
        "id": "7sQvGDzMeMDX",
        "colab_type": "code",
        "colab": {}
      },
      "cell_type": "code",
      "source": [
        "moby_lines['chap_ms'] = moby_lines.line\\\n",
        "  .str.match(r'^(?:ETYMOLOGY|CHAPTER \\d+|Epilog)')"
      ],
      "execution_count": 0,
      "outputs": []
    },
    {
      "metadata": {
        "id": "lmgQ0GHLt8WY",
        "colab_type": "code",
        "outputId": "52ce3241-1122-438a-8d73-ea0b8ed3da84",
        "colab": {
          "base_uri": "https://localhost:8080/",
          "height": 235
        }
      },
      "cell_type": "code",
      "source": [
        "moby_lines.head()"
      ],
      "execution_count": 0,
      "outputs": [
        {
          "output_type": "execute_result",
          "data": {
            "text/html": [
              "<div>\n",
              "<style scoped>\n",
              "    .dataframe tbody tr th:only-of-type {\n",
              "        vertical-align: middle;\n",
              "    }\n",
              "\n",
              "    .dataframe tbody tr th {\n",
              "        vertical-align: top;\n",
              "    }\n",
              "\n",
              "    .dataframe thead th {\n",
              "        text-align: right;\n",
              "    }\n",
              "</style>\n",
              "<table border=\"1\" class=\"dataframe\">\n",
              "  <thead>\n",
              "    <tr style=\"text-align: right;\">\n",
              "      <th></th>\n",
              "      <th>line</th>\n",
              "      <th>chap_ms</th>\n",
              "    </tr>\n",
              "    <tr>\n",
              "      <th>line_id</th>\n",
              "      <th></th>\n",
              "      <th></th>\n",
              "    </tr>\n",
              "  </thead>\n",
              "  <tbody>\n",
              "    <tr>\n",
              "      <th>0</th>\n",
              "      <td>ETYMOLOGY.</td>\n",
              "      <td>True</td>\n",
              "    </tr>\n",
              "    <tr>\n",
              "      <th>1</th>\n",
              "      <td></td>\n",
              "      <td>False</td>\n",
              "    </tr>\n",
              "    <tr>\n",
              "      <th>2</th>\n",
              "      <td>(Supplied by a Late Consumptive Usher to a Gra...</td>\n",
              "      <td>False</td>\n",
              "    </tr>\n",
              "    <tr>\n",
              "      <th>3</th>\n",
              "      <td></td>\n",
              "      <td>False</td>\n",
              "    </tr>\n",
              "    <tr>\n",
              "      <th>4</th>\n",
              "      <td>The pale Usher--threadbare in coat, heart, bod...</td>\n",
              "      <td>False</td>\n",
              "    </tr>\n",
              "  </tbody>\n",
              "</table>\n",
              "</div>"
            ],
            "text/plain": [
              "                                                      line  chap_ms\n",
              "line_id                                                            \n",
              "0                                               ETYMOLOGY.     True\n",
              "1                                                             False\n",
              "2        (Supplied by a Late Consumptive Usher to a Gra...    False\n",
              "3                                                             False\n",
              "4        The pale Usher--threadbare in coat, heart, bod...    False"
            ]
          },
          "metadata": {
            "tags": []
          },
          "execution_count": 7
        }
      ]
    },
    {
      "metadata": {
        "id": "JRWDTODfpiQD",
        "colab_type": "code",
        "colab": {}
      },
      "cell_type": "code",
      "source": [
        "moby_lines['chap_idx'] = None # WHY\n",
        "moby_lines['chap_idx'] = moby_lines[moby_lines.chap_ms]\\\n",
        "  .apply(lambda x: x.index)\n",
        "moby_lines.chap_idx = moby_lines.chap_idx.ffill()\n",
        "moby_lines.chap_idx = moby_lines['chap_idx'].astype('int')"
      ],
      "execution_count": 0,
      "outputs": []
    },
    {
      "metadata": {
        "id": "08SHQGllqCz3",
        "colab_type": "code",
        "outputId": "5cf6215f-f6fb-4d9c-88a8-22f5dc00ba9d",
        "colab": {
          "base_uri": "https://localhost:8080/",
          "height": 235
        }
      },
      "cell_type": "code",
      "source": [
        "moby_lines.head()"
      ],
      "execution_count": 0,
      "outputs": [
        {
          "output_type": "execute_result",
          "data": {
            "text/html": [
              "<div>\n",
              "<style scoped>\n",
              "    .dataframe tbody tr th:only-of-type {\n",
              "        vertical-align: middle;\n",
              "    }\n",
              "\n",
              "    .dataframe tbody tr th {\n",
              "        vertical-align: top;\n",
              "    }\n",
              "\n",
              "    .dataframe thead th {\n",
              "        text-align: right;\n",
              "    }\n",
              "</style>\n",
              "<table border=\"1\" class=\"dataframe\">\n",
              "  <thead>\n",
              "    <tr style=\"text-align: right;\">\n",
              "      <th></th>\n",
              "      <th>line</th>\n",
              "      <th>chap_ms</th>\n",
              "      <th>chap_idx</th>\n",
              "    </tr>\n",
              "    <tr>\n",
              "      <th>line_id</th>\n",
              "      <th></th>\n",
              "      <th></th>\n",
              "      <th></th>\n",
              "    </tr>\n",
              "  </thead>\n",
              "  <tbody>\n",
              "    <tr>\n",
              "      <th>0</th>\n",
              "      <td>ETYMOLOGY.</td>\n",
              "      <td>True</td>\n",
              "      <td>0</td>\n",
              "    </tr>\n",
              "    <tr>\n",
              "      <th>1</th>\n",
              "      <td></td>\n",
              "      <td>False</td>\n",
              "      <td>0</td>\n",
              "    </tr>\n",
              "    <tr>\n",
              "      <th>2</th>\n",
              "      <td>(Supplied by a Late Consumptive Usher to a Gra...</td>\n",
              "      <td>False</td>\n",
              "      <td>0</td>\n",
              "    </tr>\n",
              "    <tr>\n",
              "      <th>3</th>\n",
              "      <td></td>\n",
              "      <td>False</td>\n",
              "      <td>0</td>\n",
              "    </tr>\n",
              "    <tr>\n",
              "      <th>4</th>\n",
              "      <td>The pale Usher--threadbare in coat, heart, bod...</td>\n",
              "      <td>False</td>\n",
              "      <td>0</td>\n",
              "    </tr>\n",
              "  </tbody>\n",
              "</table>\n",
              "</div>"
            ],
            "text/plain": [
              "                                                      line  chap_ms  chap_idx\n",
              "line_id                                                                      \n",
              "0                                               ETYMOLOGY.     True         0\n",
              "1                                                             False         0\n",
              "2        (Supplied by a Late Consumptive Usher to a Gra...    False         0\n",
              "3                                                             False         0\n",
              "4        The pale Usher--threadbare in coat, heart, bod...    False         0"
            ]
          },
          "metadata": {
            "tags": []
          },
          "execution_count": 9
        }
      ]
    },
    {
      "metadata": {
        "id": "gItwSlhkq0Gs",
        "colab_type": "code",
        "colab": {}
      },
      "cell_type": "code",
      "source": [
        "moby_chaps = moby_lines.groupby('chap_idx').line\\\n",
        "  .apply(lambda x: '\\n'.join(x[:])).to_frame().reset_index(drop=True)\n",
        "moby_chaps.index.name = 'chap_id'"
      ],
      "execution_count": 0,
      "outputs": []
    },
    {
      "metadata": {
        "id": "dyjnNP0WrHKV",
        "colab_type": "code",
        "outputId": "a813ebc1-36af-4034-844f-df5fd2924027",
        "colab": {
          "base_uri": "https://localhost:8080/",
          "height": 235
        }
      },
      "cell_type": "code",
      "source": [
        "moby_chaps.head()"
      ],
      "execution_count": 0,
      "outputs": [
        {
          "output_type": "execute_result",
          "data": {
            "text/html": [
              "<div>\n",
              "<style scoped>\n",
              "    .dataframe tbody tr th:only-of-type {\n",
              "        vertical-align: middle;\n",
              "    }\n",
              "\n",
              "    .dataframe tbody tr th {\n",
              "        vertical-align: top;\n",
              "    }\n",
              "\n",
              "    .dataframe thead th {\n",
              "        text-align: right;\n",
              "    }\n",
              "</style>\n",
              "<table border=\"1\" class=\"dataframe\">\n",
              "  <thead>\n",
              "    <tr style=\"text-align: right;\">\n",
              "      <th></th>\n",
              "      <th>line</th>\n",
              "    </tr>\n",
              "    <tr>\n",
              "      <th>chap_id</th>\n",
              "      <th></th>\n",
              "    </tr>\n",
              "  </thead>\n",
              "  <tbody>\n",
              "    <tr>\n",
              "      <th>0</th>\n",
              "      <td>ETYMOLOGY.\\n\\n(Supplied by a Late Consumptive ...</td>\n",
              "    </tr>\n",
              "    <tr>\n",
              "      <th>1</th>\n",
              "      <td>CHAPTER 1\\n\\nLoomings.\\n\\n\\nCall me Ishmael.  ...</td>\n",
              "    </tr>\n",
              "    <tr>\n",
              "      <th>2</th>\n",
              "      <td>CHAPTER 2\\n\\nThe Carpet-Bag.\\n\\n\\nI stuffed a ...</td>\n",
              "    </tr>\n",
              "    <tr>\n",
              "      <th>3</th>\n",
              "      <td>CHAPTER 3\\n\\nThe Spouter-Inn.\\n\\n\\nEntering th...</td>\n",
              "    </tr>\n",
              "    <tr>\n",
              "      <th>4</th>\n",
              "      <td>CHAPTER 4\\n\\nThe Counterpane.\\n\\n\\nUpon waking...</td>\n",
              "    </tr>\n",
              "  </tbody>\n",
              "</table>\n",
              "</div>"
            ],
            "text/plain": [
              "                                                      line\n",
              "chap_id                                                   \n",
              "0        ETYMOLOGY.\\n\\n(Supplied by a Late Consumptive ...\n",
              "1        CHAPTER 1\\n\\nLoomings.\\n\\n\\nCall me Ishmael.  ...\n",
              "2        CHAPTER 2\\n\\nThe Carpet-Bag.\\n\\n\\nI stuffed a ...\n",
              "3        CHAPTER 3\\n\\nThe Spouter-Inn.\\n\\n\\nEntering th...\n",
              "4        CHAPTER 4\\n\\nThe Counterpane.\\n\\n\\nUpon waking..."
            ]
          },
          "metadata": {
            "tags": []
          },
          "execution_count": 11
        }
      ]
    },
    {
      "metadata": {
        "id": "wiBijjwTh5_n",
        "colab_type": "code",
        "colab": {}
      },
      "cell_type": "code",
      "source": [
        "# Optionally removed chapter names here (split and pop off first chunk)"
      ],
      "execution_count": 0,
      "outputs": []
    },
    {
      "metadata": {
        "id": "lh_58Hv3twjl",
        "colab_type": "text"
      },
      "cell_type": "markdown",
      "source": [
        "## Paragraphs"
      ]
    },
    {
      "metadata": {
        "id": "T5U1H3uyxrng",
        "colab_type": "code",
        "colab": {}
      },
      "cell_type": "code",
      "source": [
        "moby_paras = moby_chaps.line.str.split(r'\\n\\n+', expand=True).stack()\\\n",
        "  .to_frame().reset_index().rename(columns={'level_1':'para_id', 0:'para'})\n",
        "moby_paras.set_index(['chap_id','para_id'], inplace=True)\n",
        "moby_paras.para = moby_paras.para.str.replace(r'\\n', ' ')"
      ],
      "execution_count": 0,
      "outputs": []
    },
    {
      "metadata": {
        "id": "UOvzCASZ9fyW",
        "colab_type": "code",
        "outputId": "7dc473d4-fc07-4958-c45d-c4d60284c7a5",
        "colab": {
          "base_uri": "https://localhost:8080/",
          "height": 235
        }
      },
      "cell_type": "code",
      "source": [
        "moby_paras.head()"
      ],
      "execution_count": 0,
      "outputs": [
        {
          "output_type": "execute_result",
          "data": {
            "text/html": [
              "<div>\n",
              "<style scoped>\n",
              "    .dataframe tbody tr th:only-of-type {\n",
              "        vertical-align: middle;\n",
              "    }\n",
              "\n",
              "    .dataframe tbody tr th {\n",
              "        vertical-align: top;\n",
              "    }\n",
              "\n",
              "    .dataframe thead th {\n",
              "        text-align: right;\n",
              "    }\n",
              "</style>\n",
              "<table border=\"1\" class=\"dataframe\">\n",
              "  <thead>\n",
              "    <tr style=\"text-align: right;\">\n",
              "      <th></th>\n",
              "      <th></th>\n",
              "      <th>para</th>\n",
              "    </tr>\n",
              "    <tr>\n",
              "      <th>chap_id</th>\n",
              "      <th>para_id</th>\n",
              "      <th></th>\n",
              "    </tr>\n",
              "  </thead>\n",
              "  <tbody>\n",
              "    <tr>\n",
              "      <th rowspan=\"5\" valign=\"top\">0</th>\n",
              "      <th>0</th>\n",
              "      <td>ETYMOLOGY.</td>\n",
              "    </tr>\n",
              "    <tr>\n",
              "      <th>1</th>\n",
              "      <td>(Supplied by a Late Consumptive Usher to a Gra...</td>\n",
              "    </tr>\n",
              "    <tr>\n",
              "      <th>2</th>\n",
              "      <td>The pale Usher--threadbare in coat, heart, bod...</td>\n",
              "    </tr>\n",
              "    <tr>\n",
              "      <th>3</th>\n",
              "      <td>\"While you take in hand to school others, and ...</td>\n",
              "    </tr>\n",
              "    <tr>\n",
              "      <th>4</th>\n",
              "      <td>\"WHALE. ... Sw. and Dan. HVAL.  This animal is...</td>\n",
              "    </tr>\n",
              "  </tbody>\n",
              "</table>\n",
              "</div>"
            ],
            "text/plain": [
              "                                                              para\n",
              "chap_id para_id                                                   \n",
              "0       0                                               ETYMOLOGY.\n",
              "        1        (Supplied by a Late Consumptive Usher to a Gra...\n",
              "        2        The pale Usher--threadbare in coat, heart, bod...\n",
              "        3        \"While you take in hand to school others, and ...\n",
              "        4        \"WHALE. ... Sw. and Dan. HVAL.  This animal is..."
            ]
          },
          "metadata": {
            "tags": []
          },
          "execution_count": 14
        }
      ]
    },
    {
      "metadata": {
        "id": "v1zNwm1tx_DO",
        "colab_type": "code",
        "outputId": "5bd567df-8003-44bc-c4c1-7169679d95f1",
        "colab": {
          "base_uri": "https://localhost:8080/",
          "height": 54
        }
      },
      "cell_type": "code",
      "source": [
        "moby_paras.loc[(2,3)].para"
      ],
      "execution_count": 0,
      "outputs": [
        {
          "output_type": "execute_result",
          "data": {
            "text/plain": [
              "'As most young candidates for the pains and penalties of whaling stop at this same New Bedford, thence to embark on their voyage, it may as well be related that I, for one, had no idea of so doing.  For my mind was made up to sail in no other than a Nantucket craft, because there was a fine, boisterous something about everything connected with that famous old island, which amazingly pleased me.  Besides though New Bedford has of late been gradually monopolising the business of whaling, and though in this matter poor old Nantucket is now much behind her, yet Nantucket was her great original--the Tyre of this Carthage;--the place where the first dead American whale was stranded.  Where else but from Nantucket did those aboriginal whalemen, the Red-Men, first sally out in canoes to give chase to the Leviathan?  And where but from Nantucket, too, did that first adventurous little sloop put forth, partly laden with imported cobblestones--so goes the story--to throw at the whales, in order to discover when they were nigh enough to risk a harpoon from the bowsprit?'"
            ]
          },
          "metadata": {
            "tags": []
          },
          "execution_count": 15
        }
      ]
    },
    {
      "metadata": {
        "id": "L6E-ge2cxxxY",
        "colab_type": "text"
      },
      "cell_type": "markdown",
      "source": [
        "# F2: Identify Sentences and Tokens\n",
        "\n",
        "We identify tokens by delimitter parsing. Delimitters are represented by character classes."
      ]
    },
    {
      "metadata": {
        "id": "HWqCCMKAEoHU",
        "colab_type": "text"
      },
      "cell_type": "markdown",
      "source": [
        "## Sentences\n",
        "\n",
        "Sentence are actually a container."
      ]
    },
    {
      "metadata": {
        "id": "AFc9ccC-29HK",
        "colab_type": "code",
        "colab": {}
      },
      "cell_type": "code",
      "source": [
        "moby_sent = moby_paras.para.str.split(r'(?:[\":;.?!\\(\\)]|--)', expand=True)\\\n",
        "  .stack()\\\n",
        "  .to_frame().reset_index().rename(columns={'level_2':'sent_id', 0:'sent'})\n",
        "moby_sent.set_index(['chap_id', 'para_id', 'sent_id'], inplace=True)\n",
        "moby_sent = moby_sent[~moby_sent.sent.str.match(r'^\\s*$')]"
      ],
      "execution_count": 0,
      "outputs": []
    },
    {
      "metadata": {
        "id": "KRG5B7nrgocg",
        "colab_type": "code",
        "colab": {}
      },
      "cell_type": "code",
      "source": [
        "# Re-order the sentence IDs -- NEED TO GENERALIZE THIS PATTERN\n",
        "moby_sent['new_sent_idx'] = moby_sent.groupby(['chap_id','para_id']).cumcount()\n",
        "moby_sent = moby_sent.reset_index()\n",
        "moby_sent.rename(columns={'sent_id':'delete_me'}, inplace=True)\n",
        "moby_sent.rename(columns={'new_sent_idx':'sent_id'}, inplace=True)\n",
        "moby_sent = moby_sent.set_index(['chap_id','para_id','sent_id'])['sent']\\\n",
        "  .to_frame()"
      ],
      "execution_count": 0,
      "outputs": []
    },
    {
      "metadata": {
        "id": "evoI3GzT_eAb",
        "colab_type": "code",
        "outputId": "795f90ed-d08a-401a-c991-1e108fe5e28a",
        "colab": {
          "base_uri": "https://localhost:8080/",
          "height": 235
        }
      },
      "cell_type": "code",
      "source": [
        "moby_sent.head()"
      ],
      "execution_count": 0,
      "outputs": [
        {
          "output_type": "execute_result",
          "data": {
            "text/html": [
              "<div>\n",
              "<style scoped>\n",
              "    .dataframe tbody tr th:only-of-type {\n",
              "        vertical-align: middle;\n",
              "    }\n",
              "\n",
              "    .dataframe tbody tr th {\n",
              "        vertical-align: top;\n",
              "    }\n",
              "\n",
              "    .dataframe thead th {\n",
              "        text-align: right;\n",
              "    }\n",
              "</style>\n",
              "<table border=\"1\" class=\"dataframe\">\n",
              "  <thead>\n",
              "    <tr style=\"text-align: right;\">\n",
              "      <th></th>\n",
              "      <th></th>\n",
              "      <th></th>\n",
              "      <th>sent</th>\n",
              "    </tr>\n",
              "    <tr>\n",
              "      <th>chap_id</th>\n",
              "      <th>para_id</th>\n",
              "      <th>sent_id</th>\n",
              "      <th></th>\n",
              "    </tr>\n",
              "  </thead>\n",
              "  <tbody>\n",
              "    <tr>\n",
              "      <th rowspan=\"5\" valign=\"top\">0</th>\n",
              "      <th>0</th>\n",
              "      <th>0</th>\n",
              "      <td>ETYMOLOGY</td>\n",
              "    </tr>\n",
              "    <tr>\n",
              "      <th>1</th>\n",
              "      <th>0</th>\n",
              "      <td>Supplied by a Late Consumptive Usher to a Gram...</td>\n",
              "    </tr>\n",
              "    <tr>\n",
              "      <th rowspan=\"3\" valign=\"top\">2</th>\n",
              "      <th>0</th>\n",
              "      <td>The pale Usher</td>\n",
              "    </tr>\n",
              "    <tr>\n",
              "      <th>1</th>\n",
              "      <td>threadbare in coat, heart, body, and brain</td>\n",
              "    </tr>\n",
              "    <tr>\n",
              "      <th>2</th>\n",
              "      <td>I see him now</td>\n",
              "    </tr>\n",
              "  </tbody>\n",
              "</table>\n",
              "</div>"
            ],
            "text/plain": [
              "                                                                      sent\n",
              "chap_id para_id sent_id                                                   \n",
              "0       0       0                                                ETYMOLOGY\n",
              "        1       0        Supplied by a Late Consumptive Usher to a Gram...\n",
              "        2       0                                           The pale Usher\n",
              "                1               threadbare in coat, heart, body, and brain\n",
              "                2                                            I see him now"
            ]
          },
          "metadata": {
            "tags": []
          },
          "execution_count": 18
        }
      ]
    },
    {
      "metadata": {
        "id": "zx7fNYzFE98O",
        "colab_type": "text"
      },
      "cell_type": "markdown",
      "source": [
        "## Tokens"
      ]
    },
    {
      "metadata": {
        "id": "qk-NeSto_yPV",
        "colab_type": "code",
        "colab": {}
      },
      "cell_type": "code",
      "source": [
        "moby_tokens = moby_sent.sent.str.split(r'\\W+', expand=True).stack()\\\n",
        "  .to_frame().reset_index().rename(columns={'level_3':'token_id', 0:'token'})\n",
        "moby_tokens.set_index(['chap_id', 'para_id', 'sent_id', 'token_id'], \n",
        "                      inplace=True)"
      ],
      "execution_count": 0,
      "outputs": []
    },
    {
      "metadata": {
        "id": "XgBBWV45XfV5",
        "colab_type": "code",
        "outputId": "4042f183-7f81-4bd6-cc7b-12438c326203",
        "colab": {
          "base_uri": "https://localhost:8080/",
          "height": 235
        }
      },
      "cell_type": "code",
      "source": [
        "moby_tokens.head()"
      ],
      "execution_count": 0,
      "outputs": [
        {
          "output_type": "execute_result",
          "data": {
            "text/html": [
              "<div>\n",
              "<style scoped>\n",
              "    .dataframe tbody tr th:only-of-type {\n",
              "        vertical-align: middle;\n",
              "    }\n",
              "\n",
              "    .dataframe tbody tr th {\n",
              "        vertical-align: top;\n",
              "    }\n",
              "\n",
              "    .dataframe thead th {\n",
              "        text-align: right;\n",
              "    }\n",
              "</style>\n",
              "<table border=\"1\" class=\"dataframe\">\n",
              "  <thead>\n",
              "    <tr style=\"text-align: right;\">\n",
              "      <th></th>\n",
              "      <th></th>\n",
              "      <th></th>\n",
              "      <th></th>\n",
              "      <th>token</th>\n",
              "    </tr>\n",
              "    <tr>\n",
              "      <th>chap_id</th>\n",
              "      <th>para_id</th>\n",
              "      <th>sent_id</th>\n",
              "      <th>token_id</th>\n",
              "      <th></th>\n",
              "    </tr>\n",
              "  </thead>\n",
              "  <tbody>\n",
              "    <tr>\n",
              "      <th rowspan=\"5\" valign=\"top\">0</th>\n",
              "      <th>0</th>\n",
              "      <th>0</th>\n",
              "      <th>0</th>\n",
              "      <td>ETYMOLOGY</td>\n",
              "    </tr>\n",
              "    <tr>\n",
              "      <th rowspan=\"4\" valign=\"top\">1</th>\n",
              "      <th rowspan=\"4\" valign=\"top\">0</th>\n",
              "      <th>0</th>\n",
              "      <td>Supplied</td>\n",
              "    </tr>\n",
              "    <tr>\n",
              "      <th>1</th>\n",
              "      <td>by</td>\n",
              "    </tr>\n",
              "    <tr>\n",
              "      <th>2</th>\n",
              "      <td>a</td>\n",
              "    </tr>\n",
              "    <tr>\n",
              "      <th>3</th>\n",
              "      <td>Late</td>\n",
              "    </tr>\n",
              "  </tbody>\n",
              "</table>\n",
              "</div>"
            ],
            "text/plain": [
              "                                      token\n",
              "chap_id para_id sent_id token_id           \n",
              "0       0       0       0         ETYMOLOGY\n",
              "        1       0       0          Supplied\n",
              "                        1                by\n",
              "                        2                 a\n",
              "                        3              Late"
            ]
          },
          "metadata": {
            "tags": []
          },
          "execution_count": 20
        }
      ]
    },
    {
      "metadata": {
        "id": "ljeLhSU5BRoW",
        "colab_type": "code",
        "colab": {}
      },
      "cell_type": "code",
      "source": [
        "moby_tokens['norm'] = moby_tokens.token.str.lower()"
      ],
      "execution_count": 0,
      "outputs": []
    },
    {
      "metadata": {
        "id": "yFNQcTEMpohR",
        "colab_type": "code",
        "outputId": "13fea8cc-bf06-4dde-98d8-62c51aff9a79",
        "colab": {
          "base_uri": "https://localhost:8080/",
          "height": 235
        }
      },
      "cell_type": "code",
      "source": [
        "moby_tokens.head()"
      ],
      "execution_count": 0,
      "outputs": [
        {
          "output_type": "execute_result",
          "data": {
            "text/html": [
              "<div>\n",
              "<style scoped>\n",
              "    .dataframe tbody tr th:only-of-type {\n",
              "        vertical-align: middle;\n",
              "    }\n",
              "\n",
              "    .dataframe tbody tr th {\n",
              "        vertical-align: top;\n",
              "    }\n",
              "\n",
              "    .dataframe thead th {\n",
              "        text-align: right;\n",
              "    }\n",
              "</style>\n",
              "<table border=\"1\" class=\"dataframe\">\n",
              "  <thead>\n",
              "    <tr style=\"text-align: right;\">\n",
              "      <th></th>\n",
              "      <th></th>\n",
              "      <th></th>\n",
              "      <th></th>\n",
              "      <th>token</th>\n",
              "      <th>norm</th>\n",
              "    </tr>\n",
              "    <tr>\n",
              "      <th>chap_id</th>\n",
              "      <th>para_id</th>\n",
              "      <th>sent_id</th>\n",
              "      <th>token_id</th>\n",
              "      <th></th>\n",
              "      <th></th>\n",
              "    </tr>\n",
              "  </thead>\n",
              "  <tbody>\n",
              "    <tr>\n",
              "      <th rowspan=\"5\" valign=\"top\">0</th>\n",
              "      <th>0</th>\n",
              "      <th>0</th>\n",
              "      <th>0</th>\n",
              "      <td>ETYMOLOGY</td>\n",
              "      <td>etymology</td>\n",
              "    </tr>\n",
              "    <tr>\n",
              "      <th rowspan=\"4\" valign=\"top\">1</th>\n",
              "      <th rowspan=\"4\" valign=\"top\">0</th>\n",
              "      <th>0</th>\n",
              "      <td>Supplied</td>\n",
              "      <td>supplied</td>\n",
              "    </tr>\n",
              "    <tr>\n",
              "      <th>1</th>\n",
              "      <td>by</td>\n",
              "      <td>by</td>\n",
              "    </tr>\n",
              "    <tr>\n",
              "      <th>2</th>\n",
              "      <td>a</td>\n",
              "      <td>a</td>\n",
              "    </tr>\n",
              "    <tr>\n",
              "      <th>3</th>\n",
              "      <td>Late</td>\n",
              "      <td>late</td>\n",
              "    </tr>\n",
              "  </tbody>\n",
              "</table>\n",
              "</div>"
            ],
            "text/plain": [
              "                                      token       norm\n",
              "chap_id para_id sent_id token_id                      \n",
              "0       0       0       0         ETYMOLOGY  etymology\n",
              "        1       0       0          Supplied   supplied\n",
              "                        1                by         by\n",
              "                        2                 a          a\n",
              "                        3              Late       late"
            ]
          },
          "metadata": {
            "tags": []
          },
          "execution_count": 22
        }
      ]
    },
    {
      "metadata": {
        "id": "l9ngX0AdjWge",
        "colab_type": "text"
      },
      "cell_type": "markdown",
      "source": [
        "# F2: Create Vocabulary"
      ]
    },
    {
      "metadata": {
        "id": "L9VSreDtjZAx",
        "colab_type": "code",
        "colab": {}
      },
      "cell_type": "code",
      "source": [
        "moby_vocab = pd.DataFrame(moby_tokens.token.str.lower().sort_values().unique(), columns=['term'])\n",
        "moby_vocab.index.name = 'term_id'"
      ],
      "execution_count": 0,
      "outputs": []
    },
    {
      "metadata": {
        "id": "j7WxDnvSkPdp",
        "colab_type": "code",
        "outputId": "855b264b-c9da-47ba-e869-3e79362a347e",
        "colab": {
          "base_uri": "https://localhost:8080/",
          "height": 390
        }
      },
      "cell_type": "code",
      "source": [
        "moby_vocab.sample(10)"
      ],
      "execution_count": 0,
      "outputs": [
        {
          "output_type": "execute_result",
          "data": {
            "text/html": [
              "<div>\n",
              "<style scoped>\n",
              "    .dataframe tbody tr th:only-of-type {\n",
              "        vertical-align: middle;\n",
              "    }\n",
              "\n",
              "    .dataframe tbody tr th {\n",
              "        vertical-align: top;\n",
              "    }\n",
              "\n",
              "    .dataframe thead th {\n",
              "        text-align: right;\n",
              "    }\n",
              "</style>\n",
              "<table border=\"1\" class=\"dataframe\">\n",
              "  <thead>\n",
              "    <tr style=\"text-align: right;\">\n",
              "      <th></th>\n",
              "      <th>term</th>\n",
              "    </tr>\n",
              "    <tr>\n",
              "      <th>term_id</th>\n",
              "      <th></th>\n",
              "    </tr>\n",
              "  </thead>\n",
              "  <tbody>\n",
              "    <tr>\n",
              "      <th>2651</th>\n",
              "      <td>chosen</td>\n",
              "    </tr>\n",
              "    <tr>\n",
              "      <th>2222</th>\n",
              "      <td>calling</td>\n",
              "    </tr>\n",
              "    <tr>\n",
              "      <th>8829</th>\n",
              "      <td>lion</td>\n",
              "    </tr>\n",
              "    <tr>\n",
              "      <th>16227</th>\n",
              "      <td>valves</td>\n",
              "    </tr>\n",
              "    <tr>\n",
              "      <th>14724</th>\n",
              "      <td>swam</td>\n",
              "    </tr>\n",
              "    <tr>\n",
              "      <th>8317</th>\n",
              "      <td>judgmatically</td>\n",
              "    </tr>\n",
              "    <tr>\n",
              "      <th>7357</th>\n",
              "      <td>hull</td>\n",
              "    </tr>\n",
              "    <tr>\n",
              "      <th>13875</th>\n",
              "      <td>sounds</td>\n",
              "    </tr>\n",
              "    <tr>\n",
              "      <th>4338</th>\n",
              "      <td>discoverer</td>\n",
              "    </tr>\n",
              "    <tr>\n",
              "      <th>3831</th>\n",
              "      <td>darien</td>\n",
              "    </tr>\n",
              "  </tbody>\n",
              "</table>\n",
              "</div>"
            ],
            "text/plain": [
              "                  term\n",
              "term_id               \n",
              "2651            chosen\n",
              "2222           calling\n",
              "8829              lion\n",
              "16227           valves\n",
              "14724             swam\n",
              "8317     judgmatically\n",
              "7357              hull\n",
              "13875           sounds\n",
              "4338        discoverer\n",
              "3831            darien"
            ]
          },
          "metadata": {
            "tags": []
          },
          "execution_count": 24
        }
      ]
    },
    {
      "metadata": {
        "id": "jVTvrvKWntNB",
        "colab_type": "text"
      },
      "cell_type": "markdown",
      "source": [
        "## Get Term ID function"
      ]
    },
    {
      "metadata": {
        "id": "jLqvx9dwGr_S",
        "colab_type": "code",
        "colab": {}
      },
      "cell_type": "code",
      "source": [
        "def term_id(term):\n",
        "  try:\n",
        "    return moby_vocab.query(\"term == @term\").index[0]\n",
        "  except IndexError as e:\n",
        "    return None"
      ],
      "execution_count": 0,
      "outputs": []
    },
    {
      "metadata": {
        "id": "K_pFnGkf3uQZ",
        "colab_type": "text"
      },
      "cell_type": "markdown",
      "source": [
        "## Stopwords"
      ]
    },
    {
      "metadata": {
        "id": "-rpxAqREqTSg",
        "colab_type": "code",
        "colab": {}
      },
      "cell_type": "code",
      "source": [
        "stopwords = requests\\\n",
        "  .get('https://algs4.cs.princeton.edu/35applications/stopwords.txt')\\\n",
        "  .text.split('\\n')\n",
        "stopwords[:5]\n",
        "moby_vocab['sw'] = moby_vocab.term.apply(lambda x: \n",
        "                                         x in stopwords \n",
        "                                         or len(x) < 2 \n",
        "                                         or not x.isalpha())"
      ],
      "execution_count": 0,
      "outputs": []
    },
    {
      "metadata": {
        "id": "ZKUIvuXbzXRH",
        "colab_type": "code",
        "outputId": "7fc6bfbc-7279-4f4f-eb84-743e606d5877",
        "colab": {
          "base_uri": "https://localhost:8080/",
          "height": 204
        }
      },
      "cell_type": "code",
      "source": [
        "moby_vocab[moby_vocab.term.str.match(r'\\d(?:nd|th|st|rd)')]"
      ],
      "execution_count": 0,
      "outputs": [
        {
          "output_type": "execute_result",
          "data": {
            "text/html": [
              "<div>\n",
              "<style scoped>\n",
              "    .dataframe tbody tr th:only-of-type {\n",
              "        vertical-align: middle;\n",
              "    }\n",
              "\n",
              "    .dataframe tbody tr th {\n",
              "        vertical-align: top;\n",
              "    }\n",
              "\n",
              "    .dataframe thead th {\n",
              "        text-align: right;\n",
              "    }\n",
              "</style>\n",
              "<table border=\"1\" class=\"dataframe\">\n",
              "  <thead>\n",
              "    <tr style=\"text-align: right;\">\n",
              "      <th></th>\n",
              "      <th>term</th>\n",
              "      <th>sw</th>\n",
              "    </tr>\n",
              "    <tr>\n",
              "      <th>term_id</th>\n",
              "      <th></th>\n",
              "      <th></th>\n",
              "    </tr>\n",
              "  </thead>\n",
              "  <tbody>\n",
              "    <tr>\n",
              "      <th>85</th>\n",
              "      <td>1st</td>\n",
              "      <td>True</td>\n",
              "    </tr>\n",
              "    <tr>\n",
              "      <th>101</th>\n",
              "      <td>2nd</td>\n",
              "      <td>True</td>\n",
              "    </tr>\n",
              "    <tr>\n",
              "      <th>128</th>\n",
              "      <td>4th</td>\n",
              "      <td>True</td>\n",
              "    </tr>\n",
              "    <tr>\n",
              "      <th>142</th>\n",
              "      <td>5th</td>\n",
              "      <td>True</td>\n",
              "    </tr>\n",
              "  </tbody>\n",
              "</table>\n",
              "</div>"
            ],
            "text/plain": [
              "        term    sw\n",
              "term_id           \n",
              "85       1st  True\n",
              "101      2nd  True\n",
              "128      4th  True\n",
              "142      5th  True"
            ]
          },
          "metadata": {
            "tags": []
          },
          "execution_count": 27
        }
      ]
    },
    {
      "metadata": {
        "id": "ulK6X32g4Lu2",
        "colab_type": "text"
      },
      "cell_type": "markdown",
      "source": [
        "## Replace terms with IDs"
      ]
    },
    {
      "metadata": {
        "id": "Je15iXnh4Pvk",
        "colab_type": "code",
        "colab": {}
      },
      "cell_type": "code",
      "source": [
        "moby_tokens['term_id'] = moby_tokens.norm.map(moby_vocab.reset_index()\\\n",
        "  .set_index('term').term_id)\\\n",
        "  .fillna(-1).astype('int')"
      ],
      "execution_count": 0,
      "outputs": []
    },
    {
      "metadata": {
        "id": "wmqlgsfMBSl-",
        "colab_type": "code",
        "outputId": "c2366e20-5648-48dd-812b-099b924752d8",
        "colab": {
          "base_uri": "https://localhost:8080/",
          "height": 235
        }
      },
      "cell_type": "code",
      "source": [
        "moby_tokens.head()"
      ],
      "execution_count": 0,
      "outputs": [
        {
          "output_type": "execute_result",
          "data": {
            "text/html": [
              "<div>\n",
              "<style scoped>\n",
              "    .dataframe tbody tr th:only-of-type {\n",
              "        vertical-align: middle;\n",
              "    }\n",
              "\n",
              "    .dataframe tbody tr th {\n",
              "        vertical-align: top;\n",
              "    }\n",
              "\n",
              "    .dataframe thead th {\n",
              "        text-align: right;\n",
              "    }\n",
              "</style>\n",
              "<table border=\"1\" class=\"dataframe\">\n",
              "  <thead>\n",
              "    <tr style=\"text-align: right;\">\n",
              "      <th></th>\n",
              "      <th></th>\n",
              "      <th></th>\n",
              "      <th></th>\n",
              "      <th>token</th>\n",
              "      <th>norm</th>\n",
              "      <th>term_id</th>\n",
              "    </tr>\n",
              "    <tr>\n",
              "      <th>chap_id</th>\n",
              "      <th>para_id</th>\n",
              "      <th>sent_id</th>\n",
              "      <th>token_id</th>\n",
              "      <th></th>\n",
              "      <th></th>\n",
              "      <th></th>\n",
              "    </tr>\n",
              "  </thead>\n",
              "  <tbody>\n",
              "    <tr>\n",
              "      <th rowspan=\"5\" valign=\"top\">0</th>\n",
              "      <th>0</th>\n",
              "      <th>0</th>\n",
              "      <th>0</th>\n",
              "      <td>ETYMOLOGY</td>\n",
              "      <td>etymology</td>\n",
              "      <td>5198</td>\n",
              "    </tr>\n",
              "    <tr>\n",
              "      <th rowspan=\"4\" valign=\"top\">1</th>\n",
              "      <th rowspan=\"4\" valign=\"top\">0</th>\n",
              "      <th>0</th>\n",
              "      <td>Supplied</td>\n",
              "      <td>supplied</td>\n",
              "      <td>14638</td>\n",
              "    </tr>\n",
              "    <tr>\n",
              "      <th>1</th>\n",
              "      <td>by</td>\n",
              "      <td>by</td>\n",
              "      <td>2178</td>\n",
              "    </tr>\n",
              "    <tr>\n",
              "      <th>2</th>\n",
              "      <td>a</td>\n",
              "      <td>a</td>\n",
              "      <td>190</td>\n",
              "    </tr>\n",
              "    <tr>\n",
              "      <th>3</th>\n",
              "      <td>Late</td>\n",
              "      <td>late</td>\n",
              "      <td>8580</td>\n",
              "    </tr>\n",
              "  </tbody>\n",
              "</table>\n",
              "</div>"
            ],
            "text/plain": [
              "                                      token       norm  term_id\n",
              "chap_id para_id sent_id token_id                               \n",
              "0       0       0       0         ETYMOLOGY  etymology     5198\n",
              "        1       0       0          Supplied   supplied    14638\n",
              "                        1                by         by     2178\n",
              "                        2                 a          a      190\n",
              "                        3              Late       late     8580"
            ]
          },
          "metadata": {
            "tags": []
          },
          "execution_count": 29
        }
      ]
    },
    {
      "metadata": {
        "id": "LTGGoOvmYv9Y",
        "colab_type": "code",
        "colab": {}
      },
      "cell_type": "code",
      "source": [
        "moby_tokens = moby_tokens[['token','term_id']]"
      ],
      "execution_count": 0,
      "outputs": []
    },
    {
      "metadata": {
        "id": "-SWbuMZlvCPS",
        "colab_type": "code",
        "outputId": "54bbef71-8f2c-4129-a732-5fc3cb668459",
        "colab": {
          "base_uri": "https://localhost:8080/",
          "height": 235
        }
      },
      "cell_type": "code",
      "source": [
        "moby_tokens.head()"
      ],
      "execution_count": 0,
      "outputs": [
        {
          "output_type": "execute_result",
          "data": {
            "text/html": [
              "<div>\n",
              "<style scoped>\n",
              "    .dataframe tbody tr th:only-of-type {\n",
              "        vertical-align: middle;\n",
              "    }\n",
              "\n",
              "    .dataframe tbody tr th {\n",
              "        vertical-align: top;\n",
              "    }\n",
              "\n",
              "    .dataframe thead th {\n",
              "        text-align: right;\n",
              "    }\n",
              "</style>\n",
              "<table border=\"1\" class=\"dataframe\">\n",
              "  <thead>\n",
              "    <tr style=\"text-align: right;\">\n",
              "      <th></th>\n",
              "      <th></th>\n",
              "      <th></th>\n",
              "      <th></th>\n",
              "      <th>token</th>\n",
              "      <th>term_id</th>\n",
              "    </tr>\n",
              "    <tr>\n",
              "      <th>chap_id</th>\n",
              "      <th>para_id</th>\n",
              "      <th>sent_id</th>\n",
              "      <th>token_id</th>\n",
              "      <th></th>\n",
              "      <th></th>\n",
              "    </tr>\n",
              "  </thead>\n",
              "  <tbody>\n",
              "    <tr>\n",
              "      <th rowspan=\"5\" valign=\"top\">0</th>\n",
              "      <th>0</th>\n",
              "      <th>0</th>\n",
              "      <th>0</th>\n",
              "      <td>ETYMOLOGY</td>\n",
              "      <td>5198</td>\n",
              "    </tr>\n",
              "    <tr>\n",
              "      <th rowspan=\"4\" valign=\"top\">1</th>\n",
              "      <th rowspan=\"4\" valign=\"top\">0</th>\n",
              "      <th>0</th>\n",
              "      <td>Supplied</td>\n",
              "      <td>14638</td>\n",
              "    </tr>\n",
              "    <tr>\n",
              "      <th>1</th>\n",
              "      <td>by</td>\n",
              "      <td>2178</td>\n",
              "    </tr>\n",
              "    <tr>\n",
              "      <th>2</th>\n",
              "      <td>a</td>\n",
              "      <td>190</td>\n",
              "    </tr>\n",
              "    <tr>\n",
              "      <th>3</th>\n",
              "      <td>Late</td>\n",
              "      <td>8580</td>\n",
              "    </tr>\n",
              "  </tbody>\n",
              "</table>\n",
              "</div>"
            ],
            "text/plain": [
              "                                      token  term_id\n",
              "chap_id para_id sent_id token_id                    \n",
              "0       0       0       0         ETYMOLOGY     5198\n",
              "        1       0       0          Supplied    14638\n",
              "                        1                by     2178\n",
              "                        2                 a      190\n",
              "                        3              Late     8580"
            ]
          },
          "metadata": {
            "tags": []
          },
          "execution_count": 31
        }
      ]
    },
    {
      "metadata": {
        "id": "UUm4vrFvh3QI",
        "colab_type": "text"
      },
      "cell_type": "markdown",
      "source": [
        "## Remove stopwords"
      ]
    },
    {
      "metadata": {
        "id": "iro4QR2-igtW",
        "colab_type": "code",
        "colab": {}
      },
      "cell_type": "code",
      "source": [
        "moby_tokens['sw'] = moby_tokens.term_id.map(moby_vocab.sw)\n",
        "moby_tokens_ns = moby_tokens.loc[~moby_tokens.sw, ['term_id']]"
      ],
      "execution_count": 0,
      "outputs": []
    },
    {
      "metadata": {
        "id": "Zy_DBqVn-nc3",
        "colab_type": "code",
        "outputId": "4e831c41-3310-40de-c184-6277042d0514",
        "colab": {
          "base_uri": "https://localhost:8080/",
          "height": 235
        }
      },
      "cell_type": "code",
      "source": [
        "moby_tokens_ns.head()"
      ],
      "execution_count": 0,
      "outputs": [
        {
          "output_type": "execute_result",
          "data": {
            "text/html": [
              "<div>\n",
              "<style scoped>\n",
              "    .dataframe tbody tr th:only-of-type {\n",
              "        vertical-align: middle;\n",
              "    }\n",
              "\n",
              "    .dataframe tbody tr th {\n",
              "        vertical-align: top;\n",
              "    }\n",
              "\n",
              "    .dataframe thead th {\n",
              "        text-align: right;\n",
              "    }\n",
              "</style>\n",
              "<table border=\"1\" class=\"dataframe\">\n",
              "  <thead>\n",
              "    <tr style=\"text-align: right;\">\n",
              "      <th></th>\n",
              "      <th></th>\n",
              "      <th></th>\n",
              "      <th></th>\n",
              "      <th>term_id</th>\n",
              "    </tr>\n",
              "    <tr>\n",
              "      <th>chap_id</th>\n",
              "      <th>para_id</th>\n",
              "      <th>sent_id</th>\n",
              "      <th>token_id</th>\n",
              "      <th></th>\n",
              "    </tr>\n",
              "  </thead>\n",
              "  <tbody>\n",
              "    <tr>\n",
              "      <th rowspan=\"5\" valign=\"top\">0</th>\n",
              "      <th>0</th>\n",
              "      <th>0</th>\n",
              "      <th>0</th>\n",
              "      <td>5198</td>\n",
              "    </tr>\n",
              "    <tr>\n",
              "      <th rowspan=\"4\" valign=\"top\">1</th>\n",
              "      <th rowspan=\"4\" valign=\"top\">0</th>\n",
              "      <th>0</th>\n",
              "      <td>14638</td>\n",
              "    </tr>\n",
              "    <tr>\n",
              "      <th>3</th>\n",
              "      <td>8580</td>\n",
              "    </tr>\n",
              "    <tr>\n",
              "      <th>4</th>\n",
              "      <td>3292</td>\n",
              "    </tr>\n",
              "    <tr>\n",
              "      <th>5</th>\n",
              "      <td>16179</td>\n",
              "    </tr>\n",
              "  </tbody>\n",
              "</table>\n",
              "</div>"
            ],
            "text/plain": [
              "                                  term_id\n",
              "chap_id para_id sent_id token_id         \n",
              "0       0       0       0            5198\n",
              "        1       0       0           14638\n",
              "                        3            8580\n",
              "                        4            3292\n",
              "                        5           16179"
            ]
          },
          "metadata": {
            "tags": []
          },
          "execution_count": 33
        }
      ]
    },
    {
      "metadata": {
        "id": "b94IKZI3QNqO",
        "colab_type": "text"
      },
      "cell_type": "markdown",
      "source": [
        "## Add raw term counts to vocab"
      ]
    },
    {
      "metadata": {
        "id": "JXgY1e62LBbc",
        "colab_type": "code",
        "colab": {}
      },
      "cell_type": "code",
      "source": [
        "moby_vocab['n'] = moby_tokens.groupby('term_id').term_id.count()"
      ],
      "execution_count": 0,
      "outputs": []
    },
    {
      "metadata": {
        "id": "mbsI9ZVKQZqr",
        "colab_type": "code",
        "colab": {}
      },
      "cell_type": "code",
      "source": [
        "n_words = moby_vocab.n.sum()\n",
        "n_words_adj = moby_vocab[~moby_vocab.sw].n.sum()"
      ],
      "execution_count": 0,
      "outputs": []
    },
    {
      "metadata": {
        "id": "US4NvJ_7Q2GT",
        "colab_type": "code",
        "outputId": "2aabcdd0-0f1b-4ecf-bce2-2ecc4939892d",
        "colab": {
          "base_uri": "https://localhost:8080/",
          "height": 34
        }
      },
      "cell_type": "code",
      "source": [
        "n_words, n_words_adj"
      ],
      "execution_count": 0,
      "outputs": [
        {
          "output_type": "execute_result",
          "data": {
            "text/plain": [
              "(231376, 90791)"
            ]
          },
          "metadata": {
            "tags": []
          },
          "execution_count": 36
        }
      ]
    },
    {
      "metadata": {
        "id": "_wQ3Ly2xQ5Jn",
        "colab_type": "code",
        "colab": {}
      },
      "cell_type": "code",
      "source": [
        "moby_vocab['freq'] = moby_vocab.n.div(n_words)"
      ],
      "execution_count": 0,
      "outputs": []
    },
    {
      "metadata": {
        "id": "xDFX92rjRL9g",
        "colab_type": "code",
        "colab": {}
      },
      "cell_type": "code",
      "source": [
        "moby_vocab.loc[~moby_vocab.sw, 'adj_freq'] = moby_vocab[~moby_vocab.sw].n\\\n",
        "  .div(n_words_adj)"
      ],
      "execution_count": 0,
      "outputs": []
    },
    {
      "metadata": {
        "id": "aDcJuu4dNRLt",
        "colab_type": "code",
        "outputId": "828023f0-99cf-46b9-98ce-8661c86f8455",
        "colab": {
          "base_uri": "https://localhost:8080/",
          "height": 390
        }
      },
      "cell_type": "code",
      "source": [
        "moby_vocab.sample(10)"
      ],
      "execution_count": 239,
      "outputs": [
        {
          "output_type": "execute_result",
          "data": {
            "text/html": [
              "<div>\n",
              "<style scoped>\n",
              "    .dataframe tbody tr th:only-of-type {\n",
              "        vertical-align: middle;\n",
              "    }\n",
              "\n",
              "    .dataframe tbody tr th {\n",
              "        vertical-align: top;\n",
              "    }\n",
              "\n",
              "    .dataframe thead th {\n",
              "        text-align: right;\n",
              "    }\n",
              "</style>\n",
              "<table border=\"1\" class=\"dataframe\">\n",
              "  <thead>\n",
              "    <tr style=\"text-align: right;\">\n",
              "      <th></th>\n",
              "      <th>term</th>\n",
              "      <th>sw</th>\n",
              "      <th>n</th>\n",
              "      <th>freq</th>\n",
              "      <th>adj_freq</th>\n",
              "    </tr>\n",
              "    <tr>\n",
              "      <th>term_id</th>\n",
              "      <th></th>\n",
              "      <th></th>\n",
              "      <th></th>\n",
              "      <th></th>\n",
              "      <th></th>\n",
              "    </tr>\n",
              "  </thead>\n",
              "  <tbody>\n",
              "    <tr>\n",
              "      <th>11478</th>\n",
              "      <td>preternatural</td>\n",
              "      <td>False</td>\n",
              "      <td>5</td>\n",
              "      <td>0.000022</td>\n",
              "      <td>0.000055</td>\n",
              "    </tr>\n",
              "    <tr>\n",
              "      <th>15230</th>\n",
              "      <td>timberheads</td>\n",
              "      <td>False</td>\n",
              "      <td>1</td>\n",
              "      <td>0.000004</td>\n",
              "      <td>0.000011</td>\n",
              "    </tr>\n",
              "    <tr>\n",
              "      <th>672</th>\n",
              "      <td>anchor</td>\n",
              "      <td>False</td>\n",
              "      <td>21</td>\n",
              "      <td>0.000091</td>\n",
              "      <td>0.000231</td>\n",
              "    </tr>\n",
              "    <tr>\n",
              "      <th>3456</th>\n",
              "      <td>corruption</td>\n",
              "      <td>False</td>\n",
              "      <td>1</td>\n",
              "      <td>0.000004</td>\n",
              "      <td>0.000011</td>\n",
              "    </tr>\n",
              "    <tr>\n",
              "      <th>8366</th>\n",
              "      <td>keen</td>\n",
              "      <td>False</td>\n",
              "      <td>16</td>\n",
              "      <td>0.000069</td>\n",
              "      <td>0.000176</td>\n",
              "    </tr>\n",
              "    <tr>\n",
              "      <th>4688</th>\n",
              "      <td>duellist</td>\n",
              "      <td>False</td>\n",
              "      <td>1</td>\n",
              "      <td>0.000004</td>\n",
              "      <td>0.000011</td>\n",
              "    </tr>\n",
              "    <tr>\n",
              "      <th>8311</th>\n",
              "      <td>juba</td>\n",
              "      <td>False</td>\n",
              "      <td>1</td>\n",
              "      <td>0.000004</td>\n",
              "      <td>0.000011</td>\n",
              "    </tr>\n",
              "    <tr>\n",
              "      <th>10630</th>\n",
              "      <td>park</td>\n",
              "      <td>False</td>\n",
              "      <td>1</td>\n",
              "      <td>0.000004</td>\n",
              "      <td>0.000011</td>\n",
              "    </tr>\n",
              "    <tr>\n",
              "      <th>8012</th>\n",
              "      <td>intermixed</td>\n",
              "      <td>False</td>\n",
              "      <td>1</td>\n",
              "      <td>0.000004</td>\n",
              "      <td>0.000011</td>\n",
              "    </tr>\n",
              "    <tr>\n",
              "      <th>5653</th>\n",
              "      <td>fencer</td>\n",
              "      <td>False</td>\n",
              "      <td>1</td>\n",
              "      <td>0.000004</td>\n",
              "      <td>0.000011</td>\n",
              "    </tr>\n",
              "  </tbody>\n",
              "</table>\n",
              "</div>"
            ],
            "text/plain": [
              "                  term     sw   n      freq  adj_freq\n",
              "term_id                                              \n",
              "11478    preternatural  False   5  0.000022  0.000055\n",
              "15230      timberheads  False   1  0.000004  0.000011\n",
              "672             anchor  False  21  0.000091  0.000231\n",
              "3456        corruption  False   1  0.000004  0.000011\n",
              "8366              keen  False  16  0.000069  0.000176\n",
              "4688          duellist  False   1  0.000004  0.000011\n",
              "8311              juba  False   1  0.000004  0.000011\n",
              "10630             park  False   1  0.000004  0.000011\n",
              "8012        intermixed  False   1  0.000004  0.000011\n",
              "5653            fencer  False   1  0.000004  0.000011"
            ]
          },
          "metadata": {
            "tags": []
          },
          "execution_count": 239
        }
      ]
    },
    {
      "metadata": {
        "id": "lxU7dqLCRrD6",
        "colab_type": "code",
        "outputId": "b3bfbcae-bc42-4ee6-e5c1-600ae9f83b0b",
        "colab": {
          "base_uri": "https://localhost:8080/",
          "height": 378
        }
      },
      "cell_type": "code",
      "source": [
        "moby_vocab.freq.plot()"
      ],
      "execution_count": 0,
      "outputs": [
        {
          "output_type": "execute_result",
          "data": {
            "text/plain": [
              "<matplotlib.axes._subplots.AxesSubplot at 0x7fba783ff4e0>"
            ]
          },
          "metadata": {
            "tags": []
          },
          "execution_count": 40
        },
        {
          "output_type": "display_data",
          "data": {
            "image/png": "[encoded data removed]",
            "text/plain": [
              "<matplotlib.figure.Figure at 0x7fba7814dfd0>"
            ]
          },
          "metadata": {
            "tags": []
          }
        }
      ]
    },
    {
      "metadata": {
        "id": "I2y145tZRuzm",
        "colab_type": "code",
        "outputId": "61024784-a5a7-4286-eeab-9d35f08d0a9f",
        "colab": {
          "base_uri": "https://localhost:8080/",
          "height": 378
        }
      },
      "cell_type": "code",
      "source": [
        "moby_vocab.adj_freq.plot()"
      ],
      "execution_count": 0,
      "outputs": [
        {
          "output_type": "execute_result",
          "data": {
            "text/plain": [
              "<matplotlib.axes._subplots.AxesSubplot at 0x7fba783ffa20>"
            ]
          },
          "metadata": {
            "tags": []
          },
          "execution_count": 41
        },
        {
          "output_type": "display_data",
          "data": {
            "image/png": "[encoded data removed]",
            "text/plain": [
              "<matplotlib.figure.Figure at 0x7fba78400c88>"
            ]
          },
          "metadata": {
            "tags": []
          }
        }
      ]
    },
    {
      "metadata": {
        "id": "YTVuj9r6SEH-",
        "colab_type": "code",
        "outputId": "f64dae89-4512-49f3-c327-8df4ea87a268",
        "colab": {
          "base_uri": "https://localhost:8080/",
          "height": 378
        }
      },
      "cell_type": "code",
      "source": [
        "moby_vocab.plot(kind='scatter', x='freq', y='adj_freq')"
      ],
      "execution_count": 0,
      "outputs": [
        {
          "output_type": "execute_result",
          "data": {
            "text/plain": [
              "<matplotlib.axes._subplots.AxesSubplot at 0x7fba781d0198>"
            ]
          },
          "metadata": {
            "tags": []
          },
          "execution_count": 42
        },
        {
          "output_type": "display_data",
          "data": {
            "image/png": "[encoded data removed]",
            "text/plain": [
              "<matplotlib.figure.Figure at 0x7fba780ebba8>"
            ]
          },
          "metadata": {
            "tags": []
          }
        }
      ]
    },
    {
      "metadata": {
        "id": "xC9AMI64SiFQ",
        "colab_type": "code",
        "outputId": "487b49d7-3f21-4974-eda6-1613148be4c8",
        "colab": {
          "base_uri": "https://localhost:8080/",
          "height": 34
        }
      },
      "cell_type": "code",
      "source": [
        "moby_vocab.loc[moby_vocab.adj_freq.idxmax()].term"
      ],
      "execution_count": 0,
      "outputs": [
        {
          "output_type": "execute_result",
          "data": {
            "text/plain": [
              "'whale'"
            ]
          },
          "metadata": {
            "tags": []
          },
          "execution_count": 43
        }
      ]
    },
    {
      "metadata": {
        "id": "3uegPVax3dvV",
        "colab_type": "text"
      },
      "cell_type": "markdown",
      "source": [
        "# Dispersion Plots of 'ahab' and 'whale'"
      ]
    },
    {
      "metadata": {
        "id": "MC32708JYFXe",
        "colab_type": "text"
      },
      "cell_type": "markdown",
      "source": [
        "## Convert tokens into OHE matrix"
      ]
    },
    {
      "metadata": {
        "id": "Ut2cW0H_Epn4",
        "colab_type": "code",
        "colab": {}
      },
      "cell_type": "code",
      "source": [
        "kahuna = pd.get_dummies(moby_tokens_ns.reset_index()['term_id']).T"
      ],
      "execution_count": 0,
      "outputs": []
    },
    {
      "metadata": {
        "id": "et2LUqJSTLEQ",
        "colab_type": "code",
        "colab": {}
      },
      "cell_type": "code",
      "source": [
        "kahuna['term'] = moby_vocab.term"
      ],
      "execution_count": 0,
      "outputs": []
    },
    {
      "metadata": {
        "id": "TfsJsnNqT6Cy",
        "colab_type": "code",
        "colab": {}
      },
      "cell_type": "code",
      "source": [
        "kahuna = kahuna.reset_index().set_index('term').drop('index', axis=1)"
      ],
      "execution_count": 0,
      "outputs": []
    },
    {
      "metadata": {
        "id": "zZ6eIzTYTYhs",
        "colab_type": "code",
        "outputId": "35bd6e6b-e285-4e62-c6a1-2193c6e937cc",
        "colab": {
          "base_uri": "https://localhost:8080/",
          "height": 264
        }
      },
      "cell_type": "code",
      "source": [
        "kahuna.head()"
      ],
      "execution_count": 0,
      "outputs": [
        {
          "output_type": "execute_result",
          "data": {
            "text/html": [
              "<div>\n",
              "<style scoped>\n",
              "    .dataframe tbody tr th:only-of-type {\n",
              "        vertical-align: middle;\n",
              "    }\n",
              "\n",
              "    .dataframe tbody tr th {\n",
              "        vertical-align: top;\n",
              "    }\n",
              "\n",
              "    .dataframe thead th {\n",
              "        text-align: right;\n",
              "    }\n",
              "</style>\n",
              "<table border=\"1\" class=\"dataframe\">\n",
              "  <thead>\n",
              "    <tr style=\"text-align: right;\">\n",
              "      <th></th>\n",
              "      <th>0</th>\n",
              "      <th>1</th>\n",
              "      <th>2</th>\n",
              "      <th>3</th>\n",
              "      <th>4</th>\n",
              "      <th>5</th>\n",
              "      <th>6</th>\n",
              "      <th>7</th>\n",
              "      <th>8</th>\n",
              "      <th>9</th>\n",
              "      <th>...</th>\n",
              "      <th>90781</th>\n",
              "      <th>90782</th>\n",
              "      <th>90783</th>\n",
              "      <th>90784</th>\n",
              "      <th>90785</th>\n",
              "      <th>90786</th>\n",
              "      <th>90787</th>\n",
              "      <th>90788</th>\n",
              "      <th>90789</th>\n",
              "      <th>90790</th>\n",
              "    </tr>\n",
              "    <tr>\n",
              "      <th>term</th>\n",
              "      <th></th>\n",
              "      <th></th>\n",
              "      <th></th>\n",
              "      <th></th>\n",
              "      <th></th>\n",
              "      <th></th>\n",
              "      <th></th>\n",
              "      <th></th>\n",
              "      <th></th>\n",
              "      <th></th>\n",
              "      <th></th>\n",
              "      <th></th>\n",
              "      <th></th>\n",
              "      <th></th>\n",
              "      <th></th>\n",
              "      <th></th>\n",
              "      <th></th>\n",
              "      <th></th>\n",
              "      <th></th>\n",
              "      <th></th>\n",
              "      <th></th>\n",
              "    </tr>\n",
              "  </thead>\n",
              "  <tbody>\n",
              "    <tr>\n",
              "      <th>aback</th>\n",
              "      <td>0</td>\n",
              "      <td>0</td>\n",
              "      <td>0</td>\n",
              "      <td>0</td>\n",
              "      <td>0</td>\n",
              "      <td>0</td>\n",
              "      <td>0</td>\n",
              "      <td>0</td>\n",
              "      <td>0</td>\n",
              "      <td>0</td>\n",
              "      <td>...</td>\n",
              "      <td>0</td>\n",
              "      <td>0</td>\n",
              "      <td>0</td>\n",
              "      <td>0</td>\n",
              "      <td>0</td>\n",
              "      <td>0</td>\n",
              "      <td>0</td>\n",
              "      <td>0</td>\n",
              "      <td>0</td>\n",
              "      <td>0</td>\n",
              "    </tr>\n",
              "    <tr>\n",
              "      <th>abaft</th>\n",
              "      <td>0</td>\n",
              "      <td>0</td>\n",
              "      <td>0</td>\n",
              "      <td>0</td>\n",
              "      <td>0</td>\n",
              "      <td>0</td>\n",
              "      <td>0</td>\n",
              "      <td>0</td>\n",
              "      <td>0</td>\n",
              "      <td>0</td>\n",
              "      <td>...</td>\n",
              "      <td>0</td>\n",
              "      <td>0</td>\n",
              "      <td>0</td>\n",
              "      <td>0</td>\n",
              "      <td>0</td>\n",
              "      <td>0</td>\n",
              "      <td>0</td>\n",
              "      <td>0</td>\n",
              "      <td>0</td>\n",
              "      <td>0</td>\n",
              "    </tr>\n",
              "    <tr>\n",
              "      <th>abandon</th>\n",
              "      <td>0</td>\n",
              "      <td>0</td>\n",
              "      <td>0</td>\n",
              "      <td>0</td>\n",
              "      <td>0</td>\n",
              "      <td>0</td>\n",
              "      <td>0</td>\n",
              "      <td>0</td>\n",
              "      <td>0</td>\n",
              "      <td>0</td>\n",
              "      <td>...</td>\n",
              "      <td>0</td>\n",
              "      <td>0</td>\n",
              "      <td>0</td>\n",
              "      <td>0</td>\n",
              "      <td>0</td>\n",
              "      <td>0</td>\n",
              "      <td>0</td>\n",
              "      <td>0</td>\n",
              "      <td>0</td>\n",
              "      <td>0</td>\n",
              "    </tr>\n",
              "    <tr>\n",
              "      <th>abandoned</th>\n",
              "      <td>0</td>\n",
              "      <td>0</td>\n",
              "      <td>0</td>\n",
              "      <td>0</td>\n",
              "      <td>0</td>\n",
              "      <td>0</td>\n",
              "      <td>0</td>\n",
              "      <td>0</td>\n",
              "      <td>0</td>\n",
              "      <td>0</td>\n",
              "      <td>...</td>\n",
              "      <td>0</td>\n",
              "      <td>0</td>\n",
              "      <td>0</td>\n",
              "      <td>0</td>\n",
              "      <td>0</td>\n",
              "      <td>0</td>\n",
              "      <td>0</td>\n",
              "      <td>0</td>\n",
              "      <td>0</td>\n",
              "      <td>0</td>\n",
              "    </tr>\n",
              "    <tr>\n",
              "      <th>abandonedly</th>\n",
              "      <td>0</td>\n",
              "      <td>0</td>\n",
              "      <td>0</td>\n",
              "      <td>0</td>\n",
              "      <td>0</td>\n",
              "      <td>0</td>\n",
              "      <td>0</td>\n",
              "      <td>0</td>\n",
              "      <td>0</td>\n",
              "      <td>0</td>\n",
              "      <td>...</td>\n",
              "      <td>0</td>\n",
              "      <td>0</td>\n",
              "      <td>0</td>\n",
              "      <td>0</td>\n",
              "      <td>0</td>\n",
              "      <td>0</td>\n",
              "      <td>0</td>\n",
              "      <td>0</td>\n",
              "      <td>0</td>\n",
              "      <td>0</td>\n",
              "    </tr>\n",
              "  </tbody>\n",
              "</table>\n",
              "<p>5 rows × 90791 columns</p>\n",
              "</div>"
            ],
            "text/plain": [
              "             0      1      2      3      4      5      6      7      8      \\\n",
              "term                                                                         \n",
              "aback            0      0      0      0      0      0      0      0      0   \n",
              "abaft            0      0      0      0      0      0      0      0      0   \n",
              "abandon          0      0      0      0      0      0      0      0      0   \n",
              "abandoned        0      0      0      0      0      0      0      0      0   \n",
              "abandonedly      0      0      0      0      0      0      0      0      0   \n",
              "\n",
              "             9      ...    90781  90782  90783  90784  90785  90786  90787  \\\n",
              "term                ...                                                      \n",
              "aback            0  ...        0      0      0      0      0      0      0   \n",
              "abaft            0  ...        0      0      0      0      0      0      0   \n",
              "abandon          0  ...        0      0      0      0      0      0      0   \n",
              "abandoned        0  ...        0      0      0      0      0      0      0   \n",
              "abandonedly      0  ...        0      0      0      0      0      0      0   \n",
              "\n",
              "             90788  90789  90790  \n",
              "term                              \n",
              "aback            0      0      0  \n",
              "abaft            0      0      0  \n",
              "abandon          0      0      0  \n",
              "abandoned        0      0      0  \n",
              "abandonedly      0      0      0  \n",
              "\n",
              "[5 rows x 90791 columns]"
            ]
          },
          "metadata": {
            "tags": []
          },
          "execution_count": 47
        }
      ]
    },
    {
      "metadata": {
        "id": "mE-KznqvDHoM",
        "colab_type": "text"
      },
      "cell_type": "markdown",
      "source": [
        "## Default method"
      ]
    },
    {
      "metadata": {
        "id": "rXKqYthKzBn3",
        "colab_type": "code",
        "colab": {}
      },
      "cell_type": "code",
      "source": [
        "def get_term_dplot(term, figsize=(15,.5)):\n",
        "  print(term)\n",
        "  kahuna.loc[term].plot(figsize=figsize)\n",
        "  plt.show()"
      ],
      "execution_count": 0,
      "outputs": []
    },
    {
      "metadata": {
        "id": "v7kGiEo76EFU",
        "colab_type": "code",
        "outputId": "f8eb7005-ea42-489b-ee91-9da8ced656a1",
        "colab": {
          "base_uri": "https://localhost:8080/",
          "height": 875
        }
      },
      "cell_type": "code",
      "source": [
        "terms = ['man', 'ahab','whale', 'starbuck', 'queequeg', 'ishmael', 'white', 'sea', 'ship', 'church', 'death']\n",
        "for term in terms:\n",
        "  get_term_dplot(term)"
      ],
      "execution_count": 0,
      "outputs": [
        {
          "output_type": "stream",
          "text": [
            "man\n"
          ],
          "name": "stdout"
        },
        {
          "output_type": "display_data",
          "data": {
            "image/png": "[encoded data removed]",
            "text/plain": [
              "<matplotlib.figure.Figure at 0x7fba785009e8>"
            ]
          },
          "metadata": {
            "tags": []
          }
        },
        {
          "output_type": "stream",
          "text": [
            "ahab\n"
          ],
          "name": "stdout"
        },
        {
          "output_type": "display_data",
          "data": {
            "image/png": "[encoded data removed]",
            "text/plain": [
              "<matplotlib.figure.Figure at 0x7fba77dbe5c0>"
            ]
          },
          "metadata": {
            "tags": []
          }
        },
        {
          "output_type": "stream",
          "text": [
            "whale\n"
          ],
          "name": "stdout"
        },
        {
          "output_type": "display_data",
          "data": {
            "image/png": "[encoded data removed]",
            "text/plain": [
              "<matplotlib.figure.Figure at 0x7fba7889e2e8>"
            ]
          },
          "metadata": {
            "tags": []
          }
        },
        {
          "output_type": "stream",
          "text": [
            "starbuck\n"
          ],
          "name": "stdout"
        },
        {
          "output_type": "display_data",
          "data": {
            "image/png": "[encoded data removed]",
            "text/plain": [
              "<matplotlib.figure.Figure at 0x7fba77e2ba20>"
            ]
          },
          "metadata": {
            "tags": []
          }
        },
        {
          "output_type": "stream",
          "text": [
            "queequeg\n"
          ],
          "name": "stdout"
        },
        {
          "output_type": "display_data",
          "data": {
            "image/png": "[encoded data removed]",
            "text/plain": [
              "<matplotlib.figure.Figure at 0x7fba77e4bef0>"
            ]
          },
          "metadata": {
            "tags": []
          }
        },
        {
          "output_type": "stream",
          "text": [
            "ishmael\n"
          ],
          "name": "stdout"
        },
        {
          "output_type": "display_data",
          "data": {
            "image/png": "[encoded data removed]",
            "text/plain": [
              "<matplotlib.figure.Figure at 0x7fba77e4b240>"
            ]
          },
          "metadata": {
            "tags": []
          }
        },
        {
          "output_type": "stream",
          "text": [
            "white\n"
          ],
          "name": "stdout"
        },
        {
          "output_type": "display_data",
          "data": {
            "image/png": "[encoded data removed]",
            "text/plain": [
              "<matplotlib.figure.Figure at 0x7fba787a8588>"
            ]
          },
          "metadata": {
            "tags": []
          }
        },
        {
          "output_type": "stream",
          "text": [
            "sea\n"
          ],
          "name": "stdout"
        },
        {
          "output_type": "display_data",
          "data": {
            "image/png": "[encoded data removed]",
            "text/plain": [
              "<matplotlib.figure.Figure at 0x7fba7829b128>"
            ]
          },
          "metadata": {
            "tags": []
          }
        },
        {
          "output_type": "stream",
          "text": [
            "ship\n"
          ],
          "name": "stdout"
        },
        {
          "output_type": "display_data",
          "data": {
            "image/png": "[encoded data removed]",
            "text/plain": [
              "<matplotlib.figure.Figure at 0x7fba780e2908>"
            ]
          },
          "metadata": {
            "tags": []
          }
        },
        {
          "output_type": "stream",
          "text": [
            "church\n"
          ],
          "name": "stdout"
        },
        {
          "output_type": "display_data",
          "data": {
            "image/png": "[encoded data removed]",
            "text/plain": [
              "<matplotlib.figure.Figure at 0x7fba78827d68>"
            ]
          },
          "metadata": {
            "tags": []
          }
        },
        {
          "output_type": "stream",
          "text": [
            "death\n"
          ],
          "name": "stdout"
        },
        {
          "output_type": "display_data",
          "data": {
            "image/png": "[encoded data removed]",
            "text/plain": [
              "<matplotlib.figure.Figure at 0x7fba7849b0f0>"
            ]
          },
          "metadata": {
            "tags": []
          }
        }
      ]
    },
    {
      "metadata": {
        "id": "NApEoeKRVmP8",
        "colab_type": "text"
      },
      "cell_type": "markdown",
      "source": [
        "## Seaborn method"
      ]
    },
    {
      "metadata": {
        "id": "tdRau-_TZF5Q",
        "colab_type": "code",
        "colab": {}
      },
      "cell_type": "code",
      "source": [
        "viz_df = kahuna.loc[terms].T\\\n",
        "  .stack()\\\n",
        "  .to_frame()\\\n",
        "  .reset_index()\\\n",
        "  .rename(columns={'level_0': 't', 'level_1':'term', 0:'n'})"
      ],
      "execution_count": 0,
      "outputs": []
    },
    {
      "metadata": {
        "id": "AyLw8GrMbBSN",
        "colab_type": "code",
        "outputId": "6c41444a-ee17-4881-d28f-650677236c94",
        "colab": {
          "base_uri": "https://localhost:8080/",
          "height": 204
        }
      },
      "cell_type": "code",
      "source": [
        "viz_df[viz_df.n > 0].sample(5)"
      ],
      "execution_count": 0,
      "outputs": [
        {
          "output_type": "execute_result",
          "data": {
            "text/html": [
              "<div>\n",
              "<style scoped>\n",
              "    .dataframe tbody tr th:only-of-type {\n",
              "        vertical-align: middle;\n",
              "    }\n",
              "\n",
              "    .dataframe tbody tr th {\n",
              "        vertical-align: top;\n",
              "    }\n",
              "\n",
              "    .dataframe thead th {\n",
              "        text-align: right;\n",
              "    }\n",
              "</style>\n",
              "<table border=\"1\" class=\"dataframe\">\n",
              "  <thead>\n",
              "    <tr style=\"text-align: right;\">\n",
              "      <th></th>\n",
              "      <th>t</th>\n",
              "      <th>term</th>\n",
              "      <th>n</th>\n",
              "    </tr>\n",
              "  </thead>\n",
              "  <tbody>\n",
              "    <tr>\n",
              "      <th>886289</th>\n",
              "      <td>80571</td>\n",
              "      <td>ship</td>\n",
              "      <td>1</td>\n",
              "    </tr>\n",
              "    <tr>\n",
              "      <th>140074</th>\n",
              "      <td>12734</td>\n",
              "      <td>man</td>\n",
              "      <td>1</td>\n",
              "    </tr>\n",
              "    <tr>\n",
              "      <th>584850</th>\n",
              "      <td>53168</td>\n",
              "      <td>whale</td>\n",
              "      <td>1</td>\n",
              "    </tr>\n",
              "    <tr>\n",
              "      <th>858734</th>\n",
              "      <td>78066</td>\n",
              "      <td>ship</td>\n",
              "      <td>1</td>\n",
              "    </tr>\n",
              "    <tr>\n",
              "      <th>498621</th>\n",
              "      <td>45329</td>\n",
              "      <td>whale</td>\n",
              "      <td>1</td>\n",
              "    </tr>\n",
              "  </tbody>\n",
              "</table>\n",
              "</div>"
            ],
            "text/plain": [
              "            t   term  n\n",
              "886289  80571   ship  1\n",
              "140074  12734    man  1\n",
              "584850  53168  whale  1\n",
              "858734  78066   ship  1\n",
              "498621  45329  whale  1"
            ]
          },
          "metadata": {
            "tags": []
          },
          "execution_count": 201
        }
      ]
    },
    {
      "metadata": {
        "id": "8H_0OyIbBElX",
        "colab_type": "code",
        "outputId": "d4757e1a-88f2-49be-dfc0-1cbc199f8dc5",
        "colab": {
          "base_uri": "https://localhost:8080/",
          "height": 341
        }
      },
      "cell_type": "code",
      "source": [
        "# set size of figure\n",
        "plt.figure(figsize=(15,5))\n",
        "\n",
        "# use horizontal stripplot with x marker size of 5\n",
        "sns.stripplot(y='term', x='t', data=viz_df[viz_df.n == 1],\n",
        " orient='h', marker=\"$|$\", color='navy', size=10)\n",
        "\n",
        "# rotate x tick labels\n",
        "plt.xticks(rotation=15)\n",
        "\n",
        "# remove borders of plot\n",
        "#plt.tight_layout()\n",
        "plt.show()"
      ],
      "execution_count": 0,
      "outputs": [
        {
          "output_type": "display_data",
          "data": {
            "image/png": "[encoded data removed]",
            "text/plain": [
              "<matplotlib.figure.Figure at 0x7fba787a96a0>"
            ]
          },
          "metadata": {
            "tags": []
          }
        }
      ]
    },
    {
      "metadata": {
        "id": "5cb2Brc5cvdj",
        "colab_type": "text"
      },
      "cell_type": "markdown",
      "source": [
        "# F3: Create BOWs"
      ]
    },
    {
      "metadata": {
        "id": "cBVrqFeacz6B",
        "colab_type": "text"
      },
      "cell_type": "markdown",
      "source": [
        "## BOW by Para\n"
      ]
    },
    {
      "metadata": {
        "id": "q0sTqErXVotc",
        "colab_type": "code",
        "colab": {}
      },
      "cell_type": "code",
      "source": [
        "moby_bow = moby_tokens_ns\\\n",
        "  .groupby(['chap_id','para_id','term_id'])\\\n",
        "  .term_id.count()\\\n",
        "  .to_frame().rename(columns={'term_id':'n'})"
      ],
      "execution_count": 0,
      "outputs": []
    },
    {
      "metadata": {
        "id": "a4w8W0NpW328",
        "colab_type": "code",
        "outputId": "1f11a640-a9dc-48f5-f986-772cc38a6ad3",
        "colab": {
          "base_uri": "https://localhost:8080/",
          "height": 235
        }
      },
      "cell_type": "code",
      "source": [
        "moby_bow.head()"
      ],
      "execution_count": 0,
      "outputs": [
        {
          "output_type": "execute_result",
          "data": {
            "text/html": [
              "<div>\n",
              "<style scoped>\n",
              "    .dataframe tbody tr th:only-of-type {\n",
              "        vertical-align: middle;\n",
              "    }\n",
              "\n",
              "    .dataframe tbody tr th {\n",
              "        vertical-align: top;\n",
              "    }\n",
              "\n",
              "    .dataframe thead th {\n",
              "        text-align: right;\n",
              "    }\n",
              "</style>\n",
              "<table border=\"1\" class=\"dataframe\">\n",
              "  <thead>\n",
              "    <tr style=\"text-align: right;\">\n",
              "      <th></th>\n",
              "      <th></th>\n",
              "      <th></th>\n",
              "      <th>n</th>\n",
              "    </tr>\n",
              "    <tr>\n",
              "      <th>chap_id</th>\n",
              "      <th>para_id</th>\n",
              "      <th>term_id</th>\n",
              "      <th></th>\n",
              "    </tr>\n",
              "  </thead>\n",
              "  <tbody>\n",
              "    <tr>\n",
              "      <th rowspan=\"5\" valign=\"top\">0</th>\n",
              "      <th>0</th>\n",
              "      <th>5198</th>\n",
              "      <td>1</td>\n",
              "    </tr>\n",
              "    <tr>\n",
              "      <th rowspan=\"4\" valign=\"top\">1</th>\n",
              "      <th>3292</th>\n",
              "      <td>1</td>\n",
              "    </tr>\n",
              "    <tr>\n",
              "      <th>6584</th>\n",
              "      <td>1</td>\n",
              "    </tr>\n",
              "    <tr>\n",
              "      <th>8580</th>\n",
              "      <td>1</td>\n",
              "    </tr>\n",
              "    <tr>\n",
              "      <th>12913</th>\n",
              "      <td>1</td>\n",
              "    </tr>\n",
              "  </tbody>\n",
              "</table>\n",
              "</div>"
            ],
            "text/plain": [
              "                         n\n",
              "chap_id para_id term_id   \n",
              "0       0       5198     1\n",
              "        1       3292     1\n",
              "                6584     1\n",
              "                8580     1\n",
              "                12913    1"
            ]
          },
          "metadata": {
            "tags": []
          },
          "execution_count": 54
        }
      ]
    },
    {
      "metadata": {
        "id": "7Qsw9dlPQUMY",
        "colab_type": "text"
      },
      "cell_type": "markdown",
      "source": [
        "## BOW by Chap"
      ]
    },
    {
      "metadata": {
        "id": "iS6D7ag4iSEt",
        "colab_type": "code",
        "colab": {}
      },
      "cell_type": "code",
      "source": [
        "moby_bow_chaps = moby_tokens_ns\\\n",
        "  .groupby(['chap_id','term_id'])\\\n",
        "  .term_id.count()\\\n",
        "  .to_frame().rename(columns={'term_id':'n'})"
      ],
      "execution_count": 0,
      "outputs": []
    },
    {
      "metadata": {
        "id": "ykLOTRBviniQ",
        "colab_type": "code",
        "outputId": "08ae84c4-e376-4ee4-c41e-57b15b380da5",
        "colab": {
          "base_uri": "https://localhost:8080/",
          "height": 235
        }
      },
      "cell_type": "code",
      "source": [
        "moby_bow_chaps.head()"
      ],
      "execution_count": 0,
      "outputs": [
        {
          "output_type": "execute_result",
          "data": {
            "text/html": [
              "<div>\n",
              "<style scoped>\n",
              "    .dataframe tbody tr th:only-of-type {\n",
              "        vertical-align: middle;\n",
              "    }\n",
              "\n",
              "    .dataframe tbody tr th {\n",
              "        vertical-align: top;\n",
              "    }\n",
              "\n",
              "    .dataframe thead th {\n",
              "        text-align: right;\n",
              "    }\n",
              "</style>\n",
              "<table border=\"1\" class=\"dataframe\">\n",
              "  <thead>\n",
              "    <tr style=\"text-align: right;\">\n",
              "      <th></th>\n",
              "      <th></th>\n",
              "      <th>n</th>\n",
              "    </tr>\n",
              "    <tr>\n",
              "      <th>chap_id</th>\n",
              "      <th>term_id</th>\n",
              "      <th></th>\n",
              "    </tr>\n",
              "  </thead>\n",
              "  <tbody>\n",
              "    <tr>\n",
              "      <th rowspan=\"5\" valign=\"top\">0</th>\n",
              "      <th>223</th>\n",
              "      <td>1</td>\n",
              "    </tr>\n",
              "    <tr>\n",
              "      <th>259</th>\n",
              "      <td>1</td>\n",
              "    </tr>\n",
              "    <tr>\n",
              "      <th>260</th>\n",
              "      <td>1</td>\n",
              "    </tr>\n",
              "    <tr>\n",
              "      <th>289</th>\n",
              "      <td>2</td>\n",
              "    </tr>\n",
              "    <tr>\n",
              "      <th>319</th>\n",
              "      <td>1</td>\n",
              "    </tr>\n",
              "  </tbody>\n",
              "</table>\n",
              "</div>"
            ],
            "text/plain": [
              "                 n\n",
              "chap_id term_id   \n",
              "0       223      1\n",
              "        259      1\n",
              "        260      1\n",
              "        289      2\n",
              "        319      1"
            ]
          },
          "metadata": {
            "tags": []
          },
          "execution_count": 56
        }
      ]
    },
    {
      "metadata": {
        "id": "Jwi8__beUjvj",
        "colab_type": "text"
      },
      "cell_type": "markdown",
      "source": [
        "## BOW by Chunk"
      ]
    },
    {
      "metadata": {
        "id": "jmyXqJwpUnep",
        "colab_type": "code",
        "colab": {}
      },
      "cell_type": "code",
      "source": [
        "moby_tokens_ns['ord'] = moby_tokens_ns.reset_index().index + 1"
      ],
      "execution_count": 0,
      "outputs": []
    },
    {
      "metadata": {
        "id": "D7a0DxxiruqT",
        "colab_type": "code",
        "colab": {}
      },
      "cell_type": "code",
      "source": [
        "# Divide text evenly in K chunks\n",
        "K = 100\n",
        "N = moby_tokens_ns.ord.max()\n",
        "C = int(round(N / K))\n",
        "T = C * K"
      ],
      "execution_count": 0,
      "outputs": []
    },
    {
      "metadata": {
        "id": "lC-ur9WPr7Pn",
        "colab_type": "code",
        "outputId": "7f4eb4b7-fa1b-4e01-b504-6fb26f5107ae",
        "colab": {
          "base_uri": "https://localhost:8080/",
          "height": 34
        }
      },
      "cell_type": "code",
      "source": [
        "N, K, C, T"
      ],
      "execution_count": 0,
      "outputs": [
        {
          "output_type": "execute_result",
          "data": {
            "text/plain": [
              "(90791, 100, 908, 90800)"
            ]
          },
          "metadata": {
            "tags": []
          },
          "execution_count": 59
        }
      ]
    },
    {
      "metadata": {
        "id": "SsnJPLsMVSbO",
        "colab_type": "code",
        "colab": {}
      },
      "cell_type": "code",
      "source": [
        "moby_tokens_ns['chunk'] = moby_tokens_ns.ord.div(C).round().astype('int')"
      ],
      "execution_count": 0,
      "outputs": []
    },
    {
      "metadata": {
        "id": "iVUZ5nDwaSTA",
        "colab_type": "code",
        "outputId": "80e341be-fb06-475b-8c45-08e64cbd415a",
        "colab": {
          "base_uri": "https://localhost:8080/",
          "height": 235
        }
      },
      "cell_type": "code",
      "source": [
        "moby_tokens_ns.head()"
      ],
      "execution_count": 0,
      "outputs": [
        {
          "output_type": "execute_result",
          "data": {
            "text/html": [
              "<div>\n",
              "<style scoped>\n",
              "    .dataframe tbody tr th:only-of-type {\n",
              "        vertical-align: middle;\n",
              "    }\n",
              "\n",
              "    .dataframe tbody tr th {\n",
              "        vertical-align: top;\n",
              "    }\n",
              "\n",
              "    .dataframe thead th {\n",
              "        text-align: right;\n",
              "    }\n",
              "</style>\n",
              "<table border=\"1\" class=\"dataframe\">\n",
              "  <thead>\n",
              "    <tr style=\"text-align: right;\">\n",
              "      <th></th>\n",
              "      <th></th>\n",
              "      <th></th>\n",
              "      <th></th>\n",
              "      <th>term_id</th>\n",
              "      <th>ord</th>\n",
              "      <th>chunk</th>\n",
              "    </tr>\n",
              "    <tr>\n",
              "      <th>chap_id</th>\n",
              "      <th>para_id</th>\n",
              "      <th>sent_id</th>\n",
              "      <th>token_id</th>\n",
              "      <th></th>\n",
              "      <th></th>\n",
              "      <th></th>\n",
              "    </tr>\n",
              "  </thead>\n",
              "  <tbody>\n",
              "    <tr>\n",
              "      <th rowspan=\"5\" valign=\"top\">0</th>\n",
              "      <th>0</th>\n",
              "      <th>0</th>\n",
              "      <th>0</th>\n",
              "      <td>5198</td>\n",
              "      <td>1</td>\n",
              "      <td>0</td>\n",
              "    </tr>\n",
              "    <tr>\n",
              "      <th rowspan=\"4\" valign=\"top\">1</th>\n",
              "      <th rowspan=\"4\" valign=\"top\">0</th>\n",
              "      <th>0</th>\n",
              "      <td>14638</td>\n",
              "      <td>2</td>\n",
              "      <td>0</td>\n",
              "    </tr>\n",
              "    <tr>\n",
              "      <th>3</th>\n",
              "      <td>8580</td>\n",
              "      <td>3</td>\n",
              "      <td>0</td>\n",
              "    </tr>\n",
              "    <tr>\n",
              "      <th>4</th>\n",
              "      <td>3292</td>\n",
              "      <td>4</td>\n",
              "      <td>0</td>\n",
              "    </tr>\n",
              "    <tr>\n",
              "      <th>5</th>\n",
              "      <td>16179</td>\n",
              "      <td>5</td>\n",
              "      <td>0</td>\n",
              "    </tr>\n",
              "  </tbody>\n",
              "</table>\n",
              "</div>"
            ],
            "text/plain": [
              "                                  term_id  ord  chunk\n",
              "chap_id para_id sent_id token_id                     \n",
              "0       0       0       0            5198    1      0\n",
              "        1       0       0           14638    2      0\n",
              "                        3            8580    3      0\n",
              "                        4            3292    4      0\n",
              "                        5           16179    5      0"
            ]
          },
          "metadata": {
            "tags": []
          },
          "execution_count": 61
        }
      ]
    },
    {
      "metadata": {
        "id": "4FtbcB6GaGcR",
        "colab_type": "code",
        "colab": {}
      },
      "cell_type": "code",
      "source": [
        "moby_bow_chunks = moby_tokens_ns\\\n",
        "  .groupby(['chunk','term_id'])\\\n",
        "  .term_id.count()\\\n",
        "  .to_frame().rename(columns={'term_id':'n'})"
      ],
      "execution_count": 0,
      "outputs": []
    },
    {
      "metadata": {
        "id": "usdS1Xn2wVmN",
        "colab_type": "code",
        "outputId": "b596328b-ec32-47ae-9f9a-f9d85840644b",
        "colab": {
          "base_uri": "https://localhost:8080/",
          "height": 235
        }
      },
      "cell_type": "code",
      "source": [
        "moby_bow_chunks.head()"
      ],
      "execution_count": 0,
      "outputs": [
        {
          "output_type": "execute_result",
          "data": {
            "text/html": [
              "<div>\n",
              "<style scoped>\n",
              "    .dataframe tbody tr th:only-of-type {\n",
              "        vertical-align: middle;\n",
              "    }\n",
              "\n",
              "    .dataframe tbody tr th {\n",
              "        vertical-align: top;\n",
              "    }\n",
              "\n",
              "    .dataframe thead th {\n",
              "        text-align: right;\n",
              "    }\n",
              "</style>\n",
              "<table border=\"1\" class=\"dataframe\">\n",
              "  <thead>\n",
              "    <tr style=\"text-align: right;\">\n",
              "      <th></th>\n",
              "      <th></th>\n",
              "      <th>n</th>\n",
              "    </tr>\n",
              "    <tr>\n",
              "      <th>chunk</th>\n",
              "      <th>term_id</th>\n",
              "      <th></th>\n",
              "    </tr>\n",
              "  </thead>\n",
              "  <tbody>\n",
              "    <tr>\n",
              "      <th rowspan=\"5\" valign=\"top\">0</th>\n",
              "      <th>319</th>\n",
              "      <td>1</td>\n",
              "    </tr>\n",
              "    <tr>\n",
              "      <th>441</th>\n",
              "      <td>1</td>\n",
              "    </tr>\n",
              "    <tr>\n",
              "      <th>466</th>\n",
              "      <td>1</td>\n",
              "    </tr>\n",
              "    <tr>\n",
              "      <th>543</th>\n",
              "      <td>1</td>\n",
              "    </tr>\n",
              "    <tr>\n",
              "      <th>580</th>\n",
              "      <td>1</td>\n",
              "    </tr>\n",
              "  </tbody>\n",
              "</table>\n",
              "</div>"
            ],
            "text/plain": [
              "               n\n",
              "chunk term_id   \n",
              "0     319      1\n",
              "      441      1\n",
              "      466      1\n",
              "      543      1\n",
              "      580      1"
            ]
          },
          "metadata": {
            "tags": []
          },
          "execution_count": 63
        }
      ]
    },
    {
      "metadata": {
        "id": "mD2HIIaDrKNG",
        "colab_type": "text"
      },
      "cell_type": "markdown",
      "source": [
        "# F3: Create DTMs"
      ]
    },
    {
      "metadata": {
        "id": "8iTri6fUGI0l",
        "colab_type": "text"
      },
      "cell_type": "markdown",
      "source": [
        "## DTM by Para"
      ]
    },
    {
      "metadata": {
        "id": "2jSeCSwrVxoj",
        "colab_type": "code",
        "colab": {}
      },
      "cell_type": "code",
      "source": [
        "moby_dtm = moby_bow.unstack().fillna(0)\n",
        "moby_dtm.columns = moby_dtm.columns.droplevel()"
      ],
      "execution_count": 0,
      "outputs": []
    },
    {
      "metadata": {
        "id": "C1AysJZ4WR2A",
        "colab_type": "code",
        "outputId": "c6d9dbd9-5354-4ca8-f61f-28cc88b0510c",
        "colab": {
          "base_uri": "https://localhost:8080/",
          "height": 284
        }
      },
      "cell_type": "code",
      "source": [
        "moby_dtm.head()"
      ],
      "execution_count": 0,
      "outputs": [
        {
          "output_type": "execute_result",
          "data": {
            "text/html": [
              "<div>\n",
              "<style scoped>\n",
              "    .dataframe tbody tr th:only-of-type {\n",
              "        vertical-align: middle;\n",
              "    }\n",
              "\n",
              "    .dataframe tbody tr th {\n",
              "        vertical-align: top;\n",
              "    }\n",
              "\n",
              "    .dataframe thead th {\n",
              "        text-align: right;\n",
              "    }\n",
              "</style>\n",
              "<table border=\"1\" class=\"dataframe\">\n",
              "  <thead>\n",
              "    <tr style=\"text-align: right;\">\n",
              "      <th></th>\n",
              "      <th>term_id</th>\n",
              "      <th>191</th>\n",
              "      <th>192</th>\n",
              "      <th>193</th>\n",
              "      <th>194</th>\n",
              "      <th>195</th>\n",
              "      <th>196</th>\n",
              "      <th>197</th>\n",
              "      <th>198</th>\n",
              "      <th>199</th>\n",
              "      <th>200</th>\n",
              "      <th>...</th>\n",
              "      <th>17129</th>\n",
              "      <th>17130</th>\n",
              "      <th>17131</th>\n",
              "      <th>17132</th>\n",
              "      <th>17133</th>\n",
              "      <th>17134</th>\n",
              "      <th>17135</th>\n",
              "      <th>17136</th>\n",
              "      <th>17137</th>\n",
              "      <th>17138</th>\n",
              "    </tr>\n",
              "    <tr>\n",
              "      <th>chap_id</th>\n",
              "      <th>para_id</th>\n",
              "      <th></th>\n",
              "      <th></th>\n",
              "      <th></th>\n",
              "      <th></th>\n",
              "      <th></th>\n",
              "      <th></th>\n",
              "      <th></th>\n",
              "      <th></th>\n",
              "      <th></th>\n",
              "      <th></th>\n",
              "      <th></th>\n",
              "      <th></th>\n",
              "      <th></th>\n",
              "      <th></th>\n",
              "      <th></th>\n",
              "      <th></th>\n",
              "      <th></th>\n",
              "      <th></th>\n",
              "      <th></th>\n",
              "      <th></th>\n",
              "      <th></th>\n",
              "    </tr>\n",
              "  </thead>\n",
              "  <tbody>\n",
              "    <tr>\n",
              "      <th rowspan=\"5\" valign=\"top\">0</th>\n",
              "      <th>0</th>\n",
              "      <td>0.0</td>\n",
              "      <td>0.0</td>\n",
              "      <td>0.0</td>\n",
              "      <td>0.0</td>\n",
              "      <td>0.0</td>\n",
              "      <td>0.0</td>\n",
              "      <td>0.0</td>\n",
              "      <td>0.0</td>\n",
              "      <td>0.0</td>\n",
              "      <td>0.0</td>\n",
              "      <td>...</td>\n",
              "      <td>0.0</td>\n",
              "      <td>0.0</td>\n",
              "      <td>0.0</td>\n",
              "      <td>0.0</td>\n",
              "      <td>0.0</td>\n",
              "      <td>0.0</td>\n",
              "      <td>0.0</td>\n",
              "      <td>0.0</td>\n",
              "      <td>0.0</td>\n",
              "      <td>0.0</td>\n",
              "    </tr>\n",
              "    <tr>\n",
              "      <th>1</th>\n",
              "      <td>0.0</td>\n",
              "      <td>0.0</td>\n",
              "      <td>0.0</td>\n",
              "      <td>0.0</td>\n",
              "      <td>0.0</td>\n",
              "      <td>0.0</td>\n",
              "      <td>0.0</td>\n",
              "      <td>0.0</td>\n",
              "      <td>0.0</td>\n",
              "      <td>0.0</td>\n",
              "      <td>...</td>\n",
              "      <td>0.0</td>\n",
              "      <td>0.0</td>\n",
              "      <td>0.0</td>\n",
              "      <td>0.0</td>\n",
              "      <td>0.0</td>\n",
              "      <td>0.0</td>\n",
              "      <td>0.0</td>\n",
              "      <td>0.0</td>\n",
              "      <td>0.0</td>\n",
              "      <td>0.0</td>\n",
              "    </tr>\n",
              "    <tr>\n",
              "      <th>2</th>\n",
              "      <td>0.0</td>\n",
              "      <td>0.0</td>\n",
              "      <td>0.0</td>\n",
              "      <td>0.0</td>\n",
              "      <td>0.0</td>\n",
              "      <td>0.0</td>\n",
              "      <td>0.0</td>\n",
              "      <td>0.0</td>\n",
              "      <td>0.0</td>\n",
              "      <td>0.0</td>\n",
              "      <td>...</td>\n",
              "      <td>0.0</td>\n",
              "      <td>0.0</td>\n",
              "      <td>0.0</td>\n",
              "      <td>0.0</td>\n",
              "      <td>0.0</td>\n",
              "      <td>0.0</td>\n",
              "      <td>0.0</td>\n",
              "      <td>0.0</td>\n",
              "      <td>0.0</td>\n",
              "      <td>0.0</td>\n",
              "    </tr>\n",
              "    <tr>\n",
              "      <th>3</th>\n",
              "      <td>0.0</td>\n",
              "      <td>0.0</td>\n",
              "      <td>0.0</td>\n",
              "      <td>0.0</td>\n",
              "      <td>0.0</td>\n",
              "      <td>0.0</td>\n",
              "      <td>0.0</td>\n",
              "      <td>0.0</td>\n",
              "      <td>0.0</td>\n",
              "      <td>0.0</td>\n",
              "      <td>...</td>\n",
              "      <td>0.0</td>\n",
              "      <td>0.0</td>\n",
              "      <td>0.0</td>\n",
              "      <td>0.0</td>\n",
              "      <td>0.0</td>\n",
              "      <td>0.0</td>\n",
              "      <td>0.0</td>\n",
              "      <td>0.0</td>\n",
              "      <td>0.0</td>\n",
              "      <td>0.0</td>\n",
              "    </tr>\n",
              "    <tr>\n",
              "      <th>4</th>\n",
              "      <td>0.0</td>\n",
              "      <td>0.0</td>\n",
              "      <td>0.0</td>\n",
              "      <td>0.0</td>\n",
              "      <td>0.0</td>\n",
              "      <td>0.0</td>\n",
              "      <td>0.0</td>\n",
              "      <td>0.0</td>\n",
              "      <td>0.0</td>\n",
              "      <td>0.0</td>\n",
              "      <td>...</td>\n",
              "      <td>0.0</td>\n",
              "      <td>0.0</td>\n",
              "      <td>0.0</td>\n",
              "      <td>0.0</td>\n",
              "      <td>0.0</td>\n",
              "      <td>0.0</td>\n",
              "      <td>0.0</td>\n",
              "      <td>0.0</td>\n",
              "      <td>0.0</td>\n",
              "      <td>0.0</td>\n",
              "    </tr>\n",
              "  </tbody>\n",
              "</table>\n",
              "<p>5 rows × 16487 columns</p>\n",
              "</div>"
            ],
            "text/plain": [
              "term_id          191    192    193    194    195    196    197    198    \\\n",
              "chap_id para_id                                                           \n",
              "0       0          0.0    0.0    0.0    0.0    0.0    0.0    0.0    0.0   \n",
              "        1          0.0    0.0    0.0    0.0    0.0    0.0    0.0    0.0   \n",
              "        2          0.0    0.0    0.0    0.0    0.0    0.0    0.0    0.0   \n",
              "        3          0.0    0.0    0.0    0.0    0.0    0.0    0.0    0.0   \n",
              "        4          0.0    0.0    0.0    0.0    0.0    0.0    0.0    0.0   \n",
              "\n",
              "term_id          199    200    ...    17129  17130  17131  17132  17133  \\\n",
              "chap_id para_id                ...                                        \n",
              "0       0          0.0    0.0  ...      0.0    0.0    0.0    0.0    0.0   \n",
              "        1          0.0    0.0  ...      0.0    0.0    0.0    0.0    0.0   \n",
              "        2          0.0    0.0  ...      0.0    0.0    0.0    0.0    0.0   \n",
              "        3          0.0    0.0  ...      0.0    0.0    0.0    0.0    0.0   \n",
              "        4          0.0    0.0  ...      0.0    0.0    0.0    0.0    0.0   \n",
              "\n",
              "term_id          17134  17135  17136  17137  17138  \n",
              "chap_id para_id                                     \n",
              "0       0          0.0    0.0    0.0    0.0    0.0  \n",
              "        1          0.0    0.0    0.0    0.0    0.0  \n",
              "        2          0.0    0.0    0.0    0.0    0.0  \n",
              "        3          0.0    0.0    0.0    0.0    0.0  \n",
              "        4          0.0    0.0    0.0    0.0    0.0  \n",
              "\n",
              "[5 rows x 16487 columns]"
            ]
          },
          "metadata": {
            "tags": []
          },
          "execution_count": 65
        }
      ]
    },
    {
      "metadata": {
        "id": "Lg1b78gJQcN2",
        "colab_type": "text"
      },
      "cell_type": "markdown",
      "source": [
        "## DTM by Chap"
      ]
    },
    {
      "metadata": {
        "id": "SFVtchZAi9ky",
        "colab_type": "code",
        "colab": {}
      },
      "cell_type": "code",
      "source": [
        "moby_dtm_chaps = moby_bow_chaps.unstack().fillna(0)\n",
        "moby_dtm_chaps.columns = moby_dtm_chaps.columns.droplevel()"
      ],
      "execution_count": 0,
      "outputs": []
    },
    {
      "metadata": {
        "id": "acmXYiF8jHMy",
        "colab_type": "code",
        "outputId": "3904bf3d-6c48-4836-8cdb-7019596effed",
        "colab": {
          "base_uri": "https://localhost:8080/",
          "height": 264
        }
      },
      "cell_type": "code",
      "source": [
        "moby_dtm_chaps.head()"
      ],
      "execution_count": 0,
      "outputs": [
        {
          "output_type": "execute_result",
          "data": {
            "text/html": [
              "<div>\n",
              "<style scoped>\n",
              "    .dataframe tbody tr th:only-of-type {\n",
              "        vertical-align: middle;\n",
              "    }\n",
              "\n",
              "    .dataframe tbody tr th {\n",
              "        vertical-align: top;\n",
              "    }\n",
              "\n",
              "    .dataframe thead th {\n",
              "        text-align: right;\n",
              "    }\n",
              "</style>\n",
              "<table border=\"1\" class=\"dataframe\">\n",
              "  <thead>\n",
              "    <tr style=\"text-align: right;\">\n",
              "      <th>term_id</th>\n",
              "      <th>191</th>\n",
              "      <th>192</th>\n",
              "      <th>193</th>\n",
              "      <th>194</th>\n",
              "      <th>195</th>\n",
              "      <th>196</th>\n",
              "      <th>197</th>\n",
              "      <th>198</th>\n",
              "      <th>199</th>\n",
              "      <th>200</th>\n",
              "      <th>...</th>\n",
              "      <th>17129</th>\n",
              "      <th>17130</th>\n",
              "      <th>17131</th>\n",
              "      <th>17132</th>\n",
              "      <th>17133</th>\n",
              "      <th>17134</th>\n",
              "      <th>17135</th>\n",
              "      <th>17136</th>\n",
              "      <th>17137</th>\n",
              "      <th>17138</th>\n",
              "    </tr>\n",
              "    <tr>\n",
              "      <th>chap_id</th>\n",
              "      <th></th>\n",
              "      <th></th>\n",
              "      <th></th>\n",
              "      <th></th>\n",
              "      <th></th>\n",
              "      <th></th>\n",
              "      <th></th>\n",
              "      <th></th>\n",
              "      <th></th>\n",
              "      <th></th>\n",
              "      <th></th>\n",
              "      <th></th>\n",
              "      <th></th>\n",
              "      <th></th>\n",
              "      <th></th>\n",
              "      <th></th>\n",
              "      <th></th>\n",
              "      <th></th>\n",
              "      <th></th>\n",
              "      <th></th>\n",
              "      <th></th>\n",
              "    </tr>\n",
              "  </thead>\n",
              "  <tbody>\n",
              "    <tr>\n",
              "      <th>0</th>\n",
              "      <td>0.0</td>\n",
              "      <td>0.0</td>\n",
              "      <td>0.0</td>\n",
              "      <td>0.0</td>\n",
              "      <td>0.0</td>\n",
              "      <td>0.0</td>\n",
              "      <td>0.0</td>\n",
              "      <td>0.0</td>\n",
              "      <td>0.0</td>\n",
              "      <td>0.0</td>\n",
              "      <td>...</td>\n",
              "      <td>0.0</td>\n",
              "      <td>0.0</td>\n",
              "      <td>0.0</td>\n",
              "      <td>0.0</td>\n",
              "      <td>0.0</td>\n",
              "      <td>0.0</td>\n",
              "      <td>0.0</td>\n",
              "      <td>0.0</td>\n",
              "      <td>0.0</td>\n",
              "      <td>0.0</td>\n",
              "    </tr>\n",
              "    <tr>\n",
              "      <th>1</th>\n",
              "      <td>0.0</td>\n",
              "      <td>0.0</td>\n",
              "      <td>1.0</td>\n",
              "      <td>0.0</td>\n",
              "      <td>0.0</td>\n",
              "      <td>0.0</td>\n",
              "      <td>0.0</td>\n",
              "      <td>0.0</td>\n",
              "      <td>0.0</td>\n",
              "      <td>0.0</td>\n",
              "      <td>...</td>\n",
              "      <td>0.0</td>\n",
              "      <td>0.0</td>\n",
              "      <td>0.0</td>\n",
              "      <td>0.0</td>\n",
              "      <td>0.0</td>\n",
              "      <td>0.0</td>\n",
              "      <td>0.0</td>\n",
              "      <td>0.0</td>\n",
              "      <td>0.0</td>\n",
              "      <td>0.0</td>\n",
              "    </tr>\n",
              "    <tr>\n",
              "      <th>2</th>\n",
              "      <td>0.0</td>\n",
              "      <td>0.0</td>\n",
              "      <td>0.0</td>\n",
              "      <td>0.0</td>\n",
              "      <td>0.0</td>\n",
              "      <td>0.0</td>\n",
              "      <td>0.0</td>\n",
              "      <td>0.0</td>\n",
              "      <td>0.0</td>\n",
              "      <td>0.0</td>\n",
              "      <td>...</td>\n",
              "      <td>1.0</td>\n",
              "      <td>0.0</td>\n",
              "      <td>0.0</td>\n",
              "      <td>0.0</td>\n",
              "      <td>0.0</td>\n",
              "      <td>0.0</td>\n",
              "      <td>0.0</td>\n",
              "      <td>0.0</td>\n",
              "      <td>0.0</td>\n",
              "      <td>0.0</td>\n",
              "    </tr>\n",
              "    <tr>\n",
              "      <th>3</th>\n",
              "      <td>0.0</td>\n",
              "      <td>0.0</td>\n",
              "      <td>0.0</td>\n",
              "      <td>0.0</td>\n",
              "      <td>0.0</td>\n",
              "      <td>0.0</td>\n",
              "      <td>0.0</td>\n",
              "      <td>0.0</td>\n",
              "      <td>0.0</td>\n",
              "      <td>0.0</td>\n",
              "      <td>...</td>\n",
              "      <td>0.0</td>\n",
              "      <td>0.0</td>\n",
              "      <td>0.0</td>\n",
              "      <td>0.0</td>\n",
              "      <td>0.0</td>\n",
              "      <td>0.0</td>\n",
              "      <td>0.0</td>\n",
              "      <td>0.0</td>\n",
              "      <td>0.0</td>\n",
              "      <td>0.0</td>\n",
              "    </tr>\n",
              "    <tr>\n",
              "      <th>4</th>\n",
              "      <td>0.0</td>\n",
              "      <td>0.0</td>\n",
              "      <td>0.0</td>\n",
              "      <td>0.0</td>\n",
              "      <td>0.0</td>\n",
              "      <td>0.0</td>\n",
              "      <td>0.0</td>\n",
              "      <td>0.0</td>\n",
              "      <td>0.0</td>\n",
              "      <td>0.0</td>\n",
              "      <td>...</td>\n",
              "      <td>0.0</td>\n",
              "      <td>0.0</td>\n",
              "      <td>0.0</td>\n",
              "      <td>0.0</td>\n",
              "      <td>0.0</td>\n",
              "      <td>0.0</td>\n",
              "      <td>0.0</td>\n",
              "      <td>0.0</td>\n",
              "      <td>0.0</td>\n",
              "      <td>0.0</td>\n",
              "    </tr>\n",
              "  </tbody>\n",
              "</table>\n",
              "<p>5 rows × 16487 columns</p>\n",
              "</div>"
            ],
            "text/plain": [
              "term_id  191    192    193    194    195    196    197    198    199    200    \\\n",
              "chap_id                                                                         \n",
              "0          0.0    0.0    0.0    0.0    0.0    0.0    0.0    0.0    0.0    0.0   \n",
              "1          0.0    0.0    1.0    0.0    0.0    0.0    0.0    0.0    0.0    0.0   \n",
              "2          0.0    0.0    0.0    0.0    0.0    0.0    0.0    0.0    0.0    0.0   \n",
              "3          0.0    0.0    0.0    0.0    0.0    0.0    0.0    0.0    0.0    0.0   \n",
              "4          0.0    0.0    0.0    0.0    0.0    0.0    0.0    0.0    0.0    0.0   \n",
              "\n",
              "term_id  ...    17129  17130  17131  17132  17133  17134  17135  17136  17137  \\\n",
              "chap_id  ...                                                                    \n",
              "0        ...      0.0    0.0    0.0    0.0    0.0    0.0    0.0    0.0    0.0   \n",
              "1        ...      0.0    0.0    0.0    0.0    0.0    0.0    0.0    0.0    0.0   \n",
              "2        ...      1.0    0.0    0.0    0.0    0.0    0.0    0.0    0.0    0.0   \n",
              "3        ...      0.0    0.0    0.0    0.0    0.0    0.0    0.0    0.0    0.0   \n",
              "4        ...      0.0    0.0    0.0    0.0    0.0    0.0    0.0    0.0    0.0   \n",
              "\n",
              "term_id  17138  \n",
              "chap_id         \n",
              "0          0.0  \n",
              "1          0.0  \n",
              "2          0.0  \n",
              "3          0.0  \n",
              "4          0.0  \n",
              "\n",
              "[5 rows x 16487 columns]"
            ]
          },
          "metadata": {
            "tags": []
          },
          "execution_count": 67
        }
      ]
    },
    {
      "metadata": {
        "id": "qQ_6L_0kpSjH",
        "colab_type": "text"
      },
      "cell_type": "markdown",
      "source": [
        "## DTM by Chunk"
      ]
    },
    {
      "metadata": {
        "id": "y4rX1zyDpRCQ",
        "colab_type": "code",
        "colab": {}
      },
      "cell_type": "code",
      "source": [
        "moby_dtm_chunks = moby_bow_chunks.unstack().fillna(0)\n",
        "moby_dtm_chunks.columns = moby_dtm_chunks.columns.droplevel()"
      ],
      "execution_count": 0,
      "outputs": []
    },
    {
      "metadata": {
        "id": "b5_7xcCCpck-",
        "colab_type": "code",
        "outputId": "235f7e2f-18d8-4c9c-8073-2155cb8e89ab",
        "colab": {
          "base_uri": "https://localhost:8080/",
          "height": 264
        }
      },
      "cell_type": "code",
      "source": [
        "moby_dtm_chunks.head()"
      ],
      "execution_count": 0,
      "outputs": [
        {
          "output_type": "execute_result",
          "data": {
            "text/html": [
              "<div>\n",
              "<style scoped>\n",
              "    .dataframe tbody tr th:only-of-type {\n",
              "        vertical-align: middle;\n",
              "    }\n",
              "\n",
              "    .dataframe tbody tr th {\n",
              "        vertical-align: top;\n",
              "    }\n",
              "\n",
              "    .dataframe thead th {\n",
              "        text-align: right;\n",
              "    }\n",
              "</style>\n",
              "<table border=\"1\" class=\"dataframe\">\n",
              "  <thead>\n",
              "    <tr style=\"text-align: right;\">\n",
              "      <th>term_id</th>\n",
              "      <th>191</th>\n",
              "      <th>192</th>\n",
              "      <th>193</th>\n",
              "      <th>194</th>\n",
              "      <th>195</th>\n",
              "      <th>196</th>\n",
              "      <th>197</th>\n",
              "      <th>198</th>\n",
              "      <th>199</th>\n",
              "      <th>200</th>\n",
              "      <th>...</th>\n",
              "      <th>17129</th>\n",
              "      <th>17130</th>\n",
              "      <th>17131</th>\n",
              "      <th>17132</th>\n",
              "      <th>17133</th>\n",
              "      <th>17134</th>\n",
              "      <th>17135</th>\n",
              "      <th>17136</th>\n",
              "      <th>17137</th>\n",
              "      <th>17138</th>\n",
              "    </tr>\n",
              "    <tr>\n",
              "      <th>chunk</th>\n",
              "      <th></th>\n",
              "      <th></th>\n",
              "      <th></th>\n",
              "      <th></th>\n",
              "      <th></th>\n",
              "      <th></th>\n",
              "      <th></th>\n",
              "      <th></th>\n",
              "      <th></th>\n",
              "      <th></th>\n",
              "      <th></th>\n",
              "      <th></th>\n",
              "      <th></th>\n",
              "      <th></th>\n",
              "      <th></th>\n",
              "      <th></th>\n",
              "      <th></th>\n",
              "      <th></th>\n",
              "      <th></th>\n",
              "      <th></th>\n",
              "      <th></th>\n",
              "    </tr>\n",
              "  </thead>\n",
              "  <tbody>\n",
              "    <tr>\n",
              "      <th>0</th>\n",
              "      <td>0.0</td>\n",
              "      <td>0.0</td>\n",
              "      <td>0.0</td>\n",
              "      <td>0.0</td>\n",
              "      <td>0.0</td>\n",
              "      <td>0.0</td>\n",
              "      <td>0.0</td>\n",
              "      <td>0.0</td>\n",
              "      <td>0.0</td>\n",
              "      <td>0.0</td>\n",
              "      <td>...</td>\n",
              "      <td>0.0</td>\n",
              "      <td>0.0</td>\n",
              "      <td>0.0</td>\n",
              "      <td>0.0</td>\n",
              "      <td>0.0</td>\n",
              "      <td>0.0</td>\n",
              "      <td>0.0</td>\n",
              "      <td>0.0</td>\n",
              "      <td>0.0</td>\n",
              "      <td>0.0</td>\n",
              "    </tr>\n",
              "    <tr>\n",
              "      <th>1</th>\n",
              "      <td>0.0</td>\n",
              "      <td>0.0</td>\n",
              "      <td>0.0</td>\n",
              "      <td>0.0</td>\n",
              "      <td>0.0</td>\n",
              "      <td>0.0</td>\n",
              "      <td>0.0</td>\n",
              "      <td>0.0</td>\n",
              "      <td>0.0</td>\n",
              "      <td>0.0</td>\n",
              "      <td>...</td>\n",
              "      <td>0.0</td>\n",
              "      <td>0.0</td>\n",
              "      <td>0.0</td>\n",
              "      <td>0.0</td>\n",
              "      <td>0.0</td>\n",
              "      <td>0.0</td>\n",
              "      <td>0.0</td>\n",
              "      <td>0.0</td>\n",
              "      <td>0.0</td>\n",
              "      <td>0.0</td>\n",
              "    </tr>\n",
              "    <tr>\n",
              "      <th>2</th>\n",
              "      <td>0.0</td>\n",
              "      <td>0.0</td>\n",
              "      <td>1.0</td>\n",
              "      <td>0.0</td>\n",
              "      <td>0.0</td>\n",
              "      <td>0.0</td>\n",
              "      <td>0.0</td>\n",
              "      <td>0.0</td>\n",
              "      <td>0.0</td>\n",
              "      <td>0.0</td>\n",
              "      <td>...</td>\n",
              "      <td>0.0</td>\n",
              "      <td>0.0</td>\n",
              "      <td>0.0</td>\n",
              "      <td>0.0</td>\n",
              "      <td>0.0</td>\n",
              "      <td>0.0</td>\n",
              "      <td>0.0</td>\n",
              "      <td>0.0</td>\n",
              "      <td>0.0</td>\n",
              "      <td>0.0</td>\n",
              "    </tr>\n",
              "    <tr>\n",
              "      <th>3</th>\n",
              "      <td>0.0</td>\n",
              "      <td>0.0</td>\n",
              "      <td>0.0</td>\n",
              "      <td>0.0</td>\n",
              "      <td>0.0</td>\n",
              "      <td>0.0</td>\n",
              "      <td>0.0</td>\n",
              "      <td>0.0</td>\n",
              "      <td>0.0</td>\n",
              "      <td>0.0</td>\n",
              "      <td>...</td>\n",
              "      <td>1.0</td>\n",
              "      <td>0.0</td>\n",
              "      <td>0.0</td>\n",
              "      <td>0.0</td>\n",
              "      <td>0.0</td>\n",
              "      <td>0.0</td>\n",
              "      <td>0.0</td>\n",
              "      <td>0.0</td>\n",
              "      <td>0.0</td>\n",
              "      <td>0.0</td>\n",
              "    </tr>\n",
              "    <tr>\n",
              "      <th>4</th>\n",
              "      <td>0.0</td>\n",
              "      <td>0.0</td>\n",
              "      <td>0.0</td>\n",
              "      <td>0.0</td>\n",
              "      <td>0.0</td>\n",
              "      <td>0.0</td>\n",
              "      <td>0.0</td>\n",
              "      <td>0.0</td>\n",
              "      <td>0.0</td>\n",
              "      <td>0.0</td>\n",
              "      <td>...</td>\n",
              "      <td>0.0</td>\n",
              "      <td>0.0</td>\n",
              "      <td>0.0</td>\n",
              "      <td>0.0</td>\n",
              "      <td>0.0</td>\n",
              "      <td>0.0</td>\n",
              "      <td>0.0</td>\n",
              "      <td>0.0</td>\n",
              "      <td>0.0</td>\n",
              "      <td>0.0</td>\n",
              "    </tr>\n",
              "  </tbody>\n",
              "</table>\n",
              "<p>5 rows × 16487 columns</p>\n",
              "</div>"
            ],
            "text/plain": [
              "term_id  191    192    193    194    195    196    197    198    199    200    \\\n",
              "chunk                                                                           \n",
              "0          0.0    0.0    0.0    0.0    0.0    0.0    0.0    0.0    0.0    0.0   \n",
              "1          0.0    0.0    0.0    0.0    0.0    0.0    0.0    0.0    0.0    0.0   \n",
              "2          0.0    0.0    1.0    0.0    0.0    0.0    0.0    0.0    0.0    0.0   \n",
              "3          0.0    0.0    0.0    0.0    0.0    0.0    0.0    0.0    0.0    0.0   \n",
              "4          0.0    0.0    0.0    0.0    0.0    0.0    0.0    0.0    0.0    0.0   \n",
              "\n",
              "term_id  ...    17129  17130  17131  17132  17133  17134  17135  17136  17137  \\\n",
              "chunk    ...                                                                    \n",
              "0        ...      0.0    0.0    0.0    0.0    0.0    0.0    0.0    0.0    0.0   \n",
              "1        ...      0.0    0.0    0.0    0.0    0.0    0.0    0.0    0.0    0.0   \n",
              "2        ...      0.0    0.0    0.0    0.0    0.0    0.0    0.0    0.0    0.0   \n",
              "3        ...      1.0    0.0    0.0    0.0    0.0    0.0    0.0    0.0    0.0   \n",
              "4        ...      0.0    0.0    0.0    0.0    0.0    0.0    0.0    0.0    0.0   \n",
              "\n",
              "term_id  17138  \n",
              "chunk           \n",
              "0          0.0  \n",
              "1          0.0  \n",
              "2          0.0  \n",
              "3          0.0  \n",
              "4          0.0  \n",
              "\n",
              "[5 rows x 16487 columns]"
            ]
          },
          "metadata": {
            "tags": []
          },
          "execution_count": 69
        }
      ]
    },
    {
      "metadata": {
        "id": "xiqLFFxfBcZq",
        "colab_type": "text"
      },
      "cell_type": "markdown",
      "source": [
        "## Some graphs"
      ]
    },
    {
      "metadata": {
        "id": "ykNYQoC5HHt-",
        "colab_type": "code",
        "colab": {}
      },
      "cell_type": "code",
      "source": [
        "WHALE = term_id('whale')\n",
        "AHAB = term_id('ahab')"
      ],
      "execution_count": 0,
      "outputs": []
    },
    {
      "metadata": {
        "id": "A-Kar1pJIVCx",
        "colab_type": "code",
        "colab": {}
      },
      "cell_type": "code",
      "source": [
        "WIDE = (15, 3)\n",
        "THIN = (3, 10)"
      ],
      "execution_count": 0,
      "outputs": []
    },
    {
      "metadata": {
        "id": "WfBPfx0lwT52",
        "colab_type": "code",
        "colab": {}
      },
      "cell_type": "code",
      "source": [
        "# term_ids = [term_id(term) for term in terms]\n",
        "# df = moby_dtm[term_ids].stack().to_frame().rename(columns={0:'n'})\n",
        "# df.head()\n",
        "# g = sns.FacetGrid(df.reset_index(), row='term_id', aspect=5)\n",
        "# g = g.map(plt.plot, 'n')"
      ],
      "execution_count": 0,
      "outputs": []
    },
    {
      "metadata": {
        "id": "hLYKSDbmIZ46",
        "colab_type": "code",
        "outputId": "d7a284b8-0bc3-4b9e-8a53-e9a3af47da29",
        "colab": {
          "base_uri": "https://localhost:8080/",
          "height": 232
        }
      },
      "cell_type": "code",
      "source": [
        "moby_dtm[WHALE].plot(figsize=WIDE)"
      ],
      "execution_count": 0,
      "outputs": [
        {
          "output_type": "execute_result",
          "data": {
            "text/plain": [
              "<matplotlib.axes._subplots.AxesSubplot at 0x7fba786a74e0>"
            ]
          },
          "metadata": {
            "tags": []
          },
          "execution_count": 230
        },
        {
          "output_type": "display_data",
          "data": {
            "image/png": "[encoded data removed]",
            "text/plain": [
              "<matplotlib.figure.Figure at 0x7fba78549d68>"
            ]
          },
          "metadata": {
            "tags": []
          }
        }
      ]
    },
    {
      "metadata": {
        "id": "fudY4TrjcJeq",
        "colab_type": "code",
        "outputId": "60e16e49-08b5-45cd-a86d-100cbc6f8190",
        "colab": {
          "base_uri": "https://localhost:8080/",
          "height": 232
        }
      },
      "cell_type": "code",
      "source": [
        "moby_dtm[AHAB].plot(figsize=WIDE)"
      ],
      "execution_count": 0,
      "outputs": [
        {
          "output_type": "execute_result",
          "data": {
            "text/plain": [
              "<matplotlib.axes._subplots.AxesSubplot at 0x7fba77f822b0>"
            ]
          },
          "metadata": {
            "tags": []
          },
          "execution_count": 231
        },
        {
          "output_type": "display_data",
          "data": {
            "image/png": "[encoded data removed]",
            "text/plain": [
              "<matplotlib.figure.Figure at 0x7fba786f9c50>"
            ]
          },
          "metadata": {
            "tags": []
          }
        }
      ]
    },
    {
      "metadata": {
        "id": "Or37SCw6BizI",
        "colab_type": "text"
      },
      "cell_type": "markdown",
      "source": [
        "# Create TFIDF Matrix"
      ]
    },
    {
      "metadata": {
        "id": "uB3GPCHaGUEj",
        "colab_type": "text"
      },
      "cell_type": "markdown",
      "source": [
        "## Get N docs"
      ]
    },
    {
      "metadata": {
        "id": "F9eizBE1dOuC",
        "colab_type": "code",
        "colab": {}
      },
      "cell_type": "code",
      "source": [
        "N = len(moby_dtm.index)"
      ],
      "execution_count": 0,
      "outputs": []
    },
    {
      "metadata": {
        "id": "WXURn-nDdbBm",
        "colab_type": "code",
        "outputId": "9db56db5-c9ee-4061-ccea-e35e627e551e",
        "colab": {
          "base_uri": "https://localhost:8080/",
          "height": 34
        }
      },
      "cell_type": "code",
      "source": [
        "N"
      ],
      "execution_count": 0,
      "outputs": [
        {
          "output_type": "execute_result",
          "data": {
            "text/plain": [
              "2774"
            ]
          },
          "metadata": {
            "tags": []
          },
          "execution_count": 75
        }
      ]
    },
    {
      "metadata": {
        "id": "sP7OiFJHGWLj",
        "colab_type": "text"
      },
      "cell_type": "markdown",
      "source": [
        "## TFIDF  by Para"
      ]
    },
    {
      "metadata": {
        "id": "RoxTCLdHYb98",
        "colab_type": "code",
        "colab": {}
      },
      "cell_type": "code",
      "source": [
        "moby_dtm_tfidf = moby_dtm.apply(lambda row: row / row.sum(), 1).apply(lambda col: col * np.log(N/col[col > 0].count()))"
      ],
      "execution_count": 0,
      "outputs": []
    },
    {
      "metadata": {
        "id": "n0ZgY4AUqlHx",
        "colab_type": "code",
        "colab": {}
      },
      "cell_type": "code",
      "source": [
        "moby_bow['tfidf'] = moby_dtm_tfidf.stack().to_frame().rename(columns={0:'tfidf'})"
      ],
      "execution_count": 0,
      "outputs": []
    },
    {
      "metadata": {
        "id": "j7CIPHE3qpXE",
        "colab_type": "code",
        "outputId": "f3753819-c9b5-423b-a951-50c91058cf3e",
        "colab": {
          "base_uri": "https://localhost:8080/",
          "height": 235
        }
      },
      "cell_type": "code",
      "source": [
        "moby_bow.sort_values('tfidf', ascending=False).head()"
      ],
      "execution_count": 0,
      "outputs": [
        {
          "output_type": "execute_result",
          "data": {
            "text/html": [
              "<div>\n",
              "<style scoped>\n",
              "    .dataframe tbody tr th:only-of-type {\n",
              "        vertical-align: middle;\n",
              "    }\n",
              "\n",
              "    .dataframe tbody tr th {\n",
              "        vertical-align: top;\n",
              "    }\n",
              "\n",
              "    .dataframe thead th {\n",
              "        text-align: right;\n",
              "    }\n",
              "</style>\n",
              "<table border=\"1\" class=\"dataframe\">\n",
              "  <thead>\n",
              "    <tr style=\"text-align: right;\">\n",
              "      <th></th>\n",
              "      <th></th>\n",
              "      <th></th>\n",
              "      <th>n</th>\n",
              "      <th>tfidf</th>\n",
              "    </tr>\n",
              "    <tr>\n",
              "      <th>chap_id</th>\n",
              "      <th>para_id</th>\n",
              "      <th>term_id</th>\n",
              "      <th></th>\n",
              "      <th></th>\n",
              "    </tr>\n",
              "  </thead>\n",
              "  <tbody>\n",
              "    <tr>\n",
              "      <th>0</th>\n",
              "      <th>0</th>\n",
              "      <th>5198</th>\n",
              "      <td>1</td>\n",
              "      <td>7.928046</td>\n",
              "    </tr>\n",
              "    <tr>\n",
              "      <th>25</th>\n",
              "      <th>1</th>\n",
              "      <th>11319</th>\n",
              "      <td>1</td>\n",
              "      <td>7.928046</td>\n",
              "    </tr>\n",
              "    <tr>\n",
              "      <th>12</th>\n",
              "      <th>1</th>\n",
              "      <th>1598</th>\n",
              "      <td>1</td>\n",
              "      <td>7.928046</td>\n",
              "    </tr>\n",
              "    <tr>\n",
              "      <th>11</th>\n",
              "      <th>1</th>\n",
              "      <th>10008</th>\n",
              "      <td>1</td>\n",
              "      <td>7.928046</td>\n",
              "    </tr>\n",
              "    <tr>\n",
              "      <th>1</th>\n",
              "      <th>1</th>\n",
              "      <th>8940</th>\n",
              "      <td>1</td>\n",
              "      <td>7.928046</td>\n",
              "    </tr>\n",
              "  </tbody>\n",
              "</table>\n",
              "</div>"
            ],
            "text/plain": [
              "                         n     tfidf\n",
              "chap_id para_id term_id             \n",
              "0       0       5198     1  7.928046\n",
              "25      1       11319    1  7.928046\n",
              "12      1       1598     1  7.928046\n",
              "11      1       10008    1  7.928046\n",
              "1       1       8940     1  7.928046"
            ]
          },
          "metadata": {
            "tags": []
          },
          "execution_count": 139
        }
      ]
    },
    {
      "metadata": {
        "id": "vk8PtcGfZXmB",
        "colab_type": "code",
        "outputId": "5e8a3eae-3fde-48d3-e61e-fc968c32e8bd",
        "colab": {
          "base_uri": "https://localhost:8080/",
          "height": 284
        }
      },
      "cell_type": "code",
      "source": [
        "moby_dtm_tfidf.head()"
      ],
      "execution_count": 0,
      "outputs": [
        {
          "output_type": "execute_result",
          "data": {
            "text/html": [
              "<div>\n",
              "<style scoped>\n",
              "    .dataframe tbody tr th:only-of-type {\n",
              "        vertical-align: middle;\n",
              "    }\n",
              "\n",
              "    .dataframe tbody tr th {\n",
              "        vertical-align: top;\n",
              "    }\n",
              "\n",
              "    .dataframe thead th {\n",
              "        text-align: right;\n",
              "    }\n",
              "</style>\n",
              "<table border=\"1\" class=\"dataframe\">\n",
              "  <thead>\n",
              "    <tr style=\"text-align: right;\">\n",
              "      <th></th>\n",
              "      <th>term_id</th>\n",
              "      <th>191</th>\n",
              "      <th>192</th>\n",
              "      <th>193</th>\n",
              "      <th>194</th>\n",
              "      <th>195</th>\n",
              "      <th>196</th>\n",
              "      <th>197</th>\n",
              "      <th>198</th>\n",
              "      <th>199</th>\n",
              "      <th>200</th>\n",
              "      <th>...</th>\n",
              "      <th>17129</th>\n",
              "      <th>17130</th>\n",
              "      <th>17131</th>\n",
              "      <th>17132</th>\n",
              "      <th>17133</th>\n",
              "      <th>17134</th>\n",
              "      <th>17135</th>\n",
              "      <th>17136</th>\n",
              "      <th>17137</th>\n",
              "      <th>17138</th>\n",
              "    </tr>\n",
              "    <tr>\n",
              "      <th>chap_id</th>\n",
              "      <th>para_id</th>\n",
              "      <th></th>\n",
              "      <th></th>\n",
              "      <th></th>\n",
              "      <th></th>\n",
              "      <th></th>\n",
              "      <th></th>\n",
              "      <th></th>\n",
              "      <th></th>\n",
              "      <th></th>\n",
              "      <th></th>\n",
              "      <th></th>\n",
              "      <th></th>\n",
              "      <th></th>\n",
              "      <th></th>\n",
              "      <th></th>\n",
              "      <th></th>\n",
              "      <th></th>\n",
              "      <th></th>\n",
              "      <th></th>\n",
              "      <th></th>\n",
              "      <th></th>\n",
              "    </tr>\n",
              "  </thead>\n",
              "  <tbody>\n",
              "    <tr>\n",
              "      <th rowspan=\"5\" valign=\"top\">0</th>\n",
              "      <th>0</th>\n",
              "      <td>0.0</td>\n",
              "      <td>0.0</td>\n",
              "      <td>0.0</td>\n",
              "      <td>0.0</td>\n",
              "      <td>0.0</td>\n",
              "      <td>0.0</td>\n",
              "      <td>0.0</td>\n",
              "      <td>0.0</td>\n",
              "      <td>0.0</td>\n",
              "      <td>0.0</td>\n",
              "      <td>...</td>\n",
              "      <td>0.0</td>\n",
              "      <td>0.0</td>\n",
              "      <td>0.0</td>\n",
              "      <td>0.0</td>\n",
              "      <td>0.0</td>\n",
              "      <td>0.0</td>\n",
              "      <td>0.0</td>\n",
              "      <td>0.0</td>\n",
              "      <td>0.0</td>\n",
              "      <td>0.0</td>\n",
              "    </tr>\n",
              "    <tr>\n",
              "      <th>1</th>\n",
              "      <td>0.0</td>\n",
              "      <td>0.0</td>\n",
              "      <td>0.0</td>\n",
              "      <td>0.0</td>\n",
              "      <td>0.0</td>\n",
              "      <td>0.0</td>\n",
              "      <td>0.0</td>\n",
              "      <td>0.0</td>\n",
              "      <td>0.0</td>\n",
              "      <td>0.0</td>\n",
              "      <td>...</td>\n",
              "      <td>0.0</td>\n",
              "      <td>0.0</td>\n",
              "      <td>0.0</td>\n",
              "      <td>0.0</td>\n",
              "      <td>0.0</td>\n",
              "      <td>0.0</td>\n",
              "      <td>0.0</td>\n",
              "      <td>0.0</td>\n",
              "      <td>0.0</td>\n",
              "      <td>0.0</td>\n",
              "    </tr>\n",
              "    <tr>\n",
              "      <th>2</th>\n",
              "      <td>0.0</td>\n",
              "      <td>0.0</td>\n",
              "      <td>0.0</td>\n",
              "      <td>0.0</td>\n",
              "      <td>0.0</td>\n",
              "      <td>0.0</td>\n",
              "      <td>0.0</td>\n",
              "      <td>0.0</td>\n",
              "      <td>0.0</td>\n",
              "      <td>0.0</td>\n",
              "      <td>...</td>\n",
              "      <td>0.0</td>\n",
              "      <td>0.0</td>\n",
              "      <td>0.0</td>\n",
              "      <td>0.0</td>\n",
              "      <td>0.0</td>\n",
              "      <td>0.0</td>\n",
              "      <td>0.0</td>\n",
              "      <td>0.0</td>\n",
              "      <td>0.0</td>\n",
              "      <td>0.0</td>\n",
              "    </tr>\n",
              "    <tr>\n",
              "      <th>3</th>\n",
              "      <td>0.0</td>\n",
              "      <td>0.0</td>\n",
              "      <td>0.0</td>\n",
              "      <td>0.0</td>\n",
              "      <td>0.0</td>\n",
              "      <td>0.0</td>\n",
              "      <td>0.0</td>\n",
              "      <td>0.0</td>\n",
              "      <td>0.0</td>\n",
              "      <td>0.0</td>\n",
              "      <td>...</td>\n",
              "      <td>0.0</td>\n",
              "      <td>0.0</td>\n",
              "      <td>0.0</td>\n",
              "      <td>0.0</td>\n",
              "      <td>0.0</td>\n",
              "      <td>0.0</td>\n",
              "      <td>0.0</td>\n",
              "      <td>0.0</td>\n",
              "      <td>0.0</td>\n",
              "      <td>0.0</td>\n",
              "    </tr>\n",
              "    <tr>\n",
              "      <th>4</th>\n",
              "      <td>0.0</td>\n",
              "      <td>0.0</td>\n",
              "      <td>0.0</td>\n",
              "      <td>0.0</td>\n",
              "      <td>0.0</td>\n",
              "      <td>0.0</td>\n",
              "      <td>0.0</td>\n",
              "      <td>0.0</td>\n",
              "      <td>0.0</td>\n",
              "      <td>0.0</td>\n",
              "      <td>...</td>\n",
              "      <td>0.0</td>\n",
              "      <td>0.0</td>\n",
              "      <td>0.0</td>\n",
              "      <td>0.0</td>\n",
              "      <td>0.0</td>\n",
              "      <td>0.0</td>\n",
              "      <td>0.0</td>\n",
              "      <td>0.0</td>\n",
              "      <td>0.0</td>\n",
              "      <td>0.0</td>\n",
              "    </tr>\n",
              "  </tbody>\n",
              "</table>\n",
              "<p>5 rows × 16487 columns</p>\n",
              "</div>"
            ],
            "text/plain": [
              "term_id          191    192    193    194    195    196    197    198    \\\n",
              "chap_id para_id                                                           \n",
              "0       0          0.0    0.0    0.0    0.0    0.0    0.0    0.0    0.0   \n",
              "        1          0.0    0.0    0.0    0.0    0.0    0.0    0.0    0.0   \n",
              "        2          0.0    0.0    0.0    0.0    0.0    0.0    0.0    0.0   \n",
              "        3          0.0    0.0    0.0    0.0    0.0    0.0    0.0    0.0   \n",
              "        4          0.0    0.0    0.0    0.0    0.0    0.0    0.0    0.0   \n",
              "\n",
              "term_id          199    200    ...    17129  17130  17131  17132  17133  \\\n",
              "chap_id para_id                ...                                        \n",
              "0       0          0.0    0.0  ...      0.0    0.0    0.0    0.0    0.0   \n",
              "        1          0.0    0.0  ...      0.0    0.0    0.0    0.0    0.0   \n",
              "        2          0.0    0.0  ...      0.0    0.0    0.0    0.0    0.0   \n",
              "        3          0.0    0.0  ...      0.0    0.0    0.0    0.0    0.0   \n",
              "        4          0.0    0.0  ...      0.0    0.0    0.0    0.0    0.0   \n",
              "\n",
              "term_id          17134  17135  17136  17137  17138  \n",
              "chap_id para_id                                     \n",
              "0       0          0.0    0.0    0.0    0.0    0.0  \n",
              "        1          0.0    0.0    0.0    0.0    0.0  \n",
              "        2          0.0    0.0    0.0    0.0    0.0  \n",
              "        3          0.0    0.0    0.0    0.0    0.0  \n",
              "        4          0.0    0.0    0.0    0.0    0.0  \n",
              "\n",
              "[5 rows x 16487 columns]"
            ]
          },
          "metadata": {
            "tags": []
          },
          "execution_count": 77
        }
      ]
    },
    {
      "metadata": {
        "id": "b5bPt88FLXrt",
        "colab_type": "text"
      },
      "cell_type": "markdown",
      "source": [
        "## TFIDF by Chap"
      ]
    },
    {
      "metadata": {
        "id": "wQPRzWCEJ8ZG",
        "colab_type": "code",
        "colab": {}
      },
      "cell_type": "code",
      "source": [
        "moby_dtm_tfidf_chaps = moby_dtm_chaps.apply(lambda row: row / row.sum(), 1).apply(lambda col: col * np.log(N/col[col > 0].count()))"
      ],
      "execution_count": 0,
      "outputs": []
    },
    {
      "metadata": {
        "id": "iwJIsOmkqRsb",
        "colab_type": "code",
        "colab": {}
      },
      "cell_type": "code",
      "source": [
        "moby_bow_chaps['tfidf'] = moby_dtm_tfidf_chaps.stack().to_frame().rename(columns={0:'tfidf'})"
      ],
      "execution_count": 0,
      "outputs": []
    },
    {
      "metadata": {
        "id": "_KMQ-quYKEJQ",
        "colab_type": "code",
        "outputId": "3ac5ed50-ba61-4644-c680-582d27bcdbc0",
        "colab": {
          "base_uri": "https://localhost:8080/",
          "height": 284
        }
      },
      "cell_type": "code",
      "source": [
        "moby_dtm_tfidf_chaps.head()"
      ],
      "execution_count": 0,
      "outputs": [
        {
          "output_type": "execute_result",
          "data": {
            "text/html": [
              "<div>\n",
              "<style scoped>\n",
              "    .dataframe tbody tr th:only-of-type {\n",
              "        vertical-align: middle;\n",
              "    }\n",
              "\n",
              "    .dataframe tbody tr th {\n",
              "        vertical-align: top;\n",
              "    }\n",
              "\n",
              "    .dataframe thead th {\n",
              "        text-align: right;\n",
              "    }\n",
              "</style>\n",
              "<table border=\"1\" class=\"dataframe\">\n",
              "  <thead>\n",
              "    <tr style=\"text-align: right;\">\n",
              "      <th>term_id</th>\n",
              "      <th>191</th>\n",
              "      <th>192</th>\n",
              "      <th>193</th>\n",
              "      <th>194</th>\n",
              "      <th>195</th>\n",
              "      <th>196</th>\n",
              "      <th>197</th>\n",
              "      <th>198</th>\n",
              "      <th>199</th>\n",
              "      <th>200</th>\n",
              "      <th>...</th>\n",
              "      <th>17129</th>\n",
              "      <th>17130</th>\n",
              "      <th>17131</th>\n",
              "      <th>17132</th>\n",
              "      <th>17133</th>\n",
              "      <th>17134</th>\n",
              "      <th>17135</th>\n",
              "      <th>17136</th>\n",
              "      <th>17137</th>\n",
              "      <th>17138</th>\n",
              "    </tr>\n",
              "    <tr>\n",
              "      <th>chap_id</th>\n",
              "      <th></th>\n",
              "      <th></th>\n",
              "      <th></th>\n",
              "      <th></th>\n",
              "      <th></th>\n",
              "      <th></th>\n",
              "      <th></th>\n",
              "      <th></th>\n",
              "      <th></th>\n",
              "      <th></th>\n",
              "      <th></th>\n",
              "      <th></th>\n",
              "      <th></th>\n",
              "      <th></th>\n",
              "      <th></th>\n",
              "      <th></th>\n",
              "      <th></th>\n",
              "      <th></th>\n",
              "      <th></th>\n",
              "      <th></th>\n",
              "      <th></th>\n",
              "    </tr>\n",
              "  </thead>\n",
              "  <tbody>\n",
              "    <tr>\n",
              "      <th>0</th>\n",
              "      <td>0.0</td>\n",
              "      <td>0.0</td>\n",
              "      <td>0.00000</td>\n",
              "      <td>0.0</td>\n",
              "      <td>0.0</td>\n",
              "      <td>0.0</td>\n",
              "      <td>0.0</td>\n",
              "      <td>0.0</td>\n",
              "      <td>0.0</td>\n",
              "      <td>0.0</td>\n",
              "      <td>...</td>\n",
              "      <td>0.000000</td>\n",
              "      <td>0.0</td>\n",
              "      <td>0.0</td>\n",
              "      <td>0.0</td>\n",
              "      <td>0.0</td>\n",
              "      <td>0.0</td>\n",
              "      <td>0.0</td>\n",
              "      <td>0.0</td>\n",
              "      <td>0.0</td>\n",
              "      <td>0.0</td>\n",
              "    </tr>\n",
              "    <tr>\n",
              "      <th>1</th>\n",
              "      <td>0.0</td>\n",
              "      <td>0.0</td>\n",
              "      <td>0.00815</td>\n",
              "      <td>0.0</td>\n",
              "      <td>0.0</td>\n",
              "      <td>0.0</td>\n",
              "      <td>0.0</td>\n",
              "      <td>0.0</td>\n",
              "      <td>0.0</td>\n",
              "      <td>0.0</td>\n",
              "      <td>...</td>\n",
              "      <td>0.000000</td>\n",
              "      <td>0.0</td>\n",
              "      <td>0.0</td>\n",
              "      <td>0.0</td>\n",
              "      <td>0.0</td>\n",
              "      <td>0.0</td>\n",
              "      <td>0.0</td>\n",
              "      <td>0.0</td>\n",
              "      <td>0.0</td>\n",
              "      <td>0.0</td>\n",
              "    </tr>\n",
              "    <tr>\n",
              "      <th>2</th>\n",
              "      <td>0.0</td>\n",
              "      <td>0.0</td>\n",
              "      <td>0.00000</td>\n",
              "      <td>0.0</td>\n",
              "      <td>0.0</td>\n",
              "      <td>0.0</td>\n",
              "      <td>0.0</td>\n",
              "      <td>0.0</td>\n",
              "      <td>0.0</td>\n",
              "      <td>0.0</td>\n",
              "      <td>...</td>\n",
              "      <td>0.013693</td>\n",
              "      <td>0.0</td>\n",
              "      <td>0.0</td>\n",
              "      <td>0.0</td>\n",
              "      <td>0.0</td>\n",
              "      <td>0.0</td>\n",
              "      <td>0.0</td>\n",
              "      <td>0.0</td>\n",
              "      <td>0.0</td>\n",
              "      <td>0.0</td>\n",
              "    </tr>\n",
              "    <tr>\n",
              "      <th>3</th>\n",
              "      <td>0.0</td>\n",
              "      <td>0.0</td>\n",
              "      <td>0.00000</td>\n",
              "      <td>0.0</td>\n",
              "      <td>0.0</td>\n",
              "      <td>0.0</td>\n",
              "      <td>0.0</td>\n",
              "      <td>0.0</td>\n",
              "      <td>0.0</td>\n",
              "      <td>0.0</td>\n",
              "      <td>...</td>\n",
              "      <td>0.000000</td>\n",
              "      <td>0.0</td>\n",
              "      <td>0.0</td>\n",
              "      <td>0.0</td>\n",
              "      <td>0.0</td>\n",
              "      <td>0.0</td>\n",
              "      <td>0.0</td>\n",
              "      <td>0.0</td>\n",
              "      <td>0.0</td>\n",
              "      <td>0.0</td>\n",
              "    </tr>\n",
              "    <tr>\n",
              "      <th>4</th>\n",
              "      <td>0.0</td>\n",
              "      <td>0.0</td>\n",
              "      <td>0.00000</td>\n",
              "      <td>0.0</td>\n",
              "      <td>0.0</td>\n",
              "      <td>0.0</td>\n",
              "      <td>0.0</td>\n",
              "      <td>0.0</td>\n",
              "      <td>0.0</td>\n",
              "      <td>0.0</td>\n",
              "      <td>...</td>\n",
              "      <td>0.000000</td>\n",
              "      <td>0.0</td>\n",
              "      <td>0.0</td>\n",
              "      <td>0.0</td>\n",
              "      <td>0.0</td>\n",
              "      <td>0.0</td>\n",
              "      <td>0.0</td>\n",
              "      <td>0.0</td>\n",
              "      <td>0.0</td>\n",
              "      <td>0.0</td>\n",
              "    </tr>\n",
              "  </tbody>\n",
              "</table>\n",
              "<p>5 rows × 16487 columns</p>\n",
              "</div>"
            ],
            "text/plain": [
              "term_id  191    192      193    194    195    196    197    198    199    \\\n",
              "chap_id                                                                    \n",
              "0          0.0    0.0  0.00000    0.0    0.0    0.0    0.0    0.0    0.0   \n",
              "1          0.0    0.0  0.00815    0.0    0.0    0.0    0.0    0.0    0.0   \n",
              "2          0.0    0.0  0.00000    0.0    0.0    0.0    0.0    0.0    0.0   \n",
              "3          0.0    0.0  0.00000    0.0    0.0    0.0    0.0    0.0    0.0   \n",
              "4          0.0    0.0  0.00000    0.0    0.0    0.0    0.0    0.0    0.0   \n",
              "\n",
              "term_id  200    ...       17129  17130  17131  17132  17133  17134  17135  \\\n",
              "chap_id         ...                                                         \n",
              "0          0.0  ...    0.000000    0.0    0.0    0.0    0.0    0.0    0.0   \n",
              "1          0.0  ...    0.000000    0.0    0.0    0.0    0.0    0.0    0.0   \n",
              "2          0.0  ...    0.013693    0.0    0.0    0.0    0.0    0.0    0.0   \n",
              "3          0.0  ...    0.000000    0.0    0.0    0.0    0.0    0.0    0.0   \n",
              "4          0.0  ...    0.000000    0.0    0.0    0.0    0.0    0.0    0.0   \n",
              "\n",
              "term_id  17136  17137  17138  \n",
              "chap_id                       \n",
              "0          0.0    0.0    0.0  \n",
              "1          0.0    0.0    0.0  \n",
              "2          0.0    0.0    0.0  \n",
              "3          0.0    0.0    0.0  \n",
              "4          0.0    0.0    0.0  \n",
              "\n",
              "[5 rows x 16487 columns]"
            ]
          },
          "metadata": {
            "tags": []
          },
          "execution_count": 79
        }
      ]
    },
    {
      "metadata": {
        "id": "bY5uQeGppBt7",
        "colab_type": "text"
      },
      "cell_type": "markdown",
      "source": [
        "## TFIDF by Chunk"
      ]
    },
    {
      "metadata": {
        "id": "zS9sLdUvpFkX",
        "colab_type": "code",
        "colab": {}
      },
      "cell_type": "code",
      "source": [
        "moby_dtm_tfidf_chunks = moby_dtm_chunks.apply(lambda row: row / row.sum(), 1).apply(lambda col: col * np.log(N/col[col > 0].count()))"
      ],
      "execution_count": 0,
      "outputs": []
    },
    {
      "metadata": {
        "id": "jw3Rzl9oqUEZ",
        "colab_type": "code",
        "colab": {}
      },
      "cell_type": "code",
      "source": [
        "moby_bow_chunks['tfidf'] = moby_dtm_tfidf_chunks.stack().to_frame().rename(columns={0:'tfidf'})"
      ],
      "execution_count": 0,
      "outputs": []
    },
    {
      "metadata": {
        "id": "1RM2r9tDqYSw",
        "colab_type": "code",
        "outputId": "6328cd13-77d9-45f2-8d14-e78a820e9acf",
        "colab": {
          "base_uri": "https://localhost:8080/",
          "height": 2000
        }
      },
      "cell_type": "code",
      "source": [
        "moby_bow_chunks"
      ],
      "execution_count": 0,
      "outputs": [
        {
          "output_type": "execute_result",
          "data": {
            "text/html": [
              "<div>\n",
              "<style scoped>\n",
              "    .dataframe tbody tr th:only-of-type {\n",
              "        vertical-align: middle;\n",
              "    }\n",
              "\n",
              "    .dataframe tbody tr th {\n",
              "        vertical-align: top;\n",
              "    }\n",
              "\n",
              "    .dataframe thead th {\n",
              "        text-align: right;\n",
              "    }\n",
              "</style>\n",
              "<table border=\"1\" class=\"dataframe\">\n",
              "  <thead>\n",
              "    <tr style=\"text-align: right;\">\n",
              "      <th></th>\n",
              "      <th></th>\n",
              "      <th>n</th>\n",
              "      <th>tfidf</th>\n",
              "    </tr>\n",
              "    <tr>\n",
              "      <th>chunk</th>\n",
              "      <th>term_id</th>\n",
              "      <th></th>\n",
              "      <th></th>\n",
              "    </tr>\n",
              "  </thead>\n",
              "  <tbody>\n",
              "    <tr>\n",
              "      <th rowspan=\"30\" valign=\"top\">0</th>\n",
              "      <th>319</th>\n",
              "      <td>1</td>\n",
              "      <td>0.015043</td>\n",
              "    </tr>\n",
              "    <tr>\n",
              "      <th>441</th>\n",
              "      <td>1</td>\n",
              "      <td>0.015936</td>\n",
              "    </tr>\n",
              "    <tr>\n",
              "      <th>466</th>\n",
              "      <td>1</td>\n",
              "      <td>0.017463</td>\n",
              "    </tr>\n",
              "    <tr>\n",
              "      <th>543</th>\n",
              "      <td>1</td>\n",
              "      <td>0.015936</td>\n",
              "    </tr>\n",
              "    <tr>\n",
              "      <th>580</th>\n",
              "      <td>1</td>\n",
              "      <td>0.013918</td>\n",
              "    </tr>\n",
              "    <tr>\n",
              "      <th>586</th>\n",
              "      <td>1</td>\n",
              "      <td>0.009569</td>\n",
              "    </tr>\n",
              "    <tr>\n",
              "      <th>608</th>\n",
              "      <td>1</td>\n",
              "      <td>0.010123</td>\n",
              "    </tr>\n",
              "    <tr>\n",
              "      <th>675</th>\n",
              "      <td>1</td>\n",
              "      <td>0.010864</td>\n",
              "    </tr>\n",
              "    <tr>\n",
              "      <th>689</th>\n",
              "      <td>1</td>\n",
              "      <td>0.017463</td>\n",
              "    </tr>\n",
              "    <tr>\n",
              "      <th>695</th>\n",
              "      <td>1</td>\n",
              "      <td>0.011813</td>\n",
              "    </tr>\n",
              "    <tr>\n",
              "      <th>704</th>\n",
              "      <td>1</td>\n",
              "      <td>0.015043</td>\n",
              "    </tr>\n",
              "    <tr>\n",
              "      <th>778</th>\n",
              "      <td>1</td>\n",
              "      <td>0.017463</td>\n",
              "    </tr>\n",
              "    <tr>\n",
              "      <th>800</th>\n",
              "      <td>1</td>\n",
              "      <td>0.012882</td>\n",
              "    </tr>\n",
              "    <tr>\n",
              "      <th>801</th>\n",
              "      <td>1</td>\n",
              "      <td>0.015043</td>\n",
              "    </tr>\n",
              "    <tr>\n",
              "      <th>802</th>\n",
              "      <td>1</td>\n",
              "      <td>0.013177</td>\n",
              "    </tr>\n",
              "    <tr>\n",
              "      <th>860</th>\n",
              "      <td>1</td>\n",
              "      <td>0.012391</td>\n",
              "    </tr>\n",
              "    <tr>\n",
              "      <th>909</th>\n",
              "      <td>1</td>\n",
              "      <td>0.017463</td>\n",
              "    </tr>\n",
              "    <tr>\n",
              "      <th>931</th>\n",
              "      <td>1</td>\n",
              "      <td>0.010556</td>\n",
              "    </tr>\n",
              "    <tr>\n",
              "      <th>1100</th>\n",
              "      <td>1</td>\n",
              "      <td>0.015043</td>\n",
              "    </tr>\n",
              "    <tr>\n",
              "      <th>1108</th>\n",
              "      <td>1</td>\n",
              "      <td>0.015043</td>\n",
              "    </tr>\n",
              "    <tr>\n",
              "      <th>1117</th>\n",
              "      <td>1</td>\n",
              "      <td>0.017463</td>\n",
              "    </tr>\n",
              "    <tr>\n",
              "      <th>1184</th>\n",
              "      <td>1</td>\n",
              "      <td>0.017463</td>\n",
              "    </tr>\n",
              "    <tr>\n",
              "      <th>1205</th>\n",
              "      <td>1</td>\n",
              "      <td>0.017463</td>\n",
              "    </tr>\n",
              "    <tr>\n",
              "      <th>1212</th>\n",
              "      <td>1</td>\n",
              "      <td>0.017463</td>\n",
              "    </tr>\n",
              "    <tr>\n",
              "      <th>1220</th>\n",
              "      <td>1</td>\n",
              "      <td>0.017463</td>\n",
              "    </tr>\n",
              "    <tr>\n",
              "      <th>1374</th>\n",
              "      <td>2</td>\n",
              "      <td>0.030086</td>\n",
              "    </tr>\n",
              "    <tr>\n",
              "      <th>1380</th>\n",
              "      <td>1</td>\n",
              "      <td>0.012623</td>\n",
              "    </tr>\n",
              "    <tr>\n",
              "      <th>1487</th>\n",
              "      <td>1</td>\n",
              "      <td>0.017463</td>\n",
              "    </tr>\n",
              "    <tr>\n",
              "      <th>1580</th>\n",
              "      <td>1</td>\n",
              "      <td>0.015936</td>\n",
              "    </tr>\n",
              "    <tr>\n",
              "      <th>1602</th>\n",
              "      <td>1</td>\n",
              "      <td>0.012181</td>\n",
              "    </tr>\n",
              "    <tr>\n",
              "      <th>...</th>\n",
              "      <th>...</th>\n",
              "      <td>...</td>\n",
              "      <td>...</td>\n",
              "    </tr>\n",
              "    <tr>\n",
              "      <th rowspan=\"30\" valign=\"top\">100</th>\n",
              "      <th>15627</th>\n",
              "      <td>1</td>\n",
              "      <td>0.009096</td>\n",
              "    </tr>\n",
              "    <tr>\n",
              "      <th>15628</th>\n",
              "      <td>1</td>\n",
              "      <td>0.009505</td>\n",
              "    </tr>\n",
              "    <tr>\n",
              "      <th>15769</th>\n",
              "      <td>1</td>\n",
              "      <td>0.017776</td>\n",
              "    </tr>\n",
              "    <tr>\n",
              "      <th>15780</th>\n",
              "      <td>1</td>\n",
              "      <td>0.017776</td>\n",
              "    </tr>\n",
              "    <tr>\n",
              "      <th>15831</th>\n",
              "      <td>1</td>\n",
              "      <td>0.015313</td>\n",
              "    </tr>\n",
              "    <tr>\n",
              "      <th>15900</th>\n",
              "      <td>1</td>\n",
              "      <td>0.016222</td>\n",
              "    </tr>\n",
              "    <tr>\n",
              "      <th>16084</th>\n",
              "      <td>1</td>\n",
              "      <td>0.017776</td>\n",
              "    </tr>\n",
              "    <tr>\n",
              "      <th>16150</th>\n",
              "      <td>1</td>\n",
              "      <td>0.012613</td>\n",
              "    </tr>\n",
              "    <tr>\n",
              "      <th>16154</th>\n",
              "      <td>1</td>\n",
              "      <td>0.014668</td>\n",
              "    </tr>\n",
              "    <tr>\n",
              "      <th>16161</th>\n",
              "      <td>1</td>\n",
              "      <td>0.014167</td>\n",
              "    </tr>\n",
              "    <tr>\n",
              "      <th>16163</th>\n",
              "      <td>1</td>\n",
              "      <td>0.011559</td>\n",
              "    </tr>\n",
              "    <tr>\n",
              "      <th>16200</th>\n",
              "      <td>1</td>\n",
              "      <td>0.014167</td>\n",
              "    </tr>\n",
              "    <tr>\n",
              "      <th>16267</th>\n",
              "      <td>1</td>\n",
              "      <td>0.012849</td>\n",
              "    </tr>\n",
              "    <tr>\n",
              "      <th>16350</th>\n",
              "      <td>1</td>\n",
              "      <td>0.015313</td>\n",
              "    </tr>\n",
              "    <tr>\n",
              "      <th>16406</th>\n",
              "      <td>1</td>\n",
              "      <td>0.010386</td>\n",
              "    </tr>\n",
              "    <tr>\n",
              "      <th>16419</th>\n",
              "      <td>1</td>\n",
              "      <td>0.013113</td>\n",
              "    </tr>\n",
              "    <tr>\n",
              "      <th>16435</th>\n",
              "      <td>1</td>\n",
              "      <td>0.017776</td>\n",
              "    </tr>\n",
              "    <tr>\n",
              "      <th>16454</th>\n",
              "      <td>2</td>\n",
              "      <td>0.035552</td>\n",
              "    </tr>\n",
              "    <tr>\n",
              "      <th>16612</th>\n",
              "      <td>2</td>\n",
              "      <td>0.016312</td>\n",
              "    </tr>\n",
              "    <tr>\n",
              "      <th>16715</th>\n",
              "      <td>3</td>\n",
              "      <td>0.022626</td>\n",
              "    </tr>\n",
              "    <tr>\n",
              "      <th>16742</th>\n",
              "      <td>1</td>\n",
              "      <td>0.014167</td>\n",
              "    </tr>\n",
              "    <tr>\n",
              "      <th>16747</th>\n",
              "      <td>1</td>\n",
              "      <td>0.017776</td>\n",
              "    </tr>\n",
              "    <tr>\n",
              "      <th>16805</th>\n",
              "      <td>1</td>\n",
              "      <td>0.008187</td>\n",
              "    </tr>\n",
              "    <tr>\n",
              "      <th>16887</th>\n",
              "      <td>1</td>\n",
              "      <td>0.012849</td>\n",
              "    </tr>\n",
              "    <tr>\n",
              "      <th>16967</th>\n",
              "      <td>1</td>\n",
              "      <td>0.010650</td>\n",
              "    </tr>\n",
              "    <tr>\n",
              "      <th>17033</th>\n",
              "      <td>1</td>\n",
              "      <td>0.012613</td>\n",
              "    </tr>\n",
              "    <tr>\n",
              "      <th>17073</th>\n",
              "      <td>2</td>\n",
              "      <td>0.021899</td>\n",
              "    </tr>\n",
              "    <tr>\n",
              "      <th>17082</th>\n",
              "      <td>1</td>\n",
              "      <td>0.015313</td>\n",
              "    </tr>\n",
              "    <tr>\n",
              "      <th>17083</th>\n",
              "      <td>4</td>\n",
              "      <td>0.033129</td>\n",
              "    </tr>\n",
              "    <tr>\n",
              "      <th>17087</th>\n",
              "      <td>1</td>\n",
              "      <td>0.009005</td>\n",
              "    </tr>\n",
              "  </tbody>\n",
              "</table>\n",
              "<p>64553 rows × 2 columns</p>\n",
              "</div>"
            ],
            "text/plain": [
              "               n     tfidf\n",
              "chunk term_id             \n",
              "0     319      1  0.015043\n",
              "      441      1  0.015936\n",
              "      466      1  0.017463\n",
              "      543      1  0.015936\n",
              "      580      1  0.013918\n",
              "      586      1  0.009569\n",
              "      608      1  0.010123\n",
              "      675      1  0.010864\n",
              "      689      1  0.017463\n",
              "      695      1  0.011813\n",
              "      704      1  0.015043\n",
              "      778      1  0.017463\n",
              "      800      1  0.012882\n",
              "      801      1  0.015043\n",
              "      802      1  0.013177\n",
              "      860      1  0.012391\n",
              "      909      1  0.017463\n",
              "      931      1  0.010556\n",
              "      1100     1  0.015043\n",
              "      1108     1  0.015043\n",
              "      1117     1  0.017463\n",
              "      1184     1  0.017463\n",
              "      1205     1  0.017463\n",
              "      1212     1  0.017463\n",
              "      1220     1  0.017463\n",
              "      1374     2  0.030086\n",
              "      1380     1  0.012623\n",
              "      1487     1  0.017463\n",
              "      1580     1  0.015936\n",
              "      1602     1  0.012181\n",
              "...           ..       ...\n",
              "100   15627    1  0.009096\n",
              "      15628    1  0.009505\n",
              "      15769    1  0.017776\n",
              "      15780    1  0.017776\n",
              "      15831    1  0.015313\n",
              "      15900    1  0.016222\n",
              "      16084    1  0.017776\n",
              "      16150    1  0.012613\n",
              "      16154    1  0.014668\n",
              "      16161    1  0.014167\n",
              "      16163    1  0.011559\n",
              "      16200    1  0.014167\n",
              "      16267    1  0.012849\n",
              "      16350    1  0.015313\n",
              "      16406    1  0.010386\n",
              "      16419    1  0.013113\n",
              "      16435    1  0.017776\n",
              "      16454    2  0.035552\n",
              "      16612    2  0.016312\n",
              "      16715    3  0.022626\n",
              "      16742    1  0.014167\n",
              "      16747    1  0.017776\n",
              "      16805    1  0.008187\n",
              "      16887    1  0.012849\n",
              "      16967    1  0.010650\n",
              "      17033    1  0.012613\n",
              "      17073    2  0.021899\n",
              "      17082    1  0.015313\n",
              "      17083    4  0.033129\n",
              "      17087    1  0.009005\n",
              "\n",
              "[64553 rows x 2 columns]"
            ]
          },
          "metadata": {
            "tags": []
          },
          "execution_count": 135
        }
      ]
    },
    {
      "metadata": {
        "id": "7PlcN6zgprhK",
        "colab_type": "code",
        "outputId": "9e1670ce-939c-4a2a-e2ca-bb3482570149",
        "colab": {
          "base_uri": "https://localhost:8080/",
          "height": 284
        }
      },
      "cell_type": "code",
      "source": [
        "moby_dtm_tfidf_chunks.head()"
      ],
      "execution_count": 0,
      "outputs": [
        {
          "output_type": "execute_result",
          "data": {
            "text/html": [
              "<div>\n",
              "<style scoped>\n",
              "    .dataframe tbody tr th:only-of-type {\n",
              "        vertical-align: middle;\n",
              "    }\n",
              "\n",
              "    .dataframe tbody tr th {\n",
              "        vertical-align: top;\n",
              "    }\n",
              "\n",
              "    .dataframe thead th {\n",
              "        text-align: right;\n",
              "    }\n",
              "</style>\n",
              "<table border=\"1\" class=\"dataframe\">\n",
              "  <thead>\n",
              "    <tr style=\"text-align: right;\">\n",
              "      <th>term_id</th>\n",
              "      <th>191</th>\n",
              "      <th>192</th>\n",
              "      <th>193</th>\n",
              "      <th>194</th>\n",
              "      <th>195</th>\n",
              "      <th>196</th>\n",
              "      <th>197</th>\n",
              "      <th>198</th>\n",
              "      <th>199</th>\n",
              "      <th>200</th>\n",
              "      <th>...</th>\n",
              "      <th>17129</th>\n",
              "      <th>17130</th>\n",
              "      <th>17131</th>\n",
              "      <th>17132</th>\n",
              "      <th>17133</th>\n",
              "      <th>17134</th>\n",
              "      <th>17135</th>\n",
              "      <th>17136</th>\n",
              "      <th>17137</th>\n",
              "      <th>17138</th>\n",
              "    </tr>\n",
              "    <tr>\n",
              "      <th>chunk</th>\n",
              "      <th></th>\n",
              "      <th></th>\n",
              "      <th></th>\n",
              "      <th></th>\n",
              "      <th></th>\n",
              "      <th></th>\n",
              "      <th></th>\n",
              "      <th></th>\n",
              "      <th></th>\n",
              "      <th></th>\n",
              "      <th></th>\n",
              "      <th></th>\n",
              "      <th></th>\n",
              "      <th></th>\n",
              "      <th></th>\n",
              "      <th></th>\n",
              "      <th></th>\n",
              "      <th></th>\n",
              "      <th></th>\n",
              "      <th></th>\n",
              "      <th></th>\n",
              "    </tr>\n",
              "  </thead>\n",
              "  <tbody>\n",
              "    <tr>\n",
              "      <th>0</th>\n",
              "      <td>0.0</td>\n",
              "      <td>0.0</td>\n",
              "      <td>0.000000</td>\n",
              "      <td>0.0</td>\n",
              "      <td>0.0</td>\n",
              "      <td>0.0</td>\n",
              "      <td>0.0</td>\n",
              "      <td>0.0</td>\n",
              "      <td>0.0</td>\n",
              "      <td>0.0</td>\n",
              "      <td>...</td>\n",
              "      <td>0.000000</td>\n",
              "      <td>0.0</td>\n",
              "      <td>0.0</td>\n",
              "      <td>0.0</td>\n",
              "      <td>0.0</td>\n",
              "      <td>0.0</td>\n",
              "      <td>0.0</td>\n",
              "      <td>0.0</td>\n",
              "      <td>0.0</td>\n",
              "      <td>0.0</td>\n",
              "    </tr>\n",
              "    <tr>\n",
              "      <th>1</th>\n",
              "      <td>0.0</td>\n",
              "      <td>0.0</td>\n",
              "      <td>0.000000</td>\n",
              "      <td>0.0</td>\n",
              "      <td>0.0</td>\n",
              "      <td>0.0</td>\n",
              "      <td>0.0</td>\n",
              "      <td>0.0</td>\n",
              "      <td>0.0</td>\n",
              "      <td>0.0</td>\n",
              "      <td>...</td>\n",
              "      <td>0.000000</td>\n",
              "      <td>0.0</td>\n",
              "      <td>0.0</td>\n",
              "      <td>0.0</td>\n",
              "      <td>0.0</td>\n",
              "      <td>0.0</td>\n",
              "      <td>0.0</td>\n",
              "      <td>0.0</td>\n",
              "      <td>0.0</td>\n",
              "      <td>0.0</td>\n",
              "    </tr>\n",
              "    <tr>\n",
              "      <th>2</th>\n",
              "      <td>0.0</td>\n",
              "      <td>0.0</td>\n",
              "      <td>0.007513</td>\n",
              "      <td>0.0</td>\n",
              "      <td>0.0</td>\n",
              "      <td>0.0</td>\n",
              "      <td>0.0</td>\n",
              "      <td>0.0</td>\n",
              "      <td>0.0</td>\n",
              "      <td>0.0</td>\n",
              "      <td>...</td>\n",
              "      <td>0.000000</td>\n",
              "      <td>0.0</td>\n",
              "      <td>0.0</td>\n",
              "      <td>0.0</td>\n",
              "      <td>0.0</td>\n",
              "      <td>0.0</td>\n",
              "      <td>0.0</td>\n",
              "      <td>0.0</td>\n",
              "      <td>0.0</td>\n",
              "      <td>0.0</td>\n",
              "    </tr>\n",
              "    <tr>\n",
              "      <th>3</th>\n",
              "      <td>0.0</td>\n",
              "      <td>0.0</td>\n",
              "      <td>0.000000</td>\n",
              "      <td>0.0</td>\n",
              "      <td>0.0</td>\n",
              "      <td>0.0</td>\n",
              "      <td>0.0</td>\n",
              "      <td>0.0</td>\n",
              "      <td>0.0</td>\n",
              "      <td>0.0</td>\n",
              "      <td>...</td>\n",
              "      <td>0.008741</td>\n",
              "      <td>0.0</td>\n",
              "      <td>0.0</td>\n",
              "      <td>0.0</td>\n",
              "      <td>0.0</td>\n",
              "      <td>0.0</td>\n",
              "      <td>0.0</td>\n",
              "      <td>0.0</td>\n",
              "      <td>0.0</td>\n",
              "      <td>0.0</td>\n",
              "    </tr>\n",
              "    <tr>\n",
              "      <th>4</th>\n",
              "      <td>0.0</td>\n",
              "      <td>0.0</td>\n",
              "      <td>0.000000</td>\n",
              "      <td>0.0</td>\n",
              "      <td>0.0</td>\n",
              "      <td>0.0</td>\n",
              "      <td>0.0</td>\n",
              "      <td>0.0</td>\n",
              "      <td>0.0</td>\n",
              "      <td>0.0</td>\n",
              "      <td>...</td>\n",
              "      <td>0.000000</td>\n",
              "      <td>0.0</td>\n",
              "      <td>0.0</td>\n",
              "      <td>0.0</td>\n",
              "      <td>0.0</td>\n",
              "      <td>0.0</td>\n",
              "      <td>0.0</td>\n",
              "      <td>0.0</td>\n",
              "      <td>0.0</td>\n",
              "      <td>0.0</td>\n",
              "    </tr>\n",
              "  </tbody>\n",
              "</table>\n",
              "<p>5 rows × 16487 columns</p>\n",
              "</div>"
            ],
            "text/plain": [
              "term_id  191    192       193    194    195    196    197    198    199    \\\n",
              "chunk                                                                       \n",
              "0          0.0    0.0  0.000000    0.0    0.0    0.0    0.0    0.0    0.0   \n",
              "1          0.0    0.0  0.000000    0.0    0.0    0.0    0.0    0.0    0.0   \n",
              "2          0.0    0.0  0.007513    0.0    0.0    0.0    0.0    0.0    0.0   \n",
              "3          0.0    0.0  0.000000    0.0    0.0    0.0    0.0    0.0    0.0   \n",
              "4          0.0    0.0  0.000000    0.0    0.0    0.0    0.0    0.0    0.0   \n",
              "\n",
              "term_id  200    ...       17129  17130  17131  17132  17133  17134  17135  \\\n",
              "chunk           ...                                                         \n",
              "0          0.0  ...    0.000000    0.0    0.0    0.0    0.0    0.0    0.0   \n",
              "1          0.0  ...    0.000000    0.0    0.0    0.0    0.0    0.0    0.0   \n",
              "2          0.0  ...    0.000000    0.0    0.0    0.0    0.0    0.0    0.0   \n",
              "3          0.0  ...    0.008741    0.0    0.0    0.0    0.0    0.0    0.0   \n",
              "4          0.0  ...    0.000000    0.0    0.0    0.0    0.0    0.0    0.0   \n",
              "\n",
              "term_id  17136  17137  17138  \n",
              "chunk                         \n",
              "0          0.0    0.0    0.0  \n",
              "1          0.0    0.0    0.0  \n",
              "2          0.0    0.0    0.0  \n",
              "3          0.0    0.0    0.0  \n",
              "4          0.0    0.0    0.0  \n",
              "\n",
              "[5 rows x 16487 columns]"
            ]
          },
          "metadata": {
            "tags": []
          },
          "execution_count": 81
        }
      ]
    },
    {
      "metadata": {
        "id": "UQk3qEsXGZOu",
        "colab_type": "text"
      },
      "cell_type": "markdown",
      "source": [
        "# Term Frequency Graphs"
      ]
    },
    {
      "metadata": {
        "id": "LGHwH8youvDj",
        "colab_type": "text"
      },
      "cell_type": "markdown",
      "source": [
        "## TFIDF by Para"
      ]
    },
    {
      "metadata": {
        "id": "z9fwpxrfFBKs",
        "colab_type": "code",
        "outputId": "121fd583-1db2-4b9f-bc63-7603d9c4723a",
        "colab": {
          "base_uri": "https://localhost:8080/",
          "height": 232
        }
      },
      "cell_type": "code",
      "source": [
        "moby_dtm_tfidf.T.loc[AHAB].plot(figsize=WIDE)"
      ],
      "execution_count": 0,
      "outputs": [
        {
          "output_type": "execute_result",
          "data": {
            "text/plain": [
              "<matplotlib.axes._subplots.AxesSubplot at 0x7fba781fe048>"
            ]
          },
          "metadata": {
            "tags": []
          },
          "execution_count": 82
        },
        {
          "output_type": "display_data",
          "data": {
            "image/png": "[encoded data removed]",
            "text/plain": [
              "<matplotlib.figure.Figure at 0x7fba781fe9b0>"
            ]
          },
          "metadata": {
            "tags": []
          }
        }
      ]
    },
    {
      "metadata": {
        "id": "CFSSC5nPFf1k",
        "colab_type": "code",
        "outputId": "4ed94ff5-5eb2-45c7-c97f-8499dbf8608b",
        "colab": {
          "base_uri": "https://localhost:8080/",
          "height": 233
        }
      },
      "cell_type": "code",
      "source": [
        "moby_dtm_tfidf.T.loc[WHALE].plot(figsize=WIDE)"
      ],
      "execution_count": 0,
      "outputs": [
        {
          "output_type": "execute_result",
          "data": {
            "text/plain": [
              "<matplotlib.axes._subplots.AxesSubplot at 0x7fba785c6da0>"
            ]
          },
          "metadata": {
            "tags": []
          },
          "execution_count": 83
        },
        {
          "output_type": "display_data",
          "data": {
            "image/png": "[encoded data removed]",
            "text/plain": [
              "<matplotlib.figure.Figure at 0x7fba78515c88>"
            ]
          },
          "metadata": {
            "tags": []
          }
        }
      ]
    },
    {
      "metadata": {
        "id": "QiKh1cqHu8DA",
        "colab_type": "text"
      },
      "cell_type": "markdown",
      "source": [
        "## TFIDF by Chap"
      ]
    },
    {
      "metadata": {
        "id": "PSdcg0QZKNNM",
        "colab_type": "code",
        "outputId": "846ac840-0561-4b73-e58e-8e68194e0b11",
        "colab": {
          "base_uri": "https://localhost:8080/",
          "height": 242
        }
      },
      "cell_type": "code",
      "source": [
        "moby_dtm_tfidf_chaps.T.loc[AHAB].plot(figsize=WIDE)"
      ],
      "execution_count": 0,
      "outputs": [
        {
          "output_type": "execute_result",
          "data": {
            "text/plain": [
              "<matplotlib.axes._subplots.AxesSubplot at 0x7fba77f50860>"
            ]
          },
          "metadata": {
            "tags": []
          },
          "execution_count": 84
        },
        {
          "output_type": "display_data",
          "data": {
            "image/png": "[encoded data removed]",
            "text/plain": [
              "<matplotlib.figure.Figure at 0x7fba7858e3c8>"
            ]
          },
          "metadata": {
            "tags": []
          }
        }
      ]
    },
    {
      "metadata": {
        "id": "Tcb4ho6sKaj2",
        "colab_type": "code",
        "outputId": "a361868d-d432-4b1b-cc2a-32ac2f02b212",
        "colab": {
          "base_uri": "https://localhost:8080/",
          "height": 245
        }
      },
      "cell_type": "code",
      "source": [
        "moby_dtm_tfidf_chaps.T.loc[WHALE].plot(figsize=WIDE)"
      ],
      "execution_count": 0,
      "outputs": [
        {
          "output_type": "execute_result",
          "data": {
            "text/plain": [
              "<matplotlib.axes._subplots.AxesSubplot at 0x7fba77f56da0>"
            ]
          },
          "metadata": {
            "tags": []
          },
          "execution_count": 85
        },
        {
          "output_type": "display_data",
          "data": {
            "image/png": "[encoded data removed]",
            "text/plain": [
              "<matplotlib.figure.Figure at 0x7fba78784fd0>"
            ]
          },
          "metadata": {
            "tags": []
          }
        }
      ]
    },
    {
      "metadata": {
        "id": "Cp-TfQTCvKmQ",
        "colab_type": "text"
      },
      "cell_type": "markdown",
      "source": [
        "## TFIDF by Chunk"
      ]
    },
    {
      "metadata": {
        "id": "iTO8gdR98pL2",
        "colab_type": "code",
        "outputId": "65be5082-ffe9-4d9d-d47f-261e572cb087",
        "colab": {
          "base_uri": "https://localhost:8080/",
          "height": 242
        }
      },
      "cell_type": "code",
      "source": [
        "moby_dtm_tfidf_chunks.T.loc[AHAB].plot(figsize=WIDE)"
      ],
      "execution_count": 0,
      "outputs": [
        {
          "output_type": "execute_result",
          "data": {
            "text/plain": [
              "<matplotlib.axes._subplots.AxesSubplot at 0x7fba7871d4e0>"
            ]
          },
          "metadata": {
            "tags": []
          },
          "execution_count": 86
        },
        {
          "output_type": "display_data",
          "data": {
            "image/png": "[encoded data removed]",
            "text/plain": [
              "<matplotlib.figure.Figure at 0x7fba77eca128>"
            ]
          },
          "metadata": {
            "tags": []
          }
        }
      ]
    },
    {
      "metadata": {
        "id": "HDZgPDVz50xY",
        "colab_type": "code",
        "outputId": "41f179e4-a068-4e28-f9a3-a2f37e7f10e0",
        "colab": {
          "base_uri": "https://localhost:8080/",
          "height": 242
        }
      },
      "cell_type": "code",
      "source": [
        "moby_dtm_tfidf_chunks.T.loc[WHALE].plot(figsize=WIDE)"
      ],
      "execution_count": 0,
      "outputs": [
        {
          "output_type": "execute_result",
          "data": {
            "text/plain": [
              "<matplotlib.axes._subplots.AxesSubplot at 0x7fba77f1fac8>"
            ]
          },
          "metadata": {
            "tags": []
          },
          "execution_count": 87
        },
        {
          "output_type": "display_data",
          "data": {
            "image/png": "[encoded data removed]",
            "text/plain": [
              "<matplotlib.figure.Figure at 0x7fba78736550>"
            ]
          },
          "metadata": {
            "tags": []
          }
        }
      ]
    },
    {
      "metadata": {
        "id": "stH5Yplk8Tca",
        "colab_type": "text"
      },
      "cell_type": "markdown",
      "source": [
        "# Term Correlations"
      ]
    },
    {
      "metadata": {
        "id": "fdAHkXSFpMh2",
        "colab_type": "code",
        "colab": {}
      },
      "cell_type": "code",
      "source": [
        "terms = ['man', 'ahab', 'whale', 'white', 'starbuck', 'queequeg', 'church','shark']\n",
        "corr_terms = [term_id(term) for term in terms]\n",
        "corr_cols = {term_id(term):term for term in terms}"
      ],
      "execution_count": 0,
      "outputs": []
    },
    {
      "metadata": {
        "id": "qsF8tgmMsNGl",
        "colab_type": "code",
        "colab": {}
      },
      "cell_type": "code",
      "source": [
        "def corr_plot_terms(terms, dtm, title='Foo'):\n",
        "  print(title)\n",
        "  corr = dtm[corr_terms].rename(columns=corr_cols).corr()\n",
        "  sns.heatmap(corr, vmax=.3, annot=True, center=0, \n",
        "              cmap='RdYlGn',\n",
        "              square=True, linewidths=.5, \n",
        "              cbar_kws={\"shrink\": .5})"
      ],
      "execution_count": 0,
      "outputs": []
    },
    {
      "metadata": {
        "id": "sbBOQqLC47-D",
        "colab_type": "code",
        "colab": {}
      },
      "cell_type": "code",
      "source": [
        "def corr_frame_terms(terms, dtm, title='Foo'):\n",
        "  print(title)\n",
        "  corr = dtm[corr_terms].rename(columns=corr_cols).corr()\n",
        "  corr.index.name = 'src_term'\n",
        "  corr = corr.stack().to_frame()\\\n",
        "    .reset_index()\\\n",
        "    .rename(columns={0:'corr'})\\\n",
        "    .sort_values('corr').reset_index()\n",
        "  corr = corr.query('src_term != term_id').copy()\n",
        "  corr['test'] = corr.index % 2\n",
        "  corr = corr[corr.test == 0]\n",
        "  corr = corr[['src_term','term_id','corr']]\n",
        "  corr.columns = ['src_term','dst_term','corr']\n",
        "  return pd.concat([corr.head(), corr.tail()])\\\n",
        "    .sort_values('corr', ascending=False)"
      ],
      "execution_count": 0,
      "outputs": []
    },
    {
      "metadata": {
        "id": "J7x2BWMh5Jwy",
        "colab_type": "code",
        "outputId": "9f4fddb7-9e86-4fcb-e276-4cea3b254cf6",
        "colab": {
          "base_uri": "https://localhost:8080/",
          "height": 376
        }
      },
      "cell_type": "code",
      "source": [
        "corr_frame_terms(terms, moby_dtm_tfidf, 'By Para')"
      ],
      "execution_count": 235,
      "outputs": [
        {
          "output_type": "stream",
          "text": [
            "By Para\n"
          ],
          "name": "stdout"
        },
        {
          "output_type": "execute_result",
          "data": {
            "text/html": [
              "<div>\n",
              "<style scoped>\n",
              "    .dataframe tbody tr th:only-of-type {\n",
              "        vertical-align: middle;\n",
              "    }\n",
              "\n",
              "    .dataframe tbody tr th {\n",
              "        vertical-align: top;\n",
              "    }\n",
              "\n",
              "    .dataframe thead th {\n",
              "        text-align: right;\n",
              "    }\n",
              "</style>\n",
              "<table border=\"1\" class=\"dataframe\">\n",
              "  <thead>\n",
              "    <tr style=\"text-align: right;\">\n",
              "      <th></th>\n",
              "      <th>src_term</th>\n",
              "      <th>dst_term</th>\n",
              "      <th>corr</th>\n",
              "    </tr>\n",
              "  </thead>\n",
              "  <tbody>\n",
              "    <tr>\n",
              "      <th>54</th>\n",
              "      <td>white</td>\n",
              "      <td>whale</td>\n",
              "      <td>0.284180</td>\n",
              "    </tr>\n",
              "    <tr>\n",
              "      <th>52</th>\n",
              "      <td>starbuck</td>\n",
              "      <td>ahab</td>\n",
              "      <td>0.057157</td>\n",
              "    </tr>\n",
              "    <tr>\n",
              "      <th>50</th>\n",
              "      <td>queequeg</td>\n",
              "      <td>church</td>\n",
              "      <td>0.035766</td>\n",
              "    </tr>\n",
              "    <tr>\n",
              "      <th>48</th>\n",
              "      <td>white</td>\n",
              "      <td>ahab</td>\n",
              "      <td>0.034683</td>\n",
              "    </tr>\n",
              "    <tr>\n",
              "      <th>46</th>\n",
              "      <td>starbuck</td>\n",
              "      <td>man</td>\n",
              "      <td>0.021061</td>\n",
              "    </tr>\n",
              "    <tr>\n",
              "      <th>8</th>\n",
              "      <td>ahab</td>\n",
              "      <td>whale</td>\n",
              "      <td>-0.024989</td>\n",
              "    </tr>\n",
              "    <tr>\n",
              "      <th>6</th>\n",
              "      <td>ahab</td>\n",
              "      <td>queequeg</td>\n",
              "      <td>-0.026384</td>\n",
              "    </tr>\n",
              "    <tr>\n",
              "      <th>4</th>\n",
              "      <td>queequeg</td>\n",
              "      <td>whale</td>\n",
              "      <td>-0.029715</td>\n",
              "    </tr>\n",
              "    <tr>\n",
              "      <th>2</th>\n",
              "      <td>man</td>\n",
              "      <td>whale</td>\n",
              "      <td>-0.034717</td>\n",
              "    </tr>\n",
              "    <tr>\n",
              "      <th>0</th>\n",
              "      <td>whale</td>\n",
              "      <td>starbuck</td>\n",
              "      <td>-0.035049</td>\n",
              "    </tr>\n",
              "  </tbody>\n",
              "</table>\n",
              "</div>"
            ],
            "text/plain": [
              "    src_term  dst_term      corr\n",
              "54     white     whale  0.284180\n",
              "52  starbuck      ahab  0.057157\n",
              "50  queequeg    church  0.035766\n",
              "48     white      ahab  0.034683\n",
              "46  starbuck       man  0.021061\n",
              "8       ahab     whale -0.024989\n",
              "6       ahab  queequeg -0.026384\n",
              "4   queequeg     whale -0.029715\n",
              "2        man     whale -0.034717\n",
              "0      whale  starbuck -0.035049"
            ]
          },
          "metadata": {
            "tags": []
          },
          "execution_count": 235
        }
      ]
    },
    {
      "metadata": {
        "id": "K8lU4Z0TOQFT",
        "colab_type": "code",
        "colab": {
          "base_uri": "https://localhost:8080/",
          "height": 376
        },
        "outputId": "a520c05d-94d7-4a00-a226-96ad2e6ce9f8"
      },
      "cell_type": "code",
      "source": [
        "corr_frame_terms(terms, moby_dtm_tfidf_chaps, 'By Chap')"
      ],
      "execution_count": 236,
      "outputs": [
        {
          "output_type": "stream",
          "text": [
            "By Chap\n"
          ],
          "name": "stdout"
        },
        {
          "output_type": "execute_result",
          "data": {
            "text/html": [
              "<div>\n",
              "<style scoped>\n",
              "    .dataframe tbody tr th:only-of-type {\n",
              "        vertical-align: middle;\n",
              "    }\n",
              "\n",
              "    .dataframe tbody tr th {\n",
              "        vertical-align: top;\n",
              "    }\n",
              "\n",
              "    .dataframe thead th {\n",
              "        text-align: right;\n",
              "    }\n",
              "</style>\n",
              "<table border=\"1\" class=\"dataframe\">\n",
              "  <thead>\n",
              "    <tr style=\"text-align: right;\">\n",
              "      <th></th>\n",
              "      <th>src_term</th>\n",
              "      <th>dst_term</th>\n",
              "      <th>corr</th>\n",
              "    </tr>\n",
              "  </thead>\n",
              "  <tbody>\n",
              "    <tr>\n",
              "      <th>54</th>\n",
              "      <td>ahab</td>\n",
              "      <td>starbuck</td>\n",
              "      <td>0.333745</td>\n",
              "    </tr>\n",
              "    <tr>\n",
              "      <th>52</th>\n",
              "      <td>man</td>\n",
              "      <td>ahab</td>\n",
              "      <td>0.301168</td>\n",
              "    </tr>\n",
              "    <tr>\n",
              "      <th>50</th>\n",
              "      <td>ahab</td>\n",
              "      <td>white</td>\n",
              "      <td>0.299730</td>\n",
              "    </tr>\n",
              "    <tr>\n",
              "      <th>48</th>\n",
              "      <td>queequeg</td>\n",
              "      <td>church</td>\n",
              "      <td>0.195523</td>\n",
              "    </tr>\n",
              "    <tr>\n",
              "      <th>46</th>\n",
              "      <td>man</td>\n",
              "      <td>starbuck</td>\n",
              "      <td>0.127363</td>\n",
              "    </tr>\n",
              "    <tr>\n",
              "      <th>8</th>\n",
              "      <td>queequeg</td>\n",
              "      <td>white</td>\n",
              "      <td>-0.162016</td>\n",
              "    </tr>\n",
              "    <tr>\n",
              "      <th>6</th>\n",
              "      <td>man</td>\n",
              "      <td>whale</td>\n",
              "      <td>-0.192598</td>\n",
              "    </tr>\n",
              "    <tr>\n",
              "      <th>4</th>\n",
              "      <td>starbuck</td>\n",
              "      <td>whale</td>\n",
              "      <td>-0.216786</td>\n",
              "    </tr>\n",
              "    <tr>\n",
              "      <th>2</th>\n",
              "      <td>whale</td>\n",
              "      <td>queequeg</td>\n",
              "      <td>-0.245843</td>\n",
              "    </tr>\n",
              "    <tr>\n",
              "      <th>0</th>\n",
              "      <td>whale</td>\n",
              "      <td>ahab</td>\n",
              "      <td>-0.261622</td>\n",
              "    </tr>\n",
              "  </tbody>\n",
              "</table>\n",
              "</div>"
            ],
            "text/plain": [
              "    src_term  dst_term      corr\n",
              "54      ahab  starbuck  0.333745\n",
              "52       man      ahab  0.301168\n",
              "50      ahab     white  0.299730\n",
              "48  queequeg    church  0.195523\n",
              "46       man  starbuck  0.127363\n",
              "8   queequeg     white -0.162016\n",
              "6        man     whale -0.192598\n",
              "4   starbuck     whale -0.216786\n",
              "2      whale  queequeg -0.245843\n",
              "0      whale      ahab -0.261622"
            ]
          },
          "metadata": {
            "tags": []
          },
          "execution_count": 236
        }
      ]
    },
    {
      "metadata": {
        "id": "oqbHmwlxOWqt",
        "colab_type": "code",
        "colab": {
          "base_uri": "https://localhost:8080/",
          "height": 376
        },
        "outputId": "edc30fc4-8b81-45ab-e9d4-b413fe3c40d2"
      },
      "cell_type": "code",
      "source": [
        "corr_frame_terms(terms, moby_dtm_tfidf_chunks, 'By Chunk')"
      ],
      "execution_count": 237,
      "outputs": [
        {
          "output_type": "stream",
          "text": [
            "By Chunk\n"
          ],
          "name": "stdout"
        },
        {
          "output_type": "execute_result",
          "data": {
            "text/html": [
              "<div>\n",
              "<style scoped>\n",
              "    .dataframe tbody tr th:only-of-type {\n",
              "        vertical-align: middle;\n",
              "    }\n",
              "\n",
              "    .dataframe tbody tr th {\n",
              "        vertical-align: top;\n",
              "    }\n",
              "\n",
              "    .dataframe thead th {\n",
              "        text-align: right;\n",
              "    }\n",
              "</style>\n",
              "<table border=\"1\" class=\"dataframe\">\n",
              "  <thead>\n",
              "    <tr style=\"text-align: right;\">\n",
              "      <th></th>\n",
              "      <th>src_term</th>\n",
              "      <th>dst_term</th>\n",
              "      <th>corr</th>\n",
              "    </tr>\n",
              "  </thead>\n",
              "  <tbody>\n",
              "    <tr>\n",
              "      <th>54</th>\n",
              "      <td>queequeg</td>\n",
              "      <td>church</td>\n",
              "      <td>0.483839</td>\n",
              "    </tr>\n",
              "    <tr>\n",
              "      <th>52</th>\n",
              "      <td>ahab</td>\n",
              "      <td>starbuck</td>\n",
              "      <td>0.441710</td>\n",
              "    </tr>\n",
              "    <tr>\n",
              "      <th>50</th>\n",
              "      <td>ahab</td>\n",
              "      <td>man</td>\n",
              "      <td>0.390527</td>\n",
              "    </tr>\n",
              "    <tr>\n",
              "      <th>48</th>\n",
              "      <td>starbuck</td>\n",
              "      <td>man</td>\n",
              "      <td>0.307248</td>\n",
              "    </tr>\n",
              "    <tr>\n",
              "      <th>46</th>\n",
              "      <td>white</td>\n",
              "      <td>ahab</td>\n",
              "      <td>0.278076</td>\n",
              "    </tr>\n",
              "    <tr>\n",
              "      <th>8</th>\n",
              "      <td>white</td>\n",
              "      <td>queequeg</td>\n",
              "      <td>-0.160429</td>\n",
              "    </tr>\n",
              "    <tr>\n",
              "      <th>6</th>\n",
              "      <td>whale</td>\n",
              "      <td>church</td>\n",
              "      <td>-0.167472</td>\n",
              "    </tr>\n",
              "    <tr>\n",
              "      <th>4</th>\n",
              "      <td>whale</td>\n",
              "      <td>ahab</td>\n",
              "      <td>-0.267526</td>\n",
              "    </tr>\n",
              "    <tr>\n",
              "      <th>2</th>\n",
              "      <td>man</td>\n",
              "      <td>whale</td>\n",
              "      <td>-0.292695</td>\n",
              "    </tr>\n",
              "    <tr>\n",
              "      <th>0</th>\n",
              "      <td>whale</td>\n",
              "      <td>queequeg</td>\n",
              "      <td>-0.302436</td>\n",
              "    </tr>\n",
              "  </tbody>\n",
              "</table>\n",
              "</div>"
            ],
            "text/plain": [
              "    src_term  dst_term      corr\n",
              "54  queequeg    church  0.483839\n",
              "52      ahab  starbuck  0.441710\n",
              "50      ahab       man  0.390527\n",
              "48  starbuck       man  0.307248\n",
              "46     white      ahab  0.278076\n",
              "8      white  queequeg -0.160429\n",
              "6      whale    church -0.167472\n",
              "4      whale      ahab -0.267526\n",
              "2        man     whale -0.292695\n",
              "0      whale  queequeg -0.302436"
            ]
          },
          "metadata": {
            "tags": []
          },
          "execution_count": 237
        }
      ]
    },
    {
      "metadata": {
        "id": "Twgnwt2IN634",
        "colab_type": "text"
      },
      "cell_type": "markdown",
      "source": [
        "## By Para"
      ]
    },
    {
      "metadata": {
        "id": "tm7uRMHTsde4",
        "colab_type": "code",
        "outputId": "66fdfef2-9263-476d-af88-f9382a85d2ef",
        "colab": {
          "base_uri": "https://localhost:8080/",
          "height": 412
        }
      },
      "cell_type": "code",
      "source": [
        "corr_plot_terms(terms, moby_dtm_tfidf, 'By Para')"
      ],
      "execution_count": 0,
      "outputs": [
        {
          "output_type": "stream",
          "text": [
            "By Para\n"
          ],
          "name": "stdout"
        },
        {
          "output_type": "display_data",
          "data": {
            "image/png": "[encoded data removed]",
            "text/plain": [
              "<matplotlib.figure.Figure at 0x7fba78132c88>"
            ]
          },
          "metadata": {
            "tags": []
          }
        }
      ]
    },
    {
      "metadata": {
        "id": "4rvfzYtNN9pj",
        "colab_type": "text"
      },
      "cell_type": "markdown",
      "source": [
        "## By Chap"
      ]
    },
    {
      "metadata": {
        "id": "DWx5GX-yqiUh",
        "colab_type": "code",
        "outputId": "43503b5a-6d75-45cb-de2f-626837ce06bf",
        "colab": {
          "base_uri": "https://localhost:8080/",
          "height": 412
        }
      },
      "cell_type": "code",
      "source": [
        "corr_plot_terms(terms, moby_dtm_tfidf_chaps, 'By Chap')"
      ],
      "execution_count": 0,
      "outputs": [
        {
          "output_type": "stream",
          "text": [
            "By Chap\n"
          ],
          "name": "stdout"
        },
        {
          "output_type": "display_data",
          "data": {
            "image/png": "[encoded data removed]",
            "text/plain": [
              "<matplotlib.figure.Figure at 0x7fba780ea908>"
            ]
          },
          "metadata": {
            "tags": []
          }
        }
      ]
    },
    {
      "metadata": {
        "id": "LX9qXoS5OAG3",
        "colab_type": "text"
      },
      "cell_type": "markdown",
      "source": [
        "## By Chunk"
      ]
    },
    {
      "metadata": {
        "id": "7uFzmTFCst1k",
        "colab_type": "code",
        "outputId": "13298a43-9928-4c95-eb31-e6f3024cfdb8",
        "colab": {
          "base_uri": "https://localhost:8080/",
          "height": 412
        }
      },
      "cell_type": "code",
      "source": [
        "corr_plot_terms(terms, moby_dtm_tfidf_chunks, 'By Chunk')"
      ],
      "execution_count": 0,
      "outputs": [
        {
          "output_type": "stream",
          "text": [
            "By Chunk\n"
          ],
          "name": "stdout"
        },
        {
          "output_type": "display_data",
          "data": {
            "image/png": "[encoded data removed]",
            "text/plain": [
              "<matplotlib.figure.Figure at 0x7fba78396cf8>"
            ]
          },
          "metadata": {
            "tags": []
          }
        }
      ]
    },
    {
      "metadata": {
        "id": "0SEoqlbkzjGp",
        "colab_type": "text"
      },
      "cell_type": "markdown",
      "source": [
        "# PMI"
      ]
    },
    {
      "metadata": {
        "id": "_1YiOO8muvVn",
        "colab_type": "code",
        "outputId": "ac726b13-71ca-4bf2-a98d-ff9fc05987f5",
        "colab": {
          "base_uri": "https://localhost:8080/",
          "height": 2000
        }
      },
      "cell_type": "code",
      "source": [
        "moby_vocab"
      ],
      "execution_count": 234,
      "outputs": [
        {
          "output_type": "execute_result",
          "data": {
            "text/html": [
              "<div>\n",
              "<style scoped>\n",
              "    .dataframe tbody tr th:only-of-type {\n",
              "        vertical-align: middle;\n",
              "    }\n",
              "\n",
              "    .dataframe tbody tr th {\n",
              "        vertical-align: top;\n",
              "    }\n",
              "\n",
              "    .dataframe thead th {\n",
              "        text-align: right;\n",
              "    }\n",
              "</style>\n",
              "<table border=\"1\" class=\"dataframe\">\n",
              "  <thead>\n",
              "    <tr style=\"text-align: right;\">\n",
              "      <th></th>\n",
              "      <th>term</th>\n",
              "      <th>sw</th>\n",
              "      <th>n</th>\n",
              "      <th>freq</th>\n",
              "      <th>adj_freq</th>\n",
              "    </tr>\n",
              "    <tr>\n",
              "      <th>term_id</th>\n",
              "      <th></th>\n",
              "      <th></th>\n",
              "      <th></th>\n",
              "      <th></th>\n",
              "      <th></th>\n",
              "    </tr>\n",
              "  </thead>\n",
              "  <tbody>\n",
              "    <tr>\n",
              "      <th>0</th>\n",
              "      <td></td>\n",
              "      <td>True</td>\n",
              "      <td>12761</td>\n",
              "      <td>0.055153</td>\n",
              "      <td>NaN</td>\n",
              "    </tr>\n",
              "    <tr>\n",
              "      <th>1</th>\n",
              "      <td>000</td>\n",
              "      <td>True</td>\n",
              "      <td>20</td>\n",
              "      <td>0.000086</td>\n",
              "      <td>NaN</td>\n",
              "    </tr>\n",
              "    <tr>\n",
              "      <th>2</th>\n",
              "      <td>1</td>\n",
              "      <td>True</td>\n",
              "      <td>2</td>\n",
              "      <td>0.000009</td>\n",
              "      <td>NaN</td>\n",
              "    </tr>\n",
              "    <tr>\n",
              "      <th>3</th>\n",
              "      <td>10</td>\n",
              "      <td>True</td>\n",
              "      <td>4</td>\n",
              "      <td>0.000017</td>\n",
              "      <td>NaN</td>\n",
              "    </tr>\n",
              "    <tr>\n",
              "      <th>4</th>\n",
              "      <td>100</td>\n",
              "      <td>True</td>\n",
              "      <td>1</td>\n",
              "      <td>0.000004</td>\n",
              "      <td>NaN</td>\n",
              "    </tr>\n",
              "    <tr>\n",
              "      <th>5</th>\n",
              "      <td>101</td>\n",
              "      <td>True</td>\n",
              "      <td>1</td>\n",
              "      <td>0.000004</td>\n",
              "      <td>NaN</td>\n",
              "    </tr>\n",
              "    <tr>\n",
              "      <th>6</th>\n",
              "      <td>102</td>\n",
              "      <td>True</td>\n",
              "      <td>1</td>\n",
              "      <td>0.000004</td>\n",
              "      <td>NaN</td>\n",
              "    </tr>\n",
              "    <tr>\n",
              "      <th>7</th>\n",
              "      <td>103</td>\n",
              "      <td>True</td>\n",
              "      <td>1</td>\n",
              "      <td>0.000004</td>\n",
              "      <td>NaN</td>\n",
              "    </tr>\n",
              "    <tr>\n",
              "      <th>8</th>\n",
              "      <td>104</td>\n",
              "      <td>True</td>\n",
              "      <td>1</td>\n",
              "      <td>0.000004</td>\n",
              "      <td>NaN</td>\n",
              "    </tr>\n",
              "    <tr>\n",
              "      <th>9</th>\n",
              "      <td>105</td>\n",
              "      <td>True</td>\n",
              "      <td>1</td>\n",
              "      <td>0.000004</td>\n",
              "      <td>NaN</td>\n",
              "    </tr>\n",
              "    <tr>\n",
              "      <th>10</th>\n",
              "      <td>106</td>\n",
              "      <td>True</td>\n",
              "      <td>1</td>\n",
              "      <td>0.000004</td>\n",
              "      <td>NaN</td>\n",
              "    </tr>\n",
              "    <tr>\n",
              "      <th>11</th>\n",
              "      <td>107</td>\n",
              "      <td>True</td>\n",
              "      <td>1</td>\n",
              "      <td>0.000004</td>\n",
              "      <td>NaN</td>\n",
              "    </tr>\n",
              "    <tr>\n",
              "      <th>12</th>\n",
              "      <td>108</td>\n",
              "      <td>True</td>\n",
              "      <td>1</td>\n",
              "      <td>0.000004</td>\n",
              "      <td>NaN</td>\n",
              "    </tr>\n",
              "    <tr>\n",
              "      <th>13</th>\n",
              "      <td>109</td>\n",
              "      <td>True</td>\n",
              "      <td>1</td>\n",
              "      <td>0.000004</td>\n",
              "      <td>NaN</td>\n",
              "    </tr>\n",
              "    <tr>\n",
              "      <th>14</th>\n",
              "      <td>11</td>\n",
              "      <td>True</td>\n",
              "      <td>1</td>\n",
              "      <td>0.000004</td>\n",
              "      <td>NaN</td>\n",
              "    </tr>\n",
              "    <tr>\n",
              "      <th>15</th>\n",
              "      <td>110</td>\n",
              "      <td>True</td>\n",
              "      <td>1</td>\n",
              "      <td>0.000004</td>\n",
              "      <td>NaN</td>\n",
              "    </tr>\n",
              "    <tr>\n",
              "      <th>16</th>\n",
              "      <td>111</td>\n",
              "      <td>True</td>\n",
              "      <td>1</td>\n",
              "      <td>0.000004</td>\n",
              "      <td>NaN</td>\n",
              "    </tr>\n",
              "    <tr>\n",
              "      <th>17</th>\n",
              "      <td>112</td>\n",
              "      <td>True</td>\n",
              "      <td>1</td>\n",
              "      <td>0.000004</td>\n",
              "      <td>NaN</td>\n",
              "    </tr>\n",
              "    <tr>\n",
              "      <th>18</th>\n",
              "      <td>113</td>\n",
              "      <td>True</td>\n",
              "      <td>1</td>\n",
              "      <td>0.000004</td>\n",
              "      <td>NaN</td>\n",
              "    </tr>\n",
              "    <tr>\n",
              "      <th>19</th>\n",
              "      <td>114</td>\n",
              "      <td>True</td>\n",
              "      <td>1</td>\n",
              "      <td>0.000004</td>\n",
              "      <td>NaN</td>\n",
              "    </tr>\n",
              "    <tr>\n",
              "      <th>20</th>\n",
              "      <td>115</td>\n",
              "      <td>True</td>\n",
              "      <td>1</td>\n",
              "      <td>0.000004</td>\n",
              "      <td>NaN</td>\n",
              "    </tr>\n",
              "    <tr>\n",
              "      <th>21</th>\n",
              "      <td>116</td>\n",
              "      <td>True</td>\n",
              "      <td>1</td>\n",
              "      <td>0.000004</td>\n",
              "      <td>NaN</td>\n",
              "    </tr>\n",
              "    <tr>\n",
              "      <th>22</th>\n",
              "      <td>117</td>\n",
              "      <td>True</td>\n",
              "      <td>1</td>\n",
              "      <td>0.000004</td>\n",
              "      <td>NaN</td>\n",
              "    </tr>\n",
              "    <tr>\n",
              "      <th>23</th>\n",
              "      <td>118</td>\n",
              "      <td>True</td>\n",
              "      <td>1</td>\n",
              "      <td>0.000004</td>\n",
              "      <td>NaN</td>\n",
              "    </tr>\n",
              "    <tr>\n",
              "      <th>24</th>\n",
              "      <td>119</td>\n",
              "      <td>True</td>\n",
              "      <td>1</td>\n",
              "      <td>0.000004</td>\n",
              "      <td>NaN</td>\n",
              "    </tr>\n",
              "    <tr>\n",
              "      <th>25</th>\n",
              "      <td>12</td>\n",
              "      <td>True</td>\n",
              "      <td>1</td>\n",
              "      <td>0.000004</td>\n",
              "      <td>NaN</td>\n",
              "    </tr>\n",
              "    <tr>\n",
              "      <th>26</th>\n",
              "      <td>120</td>\n",
              "      <td>True</td>\n",
              "      <td>1</td>\n",
              "      <td>0.000004</td>\n",
              "      <td>NaN</td>\n",
              "    </tr>\n",
              "    <tr>\n",
              "      <th>27</th>\n",
              "      <td>121</td>\n",
              "      <td>True</td>\n",
              "      <td>1</td>\n",
              "      <td>0.000004</td>\n",
              "      <td>NaN</td>\n",
              "    </tr>\n",
              "    <tr>\n",
              "      <th>28</th>\n",
              "      <td>122</td>\n",
              "      <td>True</td>\n",
              "      <td>1</td>\n",
              "      <td>0.000004</td>\n",
              "      <td>NaN</td>\n",
              "    </tr>\n",
              "    <tr>\n",
              "      <th>29</th>\n",
              "      <td>123</td>\n",
              "      <td>True</td>\n",
              "      <td>1</td>\n",
              "      <td>0.000004</td>\n",
              "      <td>NaN</td>\n",
              "    </tr>\n",
              "    <tr>\n",
              "      <th>...</th>\n",
              "      <td>...</td>\n",
              "      <td>...</td>\n",
              "      <td>...</td>\n",
              "      <td>...</td>\n",
              "      <td>...</td>\n",
              "    </tr>\n",
              "    <tr>\n",
              "      <th>17109</th>\n",
              "      <td>yore</td>\n",
              "      <td>False</td>\n",
              "      <td>2</td>\n",
              "      <td>0.000009</td>\n",
              "      <td>0.000022</td>\n",
              "    </tr>\n",
              "    <tr>\n",
              "      <th>17110</th>\n",
              "      <td>york</td>\n",
              "      <td>False</td>\n",
              "      <td>6</td>\n",
              "      <td>0.000026</td>\n",
              "      <td>0.000066</td>\n",
              "    </tr>\n",
              "    <tr>\n",
              "      <th>17111</th>\n",
              "      <td>yorkshire</td>\n",
              "      <td>False</td>\n",
              "      <td>1</td>\n",
              "      <td>0.000004</td>\n",
              "      <td>0.000011</td>\n",
              "    </tr>\n",
              "    <tr>\n",
              "      <th>17112</th>\n",
              "      <td>you</td>\n",
              "      <td>True</td>\n",
              "      <td>894</td>\n",
              "      <td>0.003864</td>\n",
              "      <td>NaN</td>\n",
              "    </tr>\n",
              "    <tr>\n",
              "      <th>17113</th>\n",
              "      <td>young</td>\n",
              "      <td>False</td>\n",
              "      <td>80</td>\n",
              "      <td>0.000346</td>\n",
              "      <td>0.000881</td>\n",
              "    </tr>\n",
              "    <tr>\n",
              "      <th>17114</th>\n",
              "      <td>younger</td>\n",
              "      <td>False</td>\n",
              "      <td>2</td>\n",
              "      <td>0.000009</td>\n",
              "      <td>0.000022</td>\n",
              "    </tr>\n",
              "    <tr>\n",
              "      <th>17115</th>\n",
              "      <td>youngest</td>\n",
              "      <td>False</td>\n",
              "      <td>1</td>\n",
              "      <td>0.000004</td>\n",
              "      <td>0.000011</td>\n",
              "    </tr>\n",
              "    <tr>\n",
              "      <th>17116</th>\n",
              "      <td>youngish</td>\n",
              "      <td>False</td>\n",
              "      <td>1</td>\n",
              "      <td>0.000004</td>\n",
              "      <td>0.000011</td>\n",
              "    </tr>\n",
              "    <tr>\n",
              "      <th>17117</th>\n",
              "      <td>your</td>\n",
              "      <td>True</td>\n",
              "      <td>249</td>\n",
              "      <td>0.001076</td>\n",
              "      <td>NaN</td>\n",
              "    </tr>\n",
              "    <tr>\n",
              "      <th>17118</th>\n",
              "      <td>yours</td>\n",
              "      <td>True</td>\n",
              "      <td>9</td>\n",
              "      <td>0.000039</td>\n",
              "      <td>NaN</td>\n",
              "    </tr>\n",
              "    <tr>\n",
              "      <th>17119</th>\n",
              "      <td>yourselbs</td>\n",
              "      <td>False</td>\n",
              "      <td>1</td>\n",
              "      <td>0.000004</td>\n",
              "      <td>0.000011</td>\n",
              "    </tr>\n",
              "    <tr>\n",
              "      <th>17120</th>\n",
              "      <td>yourself</td>\n",
              "      <td>True</td>\n",
              "      <td>26</td>\n",
              "      <td>0.000112</td>\n",
              "      <td>NaN</td>\n",
              "    </tr>\n",
              "    <tr>\n",
              "      <th>17121</th>\n",
              "      <td>yourselves</td>\n",
              "      <td>True</td>\n",
              "      <td>7</td>\n",
              "      <td>0.000030</td>\n",
              "      <td>NaN</td>\n",
              "    </tr>\n",
              "    <tr>\n",
              "      <th>17122</th>\n",
              "      <td>youth</td>\n",
              "      <td>False</td>\n",
              "      <td>9</td>\n",
              "      <td>0.000039</td>\n",
              "      <td>0.000099</td>\n",
              "    </tr>\n",
              "    <tr>\n",
              "      <th>17123</th>\n",
              "      <td>youthful</td>\n",
              "      <td>False</td>\n",
              "      <td>2</td>\n",
              "      <td>0.000009</td>\n",
              "      <td>0.000022</td>\n",
              "    </tr>\n",
              "    <tr>\n",
              "      <th>17124</th>\n",
              "      <td>zag</td>\n",
              "      <td>False</td>\n",
              "      <td>1</td>\n",
              "      <td>0.000004</td>\n",
              "      <td>0.000011</td>\n",
              "    </tr>\n",
              "    <tr>\n",
              "      <th>17125</th>\n",
              "      <td>zay</td>\n",
              "      <td>False</td>\n",
              "      <td>1</td>\n",
              "      <td>0.000004</td>\n",
              "      <td>0.000011</td>\n",
              "    </tr>\n",
              "    <tr>\n",
              "      <th>17126</th>\n",
              "      <td>zeal</td>\n",
              "      <td>False</td>\n",
              "      <td>2</td>\n",
              "      <td>0.000009</td>\n",
              "      <td>0.000022</td>\n",
              "    </tr>\n",
              "    <tr>\n",
              "      <th>17127</th>\n",
              "      <td>zealand</td>\n",
              "      <td>False</td>\n",
              "      <td>7</td>\n",
              "      <td>0.000030</td>\n",
              "      <td>0.000077</td>\n",
              "    </tr>\n",
              "    <tr>\n",
              "      <th>17128</th>\n",
              "      <td>zealanders</td>\n",
              "      <td>False</td>\n",
              "      <td>1</td>\n",
              "      <td>0.000004</td>\n",
              "      <td>0.000011</td>\n",
              "    </tr>\n",
              "    <tr>\n",
              "      <th>17129</th>\n",
              "      <td>zephyr</td>\n",
              "      <td>False</td>\n",
              "      <td>1</td>\n",
              "      <td>0.000004</td>\n",
              "      <td>0.000011</td>\n",
              "    </tr>\n",
              "    <tr>\n",
              "      <th>17130</th>\n",
              "      <td>zeuglodon</td>\n",
              "      <td>False</td>\n",
              "      <td>1</td>\n",
              "      <td>0.000004</td>\n",
              "      <td>0.000011</td>\n",
              "    </tr>\n",
              "    <tr>\n",
              "      <th>17131</th>\n",
              "      <td>zig</td>\n",
              "      <td>False</td>\n",
              "      <td>1</td>\n",
              "      <td>0.000004</td>\n",
              "      <td>0.000011</td>\n",
              "    </tr>\n",
              "    <tr>\n",
              "      <th>17132</th>\n",
              "      <td>zodiac</td>\n",
              "      <td>False</td>\n",
              "      <td>5</td>\n",
              "      <td>0.000022</td>\n",
              "      <td>0.000055</td>\n",
              "    </tr>\n",
              "    <tr>\n",
              "      <th>17133</th>\n",
              "      <td>zogranda</td>\n",
              "      <td>False</td>\n",
              "      <td>1</td>\n",
              "      <td>0.000004</td>\n",
              "      <td>0.000011</td>\n",
              "    </tr>\n",
              "    <tr>\n",
              "      <th>17134</th>\n",
              "      <td>zone</td>\n",
              "      <td>False</td>\n",
              "      <td>5</td>\n",
              "      <td>0.000022</td>\n",
              "      <td>0.000055</td>\n",
              "    </tr>\n",
              "    <tr>\n",
              "      <th>17135</th>\n",
              "      <td>zoned</td>\n",
              "      <td>False</td>\n",
              "      <td>2</td>\n",
              "      <td>0.000009</td>\n",
              "      <td>0.000022</td>\n",
              "    </tr>\n",
              "    <tr>\n",
              "      <th>17136</th>\n",
              "      <td>zones</td>\n",
              "      <td>False</td>\n",
              "      <td>3</td>\n",
              "      <td>0.000013</td>\n",
              "      <td>0.000033</td>\n",
              "    </tr>\n",
              "    <tr>\n",
              "      <th>17137</th>\n",
              "      <td>zoology</td>\n",
              "      <td>False</td>\n",
              "      <td>2</td>\n",
              "      <td>0.000009</td>\n",
              "      <td>0.000022</td>\n",
              "    </tr>\n",
              "    <tr>\n",
              "      <th>17138</th>\n",
              "      <td>zoroaster</td>\n",
              "      <td>False</td>\n",
              "      <td>1</td>\n",
              "      <td>0.000004</td>\n",
              "      <td>0.000011</td>\n",
              "    </tr>\n",
              "  </tbody>\n",
              "</table>\n",
              "<p>17139 rows × 5 columns</p>\n",
              "</div>"
            ],
            "text/plain": [
              "               term     sw      n      freq  adj_freq\n",
              "term_id                                              \n",
              "0                     True  12761  0.055153       NaN\n",
              "1               000   True     20  0.000086       NaN\n",
              "2                 1   True      2  0.000009       NaN\n",
              "3                10   True      4  0.000017       NaN\n",
              "4               100   True      1  0.000004       NaN\n",
              "5               101   True      1  0.000004       NaN\n",
              "6               102   True      1  0.000004       NaN\n",
              "7               103   True      1  0.000004       NaN\n",
              "8               104   True      1  0.000004       NaN\n",
              "9               105   True      1  0.000004       NaN\n",
              "10              106   True      1  0.000004       NaN\n",
              "11              107   True      1  0.000004       NaN\n",
              "12              108   True      1  0.000004       NaN\n",
              "13              109   True      1  0.000004       NaN\n",
              "14               11   True      1  0.000004       NaN\n",
              "15              110   True      1  0.000004       NaN\n",
              "16              111   True      1  0.000004       NaN\n",
              "17              112   True      1  0.000004       NaN\n",
              "18              113   True      1  0.000004       NaN\n",
              "19              114   True      1  0.000004       NaN\n",
              "20              115   True      1  0.000004       NaN\n",
              "21              116   True      1  0.000004       NaN\n",
              "22              117   True      1  0.000004       NaN\n",
              "23              118   True      1  0.000004       NaN\n",
              "24              119   True      1  0.000004       NaN\n",
              "25               12   True      1  0.000004       NaN\n",
              "26              120   True      1  0.000004       NaN\n",
              "27              121   True      1  0.000004       NaN\n",
              "28              122   True      1  0.000004       NaN\n",
              "29              123   True      1  0.000004       NaN\n",
              "...             ...    ...    ...       ...       ...\n",
              "17109          yore  False      2  0.000009  0.000022\n",
              "17110          york  False      6  0.000026  0.000066\n",
              "17111     yorkshire  False      1  0.000004  0.000011\n",
              "17112           you   True    894  0.003864       NaN\n",
              "17113         young  False     80  0.000346  0.000881\n",
              "17114       younger  False      2  0.000009  0.000022\n",
              "17115      youngest  False      1  0.000004  0.000011\n",
              "17116      youngish  False      1  0.000004  0.000011\n",
              "17117          your   True    249  0.001076       NaN\n",
              "17118         yours   True      9  0.000039       NaN\n",
              "17119     yourselbs  False      1  0.000004  0.000011\n",
              "17120      yourself   True     26  0.000112       NaN\n",
              "17121    yourselves   True      7  0.000030       NaN\n",
              "17122         youth  False      9  0.000039  0.000099\n",
              "17123      youthful  False      2  0.000009  0.000022\n",
              "17124           zag  False      1  0.000004  0.000011\n",
              "17125           zay  False      1  0.000004  0.000011\n",
              "17126          zeal  False      2  0.000009  0.000022\n",
              "17127       zealand  False      7  0.000030  0.000077\n",
              "17128    zealanders  False      1  0.000004  0.000011\n",
              "17129        zephyr  False      1  0.000004  0.000011\n",
              "17130     zeuglodon  False      1  0.000004  0.000011\n",
              "17131           zig  False      1  0.000004  0.000011\n",
              "17132        zodiac  False      5  0.000022  0.000055\n",
              "17133      zogranda  False      1  0.000004  0.000011\n",
              "17134          zone  False      5  0.000022  0.000055\n",
              "17135         zoned  False      2  0.000009  0.000022\n",
              "17136         zones  False      3  0.000013  0.000033\n",
              "17137       zoology  False      2  0.000009  0.000022\n",
              "17138     zoroaster  False      1  0.000004  0.000011\n",
              "\n",
              "[17139 rows x 5 columns]"
            ]
          },
          "metadata": {
            "tags": []
          },
          "execution_count": 234
        }
      ]
    },
    {
      "metadata": {
        "id": "l_ZDR9X-tbkt",
        "colab_type": "code",
        "outputId": "fce0a0e2-dc10-4865-8174-529a08116b34",
        "colab": {
          "base_uri": "https://localhost:8080/",
          "height": 235
        }
      },
      "cell_type": "code",
      "source": [
        "moby_bow_chaps.head()"
      ],
      "execution_count": 0,
      "outputs": [
        {
          "output_type": "execute_result",
          "data": {
            "text/html": [
              "<div>\n",
              "<style scoped>\n",
              "    .dataframe tbody tr th:only-of-type {\n",
              "        vertical-align: middle;\n",
              "    }\n",
              "\n",
              "    .dataframe tbody tr th {\n",
              "        vertical-align: top;\n",
              "    }\n",
              "\n",
              "    .dataframe thead th {\n",
              "        text-align: right;\n",
              "    }\n",
              "</style>\n",
              "<table border=\"1\" class=\"dataframe\">\n",
              "  <thead>\n",
              "    <tr style=\"text-align: right;\">\n",
              "      <th></th>\n",
              "      <th></th>\n",
              "      <th>n</th>\n",
              "      <th>tfidf</th>\n",
              "    </tr>\n",
              "    <tr>\n",
              "      <th>chap_id</th>\n",
              "      <th>term_id</th>\n",
              "      <th></th>\n",
              "      <th></th>\n",
              "    </tr>\n",
              "  </thead>\n",
              "  <tbody>\n",
              "    <tr>\n",
              "      <th rowspan=\"5\" valign=\"top\">0</th>\n",
              "      <th>223</th>\n",
              "      <td>1</td>\n",
              "      <td>0.004248</td>\n",
              "    </tr>\n",
              "    <tr>\n",
              "      <th>259</th>\n",
              "      <td>1</td>\n",
              "      <td>0.003841</td>\n",
              "    </tr>\n",
              "    <tr>\n",
              "      <th>260</th>\n",
              "      <td>1</td>\n",
              "      <td>0.004010</td>\n",
              "    </tr>\n",
              "    <tr>\n",
              "      <th>289</th>\n",
              "      <td>2</td>\n",
              "      <td>0.005530</td>\n",
              "    </tr>\n",
              "    <tr>\n",
              "      <th>319</th>\n",
              "      <td>1</td>\n",
              "      <td>0.004010</td>\n",
              "    </tr>\n",
              "  </tbody>\n",
              "</table>\n",
              "</div>"
            ],
            "text/plain": [
              "                 n     tfidf\n",
              "chap_id term_id             \n",
              "0       223      1  0.004248\n",
              "        259      1  0.003841\n",
              "        260      1  0.004010\n",
              "        289      2  0.005530\n",
              "        319      1  0.004010"
            ]
          },
          "metadata": {
            "tags": []
          },
          "execution_count": 179
        }
      ]
    },
    {
      "metadata": {
        "id": "KSm6YLUhsotu",
        "colab_type": "code",
        "colab": {}
      },
      "cell_type": "code",
      "source": [
        "n_chaps = len(moby_dtm_chaps.index)"
      ],
      "execution_count": 0,
      "outputs": []
    },
    {
      "metadata": {
        "id": "oxjxPO0Rtk-f",
        "colab_type": "code",
        "outputId": "70ebbf90-c2d8-44b7-de97-a938e634f5d1",
        "colab": {
          "base_uri": "https://localhost:8080/",
          "height": 34
        }
      },
      "cell_type": "code",
      "source": [
        "n_chaps"
      ],
      "execution_count": 0,
      "outputs": [
        {
          "output_type": "execute_result",
          "data": {
            "text/plain": [
              "137"
            ]
          },
          "metadata": {
            "tags": []
          },
          "execution_count": 160
        }
      ]
    },
    {
      "metadata": {
        "id": "ev0Eb6DBz2HI",
        "colab_type": "code",
        "outputId": "a6188758-3791-4a29-cd1d-c8680d9d764b",
        "colab": {
          "base_uri": "https://localhost:8080/",
          "height": 136
        }
      },
      "cell_type": "code",
      "source": [
        "moby_bow_chaps.groupby('term_id').n.count().div(n_chaps).sort_values(ascending=False).head()"
      ],
      "execution_count": 0,
      "outputs": [
        {
          "output_type": "execute_result",
          "data": {
            "text/plain": [
              "term_id\n",
              "2520     0.992701\n",
              "9146     0.832117\n",
              "16715    0.795620\n",
              "8918     0.781022\n",
              "13008    0.737226\n",
              "Name: n, dtype: float64"
            ]
          },
          "metadata": {
            "tags": []
          },
          "execution_count": 167
        }
      ]
    },
    {
      "metadata": {
        "id": "ZuSbqIsGt4Hh",
        "colab_type": "code",
        "outputId": "578f22e4-55b0-4f42-a997-4a1acdadc901",
        "colab": {
          "base_uri": "https://localhost:8080/",
          "height": 34
        }
      },
      "cell_type": "code",
      "source": [
        "moby_vocab.loc[8918].term"
      ],
      "execution_count": 0,
      "outputs": [
        {
          "output_type": "execute_result",
          "data": {
            "text/plain": [
              "'long'"
            ]
          },
          "metadata": {
            "tags": []
          },
          "execution_count": 191
        }
      ]
    },
    {
      "metadata": {
        "id": "lefTl7aTuFOe",
        "colab_type": "code",
        "colab": {}
      },
      "cell_type": "code",
      "source": [
        ""
      ],
      "execution_count": 0,
      "outputs": []
    }
  ]
}